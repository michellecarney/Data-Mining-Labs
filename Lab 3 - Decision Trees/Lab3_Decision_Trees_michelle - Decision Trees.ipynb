{
 "cells": [
  {
   "cell_type": "markdown",
   "metadata": {},
   "source": [
    "# Lab 3- Decision Trees\n",
    "## michelle.carney@berkeley.edu\n",
    "## Data Mining 290T\n",
    "### Team: Michelle, Carina, Shannon, Lucia"
   ]
  },
  {
   "cell_type": "markdown",
   "metadata": {},
   "source": [
    "This assignment uses a dataset obtained from the JSE Data Archive that aims at identifying whether there is a statistically significant dependence between gender and biological/activity traits in humans. \n",
    "\n",
    "FEATURE DESCRIPTIONS: \n",
    "\n",
    "<ul>\n",
    "<li>Color (Blue, Brown, Green, Hazel, Other)\n",
    "<li>Age (in years)\n",
    "<li>YearinSchool (First, Second, Third, Fourth, Other)\n",
    "<li>Height (in inches)\n",
    "<li>Miles (distance from home town of student to Ames, IA) \n",
    "<li>Brothers (number of brothers)\n",
    "<li>Sisters (number of sisters)\n",
    "<li>CompTime (number of hours spent on computer per week)\n",
    "<li>Exercise (whether the student exercises Yes or No)\n",
    "<li>ExerTime (number of hours spent exercising per week)\n",
    "<li>MusicCDs (number of music CDs student owns)\n",
    "<li>PlayGames (number of hours spent playing games per week)\n",
    "<li>WatchTV (number of hours spent watching TV per week\n",
    "</ul>\n",
    "\n",
    "https://ww2.amstat.org/publications/jse/jse_data_archive.htm"
   ]
  },
  {
   "cell_type": "code",
   "execution_count": 90,
   "metadata": {
    "collapsed": false
   },
   "outputs": [],
   "source": [
    "from __future__ import division\n",
    "from collections import Counter, defaultdict\n",
    "from itertools import combinations \n",
    "import pandas as pd\n",
    "import numpy as np\n",
    "import math\n",
    "import operator\n",
    "import sklearn\n",
    "from sklearn.tree import DecisionTreeClassifier,export_graphviz\n",
    "from sklearn.feature_extraction import DictVectorizer\n",
    "from sklearn import preprocessing\n",
    "from IPython.display import Image  \n",
    "import pydotplus "
   ]
  },
  {
   "cell_type": "code",
   "execution_count": 91,
   "metadata": {
    "collapsed": false
   },
   "outputs": [
    {
     "data": {
      "text/html": [
       "<div>\n",
       "<table border=\"1\" class=\"dataframe\">\n",
       "  <thead>\n",
       "    <tr style=\"text-align: right;\">\n",
       "      <th></th>\n",
       "      <th>gender</th>\n",
       "      <th>age</th>\n",
       "      <th>year</th>\n",
       "      <th>eyecolor</th>\n",
       "      <th>height</th>\n",
       "      <th>miles</th>\n",
       "      <th>brothers</th>\n",
       "      <th>sisters</th>\n",
       "      <th>computertime</th>\n",
       "      <th>exercise</th>\n",
       "      <th>exercisehours</th>\n",
       "      <th>musiccds</th>\n",
       "      <th>playgames</th>\n",
       "      <th>watchtv</th>\n",
       "    </tr>\n",
       "  </thead>\n",
       "  <tbody>\n",
       "    <tr>\n",
       "      <th>0</th>\n",
       "      <td>female</td>\n",
       "      <td>18</td>\n",
       "      <td>first</td>\n",
       "      <td>hazel</td>\n",
       "      <td>68.0</td>\n",
       "      <td>195.0</td>\n",
       "      <td>0</td>\n",
       "      <td>1</td>\n",
       "      <td>20.0</td>\n",
       "      <td>Yes</td>\n",
       "      <td>3.0</td>\n",
       "      <td>75.0</td>\n",
       "      <td>6.0</td>\n",
       "      <td>18.0</td>\n",
       "    </tr>\n",
       "    <tr>\n",
       "      <th>1</th>\n",
       "      <td>male</td>\n",
       "      <td>20</td>\n",
       "      <td>third</td>\n",
       "      <td>brown</td>\n",
       "      <td>70.0</td>\n",
       "      <td>120.0</td>\n",
       "      <td>3</td>\n",
       "      <td>0</td>\n",
       "      <td>24.0</td>\n",
       "      <td>No</td>\n",
       "      <td>0.0</td>\n",
       "      <td>50.0</td>\n",
       "      <td>0.0</td>\n",
       "      <td>3.0</td>\n",
       "    </tr>\n",
       "    <tr>\n",
       "      <th>2</th>\n",
       "      <td>female</td>\n",
       "      <td>18</td>\n",
       "      <td>first</td>\n",
       "      <td>green</td>\n",
       "      <td>67.0</td>\n",
       "      <td>200.0</td>\n",
       "      <td>0</td>\n",
       "      <td>1</td>\n",
       "      <td>35.0</td>\n",
       "      <td>Yes</td>\n",
       "      <td>3.0</td>\n",
       "      <td>53.0</td>\n",
       "      <td>8.0</td>\n",
       "      <td>1.0</td>\n",
       "    </tr>\n",
       "    <tr>\n",
       "      <th>3</th>\n",
       "      <td>male</td>\n",
       "      <td>23</td>\n",
       "      <td>fourth</td>\n",
       "      <td>hazel</td>\n",
       "      <td>74.0</td>\n",
       "      <td>140.0</td>\n",
       "      <td>1</td>\n",
       "      <td>1</td>\n",
       "      <td>5.0</td>\n",
       "      <td>Yes</td>\n",
       "      <td>25.0</td>\n",
       "      <td>50.0</td>\n",
       "      <td>0.0</td>\n",
       "      <td>7.0</td>\n",
       "    </tr>\n",
       "    <tr>\n",
       "      <th>4</th>\n",
       "      <td>female</td>\n",
       "      <td>19</td>\n",
       "      <td>second</td>\n",
       "      <td>blue</td>\n",
       "      <td>62.0</td>\n",
       "      <td>60.0</td>\n",
       "      <td>0</td>\n",
       "      <td>1</td>\n",
       "      <td>5.0</td>\n",
       "      <td>Yes</td>\n",
       "      <td>4.0</td>\n",
       "      <td>30.0</td>\n",
       "      <td>2.0</td>\n",
       "      <td>5.0</td>\n",
       "    </tr>\n",
       "  </tbody>\n",
       "</table>\n",
       "</div>"
      ],
      "text/plain": [
       "   gender  age    year eyecolor  height  miles  brothers  sisters  \\\n",
       "0  female   18   first    hazel    68.0  195.0         0        1   \n",
       "1    male   20   third    brown    70.0  120.0         3        0   \n",
       "2  female   18   first    green    67.0  200.0         0        1   \n",
       "3    male   23  fourth    hazel    74.0  140.0         1        1   \n",
       "4  female   19  second     blue    62.0   60.0         0        1   \n",
       "\n",
       "   computertime exercise  exercisehours  musiccds  playgames  watchtv  \n",
       "0          20.0      Yes            3.0      75.0        6.0     18.0  \n",
       "1          24.0       No            0.0      50.0        0.0      3.0  \n",
       "2          35.0      Yes            3.0      53.0        8.0      1.0  \n",
       "3           5.0      Yes           25.0      50.0        0.0      7.0  \n",
       "4           5.0      Yes            4.0      30.0        2.0      5.0  "
      ]
     },
     "execution_count": 91,
     "metadata": {},
     "output_type": "execute_result"
    }
   ],
   "source": [
    "df = pd.read_csv('Eye_Color.csv')\n",
    "\n",
    "df.head()"
   ]
  },
  {
   "cell_type": "code",
   "execution_count": 92,
   "metadata": {
    "collapsed": false
   },
   "outputs": [],
   "source": [
    "df = df.dropna(axis=0, how='any', thresh=None, subset=None, inplace=False)\n",
    "df = df.reset_index(drop=True)"
   ]
  },
  {
   "cell_type": "markdown",
   "metadata": {},
   "source": [
    "# Calculating Gini Index "
   ]
  },
  {
   "cell_type": "markdown",
   "metadata": {},
   "source": [
    "\n",
    "\n",
    "**Question 1: How many rows are there in the dataset for males? For females? **\n",
    "\n",
    "There are 910 rows for males and 1078 rows for females in the dataset\n",
    "\n"
   ]
  },
  {
   "cell_type": "code",
   "execution_count": 93,
   "metadata": {
    "collapsed": false
   },
   "outputs": [
    {
     "data": {
      "text/plain": [
       "1988"
      ]
     },
     "execution_count": 93,
     "metadata": {},
     "output_type": "execute_result"
    }
   ],
   "source": [
    "len(df)"
   ]
  },
  {
   "cell_type": "code",
   "execution_count": 94,
   "metadata": {
    "collapsed": false
   },
   "outputs": [
    {
     "name": "stdout",
     "output_type": "stream",
     "text": [
      "910\n",
      "1078\n"
     ]
    }
   ],
   "source": [
    "num_males = len(df[(df.loc[:,'gender'] == 'male')])\n",
    "num_females =len(df[df['gender']=='female'])\n",
    "\n",
    "print(num_males)\n",
    "print(num_females)"
   ]
  },
  {
   "cell_type": "markdown",
   "metadata": {},
   "source": [
    "**Question 2: What is the Gini Index of this dataset, using males and females as the target classes?**\n",
    "\n",
    "The Gini Index in this dataset is 0.496."
   ]
  },
  {
   "cell_type": "code",
   "execution_count": 95,
   "metadata": {
    "collapsed": false
   },
   "outputs": [
    {
     "name": "stdout",
     "output_type": "stream",
     "text": [
      "0.5422535211267606\n",
      "0.45774647887323944\n"
     ]
    }
   ],
   "source": [
    "prob_female = num_females / len(df)\n",
    "print(prob_female)\n",
    "prob_male = num_males / len(df)\n",
    "print(prob_male)"
   ]
  },
  {
   "cell_type": "code",
   "execution_count": 96,
   "metadata": {
    "collapsed": false
   },
   "outputs": [
    {
     "data": {
      "text/plain": [
       "0.4964292799047807"
      ]
     },
     "execution_count": 96,
     "metadata": {},
     "output_type": "execute_result"
    }
   ],
   "source": [
    "gini_ind_or = 1 - (math.pow(prob_male,2) + math.pow(prob_female,2))\n",
    "gini_ind_or"
   ]
  },
  {
   "cell_type": "markdown",
   "metadata": {},
   "source": [
    "## Best Split of a Numeric Feature"
   ]
  },
  {
   "cell_type": "markdown",
   "metadata": {},
   "source": [
    "**Question 3: What is the best split point of the 'height' feature. **\n",
    "\n",
    "It's at 885 - height 68.0."
   ]
  },
  {
   "cell_type": "code",
   "execution_count": 97,
   "metadata": {
    "collapsed": false
   },
   "outputs": [],
   "source": [
    "df.sort_values(by='height', inplace=True)\n"
   ]
  },
  {
   "cell_type": "code",
   "execution_count": 98,
   "metadata": {
    "collapsed": false
   },
   "outputs": [
    {
     "data": {
      "text/html": [
       "<div>\n",
       "<table border=\"1\" class=\"dataframe\">\n",
       "  <thead>\n",
       "    <tr style=\"text-align: right;\">\n",
       "      <th></th>\n",
       "      <th>gender</th>\n",
       "      <th>age</th>\n",
       "      <th>year</th>\n",
       "      <th>eyecolor</th>\n",
       "      <th>height</th>\n",
       "      <th>miles</th>\n",
       "      <th>brothers</th>\n",
       "      <th>sisters</th>\n",
       "      <th>computertime</th>\n",
       "      <th>exercise</th>\n",
       "      <th>exercisehours</th>\n",
       "      <th>musiccds</th>\n",
       "      <th>playgames</th>\n",
       "      <th>watchtv</th>\n",
       "    </tr>\n",
       "  </thead>\n",
       "  <tbody>\n",
       "    <tr>\n",
       "      <th>0</th>\n",
       "      <td>female</td>\n",
       "      <td>20</td>\n",
       "      <td>third</td>\n",
       "      <td>blue</td>\n",
       "      <td>44.0</td>\n",
       "      <td>30.0</td>\n",
       "      <td>0</td>\n",
       "      <td>1</td>\n",
       "      <td>7.0</td>\n",
       "      <td>Yes</td>\n",
       "      <td>4.0</td>\n",
       "      <td>200.0</td>\n",
       "      <td>0.0</td>\n",
       "      <td>5.0</td>\n",
       "    </tr>\n",
       "    <tr>\n",
       "      <th>1</th>\n",
       "      <td>female</td>\n",
       "      <td>19</td>\n",
       "      <td>second</td>\n",
       "      <td>blue</td>\n",
       "      <td>52.0</td>\n",
       "      <td>0.0</td>\n",
       "      <td>2</td>\n",
       "      <td>1</td>\n",
       "      <td>4.0</td>\n",
       "      <td>Yes</td>\n",
       "      <td>4.0</td>\n",
       "      <td>200.0</td>\n",
       "      <td>1.0</td>\n",
       "      <td>4.0</td>\n",
       "    </tr>\n",
       "    <tr>\n",
       "      <th>2</th>\n",
       "      <td>female</td>\n",
       "      <td>21</td>\n",
       "      <td>third</td>\n",
       "      <td>green</td>\n",
       "      <td>54.0</td>\n",
       "      <td>64.0</td>\n",
       "      <td>1</td>\n",
       "      <td>1</td>\n",
       "      <td>10.0</td>\n",
       "      <td>Yes</td>\n",
       "      <td>3.0</td>\n",
       "      <td>113.0</td>\n",
       "      <td>0.0</td>\n",
       "      <td>6.0</td>\n",
       "    </tr>\n",
       "    <tr>\n",
       "      <th>3</th>\n",
       "      <td>female</td>\n",
       "      <td>18</td>\n",
       "      <td>first</td>\n",
       "      <td>blue</td>\n",
       "      <td>56.0</td>\n",
       "      <td>570.0</td>\n",
       "      <td>0</td>\n",
       "      <td>1</td>\n",
       "      <td>12.0</td>\n",
       "      <td>Yes</td>\n",
       "      <td>14.0</td>\n",
       "      <td>100.0</td>\n",
       "      <td>21.0</td>\n",
       "      <td>14.0</td>\n",
       "    </tr>\n",
       "    <tr>\n",
       "      <th>4</th>\n",
       "      <td>female</td>\n",
       "      <td>20</td>\n",
       "      <td>third</td>\n",
       "      <td>brown</td>\n",
       "      <td>56.0</td>\n",
       "      <td>165.0</td>\n",
       "      <td>1</td>\n",
       "      <td>3</td>\n",
       "      <td>16.0</td>\n",
       "      <td>No</td>\n",
       "      <td>0.0</td>\n",
       "      <td>80.0</td>\n",
       "      <td>0.0</td>\n",
       "      <td>14.0</td>\n",
       "    </tr>\n",
       "  </tbody>\n",
       "</table>\n",
       "</div>"
      ],
      "text/plain": [
       "   gender  age    year eyecolor  height  miles  brothers  sisters  \\\n",
       "0  female   20   third     blue    44.0   30.0         0        1   \n",
       "1  female   19  second     blue    52.0    0.0         2        1   \n",
       "2  female   21   third    green    54.0   64.0         1        1   \n",
       "3  female   18   first     blue    56.0  570.0         0        1   \n",
       "4  female   20   third    brown    56.0  165.0         1        3   \n",
       "\n",
       "   computertime exercise  exercisehours  musiccds  playgames  watchtv  \n",
       "0           7.0      Yes            4.0     200.0        0.0      5.0  \n",
       "1           4.0      Yes            4.0     200.0        1.0      4.0  \n",
       "2          10.0      Yes            3.0     113.0        0.0      6.0  \n",
       "3          12.0      Yes           14.0     100.0       21.0     14.0  \n",
       "4          16.0       No            0.0      80.0        0.0     14.0  "
      ]
     },
     "execution_count": 98,
     "metadata": {},
     "output_type": "execute_result"
    }
   ],
   "source": [
    "df = df.reset_index(drop=True)\n",
    "df.head()"
   ]
  },
  {
   "cell_type": "code",
   "execution_count": 99,
   "metadata": {
    "collapsed": false
   },
   "outputs": [
    {
     "data": {
      "text/plain": [
       "44.0"
      ]
     },
     "execution_count": 99,
     "metadata": {},
     "output_type": "execute_result"
    }
   ],
   "source": [
    "height_col = df['height']\n",
    "height_col[0]"
   ]
  },
  {
   "cell_type": "code",
   "execution_count": 100,
   "metadata": {
    "collapsed": false
   },
   "outputs": [],
   "source": [
    "start_ind = 0\n",
    "sec_ind = 1\n",
    "\n",
    "gini_ind_list = []\n",
    "first_para_list = []\n",
    "\n",
    "while sec_ind <len(df): #while not at the end of the list, continue\n",
    "    first_para = height_col[start_ind] #first parameter\n",
    "    #print(first_para)\n",
    "    second_para = height_col[sec_ind] #second parameter\n",
    "    #print(second_para)\n",
    "    left_side = df[df['height'] <= first_para] #df for left side\n",
    "    right_side = df[df['height'] > first_para] #df for right side\n",
    "    num_left = len(left_side) #count of entries below threshold\n",
    "    num_right = len(right_side) #count of entries above threshold\n",
    "    num_fem_left = len(left_side[left_side['gender'] == 'female'])\n",
    "    num_male_left = len(left_side[left_side['gender'] == 'male'])\n",
    "    num_fem_right = len(right_side[right_side['gender'] == 'female'])\n",
    "    num_male_right = len(right_side[right_side['gender'] == 'male'])\n",
    "    prob_fem_left = num_fem_left / num_left\n",
    "    prob_male_left = num_male_left / num_left\n",
    "    prob_fem_right = num_fem_right / num_right\n",
    "    prob_male_right = num_male_right / num_right\n",
    "    gini_ind_left = 1 - (math.pow(prob_male_left,2) + math.pow(prob_fem_left,2))\n",
    "    gini_ind_right = 1 - (math.pow(prob_male_right,2) + math.pow(prob_fem_right,2))\n",
    "    gini_ind = (num_left * gini_ind_left + num_right * gini_ind_right) / (num_left + num_right)\n",
    "    gini_ind_list.append(gini_ind)\n",
    "    first_para_list.append(first_para)\n",
    "    start_ind += 1\n",
    "    sec_ind += 1\n"
   ]
  },
  {
   "cell_type": "code",
   "execution_count": 101,
   "metadata": {
    "collapsed": false
   },
   "outputs": [
    {
     "name": "stdout",
     "output_type": "stream",
     "text": [
      "0.2655288120702919\n",
      "68.0\n"
     ]
    }
   ],
   "source": [
    "print(min(gini_ind_list))\n",
    "opt_ind = gini_ind_list.index(min(gini_ind_list))\n",
    "print(first_para_list[opt_ind])"
   ]
  },
  {
   "cell_type": "code",
   "execution_count": 102,
   "metadata": {
    "collapsed": false
   },
   "outputs": [
    {
     "data": {
      "text/plain": [
       "gender             male\n",
       "age                  21\n",
       "year             fourth\n",
       "eyecolor          brown\n",
       "height               68\n",
       "miles               236\n",
       "brothers              1\n",
       "sisters               1\n",
       "computertime         10\n",
       "exercise             No\n",
       "exercisehours         0\n",
       "musiccds             50\n",
       "playgames             1\n",
       "watchtv              10\n",
       "Name: 885, dtype: object"
      ]
     },
     "execution_count": 102,
     "metadata": {},
     "output_type": "execute_result"
    }
   ],
   "source": [
    "df.iloc[opt_ind,:]"
   ]
  },
  {
   "cell_type": "markdown",
   "metadata": {},
   "source": [
    "**Question 4: What is the Gini Index of this best split?**\n",
    "\n",
    "Gini index of this best split is 0.26"
   ]
  },
  {
   "cell_type": "code",
   "execution_count": 103,
   "metadata": {
    "collapsed": false
   },
   "outputs": [
    {
     "name": "stdout",
     "output_type": "stream",
     "text": [
      "0.2655288120702919\n"
     ]
    }
   ],
   "source": [
    "print(min(gini_ind_list))"
   ]
  },
  {
   "cell_type": "markdown",
   "metadata": {},
   "source": [
    "**Question 5: How much does this partitioning reduce the Gini Index over that of the overall dataset?**\n",
    "\n",
    "It reduces the original gini index by 0.23."
   ]
  },
  {
   "cell_type": "code",
   "execution_count": 104,
   "metadata": {
    "collapsed": false
   },
   "outputs": [
    {
     "data": {
      "text/plain": [
       "0.2309004678344888"
      ]
     },
     "execution_count": 104,
     "metadata": {},
     "output_type": "execute_result"
    }
   ],
   "source": [
    "gini_ind_or - min(gini_ind_list)"
   ]
  },
  {
   "cell_type": "markdown",
   "metadata": {},
   "source": [
    "**Question 6: How many 'female' rows are below your best split point? 'male' rows?**\n",
    "\n",
    "There are 273 female rows below and 830 males"
   ]
  },
  {
   "cell_type": "code",
   "execution_count": 105,
   "metadata": {
    "collapsed": false
   },
   "outputs": [
    {
     "name": "stdout",
     "output_type": "stream",
     "text": [
      "273\n",
      "830\n"
     ]
    }
   ],
   "source": [
    "bottom_df = df[opt_ind:]\n",
    "num_fem_bottom = len(bottom_df[bottom_df['gender'] == 'female'])\n",
    "print(num_fem_bottom)\n",
    "num_male_bottom = len(bottom_df[bottom_df['gender'] == 'male'])\n",
    "print(num_male_bottom)"
   ]
  },
  {
   "cell_type": "markdown",
   "metadata": {},
   "source": [
    "**Question 7: How many 'female' rows are above your best split point? 'male' rows?**\n",
    "\n",
    "There are 805 females and 80 males above the optimal split point."
   ]
  },
  {
   "cell_type": "code",
   "execution_count": 106,
   "metadata": {
    "collapsed": false
   },
   "outputs": [
    {
     "name": "stdout",
     "output_type": "stream",
     "text": [
      "805\n",
      "80\n"
     ]
    }
   ],
   "source": [
    "top_df = df[:opt_ind]\n",
    "num_fem_top = len(top_df[top_df['gender'] == 'female'])\n",
    "print(num_fem_top)\n",
    "num_male_top = len(top_df[top_df['gender'] == 'male'])\n",
    "print(num_male_top)"
   ]
  },
  {
   "cell_type": "markdown",
   "metadata": {},
   "source": [
    "Recall that, to calculate the best split of this numeric field, you'll need to order your data by 'height', then consider the midpoint between each pair of consecutive heights as a potential split point, then calculate the Gini Index for that partitioning. You'll want to keep track of the best split point and its Gini Index (remember that you are trying to minimize the Gini Index). \n",
    "\n",
    "There are a lot of ways to do this. Some are very fast, others very slow. One tip to make this run quickly is, as you consecutively step through the data and calculate the Gini Index of each possible split point, keep a running total of the number of rows for each candidate that are located above and below the split point. \n",
    "\n",
    "Some Python tips: \n",
    "\n",
    "* Counter(), from the collections module, is a special dictionary for counting values of a key\n",
    "* zip() lets you concatenate lists into a list of tuples (for example, if we have a list of the candidates and a list of transaction amounts, zip(candidate_list, transaction_amount) would give us a list of (candidate, transaction amount) pairs"
   ]
  },
  {
   "cell_type": "markdown",
   "metadata": {},
   "source": [
    "## Best Split of a Categorial Variable"
   ]
  },
  {
   "cell_type": "markdown",
   "metadata": {},
   "source": [
    "**Question 8: How many possible splits are there of the eyecolor feature?**\n",
    "\n",
    "There are 15 possible splits."
   ]
  },
  {
   "cell_type": "code",
   "execution_count": 107,
   "metadata": {
    "collapsed": false
   },
   "outputs": [
    {
     "data": {
      "text/plain": [
       "15"
      ]
     },
     "execution_count": 107,
     "metadata": {},
     "output_type": "execute_result"
    }
   ],
   "source": [
    "cat_colors = df['eyecolor'].unique()\n",
    "poss_combinations = []\n",
    "for item in combinations(cat_colors,1):\n",
    "    poss_combinations.append(item)\n",
    "for item in combinations(cat_colors,2):\n",
    "    poss_combinations.append(item)\n",
    "len(poss_combinations)"
   ]
  },
  {
   "cell_type": "markdown",
   "metadata": {},
   "source": [
    "**Question 9: Which split of eyecolor best splits the female and male rows, as measured by the Gini Index?**\n",
    "\n",
    "The best split is when we use 'green' by itself vs. all other eye colors."
   ]
  },
  {
   "cell_type": "code",
   "execution_count": 108,
   "metadata": {
    "collapsed": false
   },
   "outputs": [
    {
     "data": {
      "text/html": [
       "<div>\n",
       "<table border=\"1\" class=\"dataframe\">\n",
       "  <thead>\n",
       "    <tr style=\"text-align: right;\">\n",
       "      <th></th>\n",
       "      <th>combinations</th>\n",
       "      <th>complements</th>\n",
       "    </tr>\n",
       "  </thead>\n",
       "  <tbody>\n",
       "    <tr>\n",
       "      <th>0</th>\n",
       "      <td>(blue,)</td>\n",
       "      <td>(other, hazel, green, brown)</td>\n",
       "    </tr>\n",
       "    <tr>\n",
       "      <th>1</th>\n",
       "      <td>(green,)</td>\n",
       "      <td>(other, hazel, blue, brown)</td>\n",
       "    </tr>\n",
       "    <tr>\n",
       "      <th>2</th>\n",
       "      <td>(brown,)</td>\n",
       "      <td>(other, hazel, green, blue)</td>\n",
       "    </tr>\n",
       "    <tr>\n",
       "      <th>3</th>\n",
       "      <td>(hazel,)</td>\n",
       "      <td>(blue, other, green, brown)</td>\n",
       "    </tr>\n",
       "    <tr>\n",
       "      <th>4</th>\n",
       "      <td>(other,)</td>\n",
       "      <td>(blue, hazel, green, brown)</td>\n",
       "    </tr>\n",
       "    <tr>\n",
       "      <th>5</th>\n",
       "      <td>(blue, green)</td>\n",
       "      <td>(other, hazel, brown)</td>\n",
       "    </tr>\n",
       "    <tr>\n",
       "      <th>6</th>\n",
       "      <td>(blue, brown)</td>\n",
       "      <td>(other, hazel, green)</td>\n",
       "    </tr>\n",
       "    <tr>\n",
       "      <th>7</th>\n",
       "      <td>(blue, hazel)</td>\n",
       "      <td>(other, green, brown)</td>\n",
       "    </tr>\n",
       "    <tr>\n",
       "      <th>8</th>\n",
       "      <td>(blue, other)</td>\n",
       "      <td>(hazel, green, brown)</td>\n",
       "    </tr>\n",
       "    <tr>\n",
       "      <th>9</th>\n",
       "      <td>(green, brown)</td>\n",
       "      <td>(other, hazel, blue)</td>\n",
       "    </tr>\n",
       "    <tr>\n",
       "      <th>10</th>\n",
       "      <td>(green, hazel)</td>\n",
       "      <td>(other, blue, brown)</td>\n",
       "    </tr>\n",
       "    <tr>\n",
       "      <th>11</th>\n",
       "      <td>(green, other)</td>\n",
       "      <td>(hazel, blue, brown)</td>\n",
       "    </tr>\n",
       "    <tr>\n",
       "      <th>12</th>\n",
       "      <td>(brown, hazel)</td>\n",
       "      <td>(other, green, blue)</td>\n",
       "    </tr>\n",
       "    <tr>\n",
       "      <th>13</th>\n",
       "      <td>(brown, other)</td>\n",
       "      <td>(hazel, green, blue)</td>\n",
       "    </tr>\n",
       "    <tr>\n",
       "      <th>14</th>\n",
       "      <td>(hazel, other)</td>\n",
       "      <td>(blue, green, brown)</td>\n",
       "    </tr>\n",
       "  </tbody>\n",
       "</table>\n",
       "</div>"
      ],
      "text/plain": [
       "      combinations                   complements\n",
       "0          (blue,)  (other, hazel, green, brown)\n",
       "1         (green,)   (other, hazel, blue, brown)\n",
       "2         (brown,)   (other, hazel, green, blue)\n",
       "3         (hazel,)   (blue, other, green, brown)\n",
       "4         (other,)   (blue, hazel, green, brown)\n",
       "5    (blue, green)         (other, hazel, brown)\n",
       "6    (blue, brown)         (other, hazel, green)\n",
       "7    (blue, hazel)         (other, green, brown)\n",
       "8    (blue, other)         (hazel, green, brown)\n",
       "9   (green, brown)          (other, hazel, blue)\n",
       "10  (green, hazel)          (other, blue, brown)\n",
       "11  (green, other)          (hazel, blue, brown)\n",
       "12  (brown, hazel)          (other, green, blue)\n",
       "13  (brown, other)          (hazel, green, blue)\n",
       "14  (hazel, other)          (blue, green, brown)"
      ]
     },
     "execution_count": 108,
     "metadata": {},
     "output_type": "execute_result"
    }
   ],
   "source": [
    "total_set = set(cat_colors)\n",
    "right_col = []\n",
    "for item in poss_combinations:\n",
    "    subset = set(item)\n",
    "    right_col.append(tuple(total_set - subset))\n",
    "    \n",
    "right_col\n",
    "\n",
    "combs = {'combinations': poss_combinations, 'complements': right_col}\n",
    "comb_df = pd.DataFrame(data=combs)\n",
    "comb_df"
   ]
  },
  {
   "cell_type": "code",
   "execution_count": 109,
   "metadata": {
    "collapsed": false
   },
   "outputs": [
    {
     "name": "stdout",
     "output_type": "stream",
     "text": [
      "[0.4965382393192283, 0.48629493958954384, 0.49649304864365235, 0.49652645915015603, 0.496033598649653, 0.4967005253306125, 0.4952246606163623, 0.4938323517708188, 0.492321547886767, 0.4947590553072107, 0.49405208204719475, 0.4969331584402623, 0.49632090116507444, 0.49590051222534204, 0.4960687017974789]\n"
     ]
    }
   ],
   "source": [
    "def determineGini (column, index):\n",
    "    count = len(comb_df[column][index])\n",
    "    item = comb_df[column][index]\n",
    "    if count > 1:\n",
    "        total_fem = 0\n",
    "        total_male = 0\n",
    "        for col in item:\n",
    "            new_df = df[df['eyecolor'] == col]\n",
    "            total_len = len(new_df)# number of people with this eye color\n",
    "            num_fem = len(new_df[new_df['gender'] == 'female'])\n",
    "            num_male = total_len - num_fem\n",
    "            total_fem += num_fem\n",
    "            total_male += num_male\n",
    "    else:\n",
    "        col = item[0]\n",
    "        new_df = df[df['eyecolor'] == col]\n",
    "        total_len = len(new_df)\n",
    "\n",
    "        total_fem = len(new_df[new_df['gender'] == 'female'])\n",
    "        total_male = total_len - total_fem\n",
    "\n",
    "    prob_male = total_male / (total_male + total_fem)\n",
    "    prob_fem = total_fem / (total_male + total_fem)\n",
    "    gini_ind = 1 - (math.pow(prob_male,2) + math.pow(prob_fem,2))\n",
    "    \n",
    "    return gini_ind, total_len\n",
    "\n",
    "gini_list = []\n",
    "\n",
    "for i in range(0,15):\n",
    "    gini_ind_left, total_left = determineGini('combinations' , i)\n",
    "    gini_ind_right, total_right = determineGini('complements', i)\n",
    "    gini_ind = (total_left * gini_ind_left + total_right * gini_ind_right) / (total_left + total_right)\n",
    "    gini_list.append(gini_ind)\n",
    "\n",
    "print(gini_list)\n",
    "\n"
   ]
  },
  {
   "cell_type": "code",
   "execution_count": 128,
   "metadata": {
    "collapsed": false
   },
   "outputs": [
    {
     "name": "stdout",
     "output_type": "stream",
     "text": [
      "1\n"
     ]
    },
    {
     "data": {
      "text/html": [
       "<div>\n",
       "<table border=\"1\" class=\"dataframe\">\n",
       "  <thead>\n",
       "    <tr style=\"text-align: right;\">\n",
       "      <th></th>\n",
       "      <th>combinations</th>\n",
       "      <th>complements</th>\n",
       "    </tr>\n",
       "  </thead>\n",
       "  <tbody>\n",
       "    <tr>\n",
       "      <th>1</th>\n",
       "      <td>(green,)</td>\n",
       "      <td>(other, hazel, blue, brown)</td>\n",
       "    </tr>\n",
       "  </tbody>\n",
       "</table>\n",
       "</div>"
      ],
      "text/plain": [
       "  combinations                  complements\n",
       "1     (green,)  (other, hazel, blue, brown)"
      ]
     },
     "execution_count": 128,
     "metadata": {},
     "output_type": "execute_result"
    }
   ],
   "source": [
    "print(gini_list.index(min(gini_list)))\n",
    "comb_df[1:2]"
   ]
  },
  {
   "cell_type": "markdown",
   "metadata": {},
   "source": [
    "**Question 10: What is the Gini Index of this best split?**\n",
    "\n",
    "The gini index is 0.48"
   ]
  },
  {
   "cell_type": "code",
   "execution_count": 111,
   "metadata": {
    "collapsed": false
   },
   "outputs": [
    {
     "data": {
      "text/plain": [
       "0.48629493958954384"
      ]
     },
     "execution_count": 111,
     "metadata": {},
     "output_type": "execute_result"
    }
   ],
   "source": [
    "min(gini_list)"
   ]
  },
  {
   "cell_type": "markdown",
   "metadata": {},
   "source": [
    "**Question 11: How much does this partitioning reduce the Gini Index over that of the overall data set?**\n",
    "\n",
    "Only by 0.01"
   ]
  },
  {
   "cell_type": "code",
   "execution_count": 112,
   "metadata": {
    "collapsed": false
   },
   "outputs": [
    {
     "data": {
      "text/plain": [
       "0.010134340315236856"
      ]
     },
     "execution_count": 112,
     "metadata": {},
     "output_type": "execute_result"
    }
   ],
   "source": [
    "gini_ind_or - min(gini_list)"
   ]
  },
  {
   "cell_type": "markdown",
   "metadata": {},
   "source": [
    "**Question 12: How many 'female' rows and 'male' rows are in your first partition? How many 'female' rows and 'male' rows are in your second partition?**\n",
    "\n",
    "There are 190 women and 107 men in my first partition and 888 women and 803 men in my second partition."
   ]
  },
  {
   "cell_type": "markdown",
   "metadata": {},
   "source": [
    "Python tip: the combinations function of the itertools module allows you to enumerate combinations of a list"
   ]
  },
  {
   "cell_type": "code",
   "execution_count": 113,
   "metadata": {
    "collapsed": false
   },
   "outputs": [
    {
     "name": "stdout",
     "output_type": "stream",
     "text": [
      "190\n",
      "107\n"
     ]
    }
   ],
   "source": [
    "new_df = df[df['eyecolor'] == 'green']\n",
    "total_fem = len(new_df[new_df['gender'] == 'female'])\n",
    "total = len(new_df)\n",
    "total_male = total - total_fem\n",
    "total_upper = total_fem + total_male\n",
    "print(total_fem)\n",
    "print(total_male)"
   ]
  },
  {
   "cell_type": "code",
   "execution_count": 114,
   "metadata": {
    "collapsed": false
   },
   "outputs": [
    {
     "name": "stdout",
     "output_type": "stream",
     "text": [
      "888\n",
      "803\n"
     ]
    }
   ],
   "source": [
    "total_df = len(df)\n",
    "total_f_total = len(df[df['gender'] == 'female'])\n",
    "total_male_total = len(df[df['gender'] == 'male'])\n",
    "female_lower = total_f_total - total_fem\n",
    "print(female_lower)\n",
    "male_lower = total_male_total - total_male\n",
    "print(male_lower)"
   ]
  },
  {
   "cell_type": "markdown",
   "metadata": {},
   "source": [
    "## Training a decision tree"
   ]
  },
  {
   "cell_type": "markdown",
   "metadata": {},
   "source": [
    "**Question 13: Using all of the features in the original dataframe read in at the top of this notebook, train a decision tree classifier that has a depth of three (including the root node and leaf nodes). What is the accuracy of this classifier on the training data?**\n",
    "\n",
    "The classifier has an accuracy of 0.86"
   ]
  },
  {
   "cell_type": "code",
   "execution_count": 115,
   "metadata": {
    "collapsed": true
   },
   "outputs": [],
   "source": [
    "training_data = df[df.columns[1:14]]\n",
    "\n",
    "training_data = training_data.to_dict('records')\n",
    "v = DictVectorizer(sparse=False)\n",
    "X = v.fit_transform(training_data)\n",
    "gender_data = df['gender']"
   ]
  },
  {
   "cell_type": "code",
   "execution_count": 116,
   "metadata": {
    "collapsed": false
   },
   "outputs": [
    {
     "data": {
      "text/plain": [
       "0.86468812877263579"
      ]
     },
     "execution_count": 116,
     "metadata": {},
     "output_type": "execute_result"
    }
   ],
   "source": [
    "dt = DecisionTreeClassifier(max_depth=3)\n",
    "result = dt.fit(X, gender_data)\n",
    "\n",
    "dt.score(X, gender_data)"
   ]
  },
  {
   "cell_type": "markdown",
   "metadata": {},
   "source": [
    "**Question 14: Using the following code snippet, export your decision tree to graphviz and visualize it. In your write-up, write down the interpretation of the rule at each node which is used to perform the splitting.**"
   ]
  },
  {
   "cell_type": "code",
   "execution_count": 117,
   "metadata": {
    "collapsed": true
   },
   "outputs": [],
   "source": [
    "feat_names = v.get_feature_names()"
   ]
  },
  {
   "cell_type": "code",
   "execution_count": 118,
   "metadata": {
    "collapsed": false
   },
   "outputs": [],
   "source": [
    "def visualize_tree(d_tree, feature_names):\n",
    "    \"\"\"Create tree png using graphviz.\n",
    "\n",
    "    Args\n",
    "    ----\n",
    "    tree -- scikit-learn DecsisionTree.\n",
    "    feature_names -- list of feature names.\n",
    "    \"\"\"\n",
    "    with open(\"dt.dot\", 'w') as f:\n",
    "        export_graphviz(d_tree, out_file=f,\n",
    "                        feature_names=feature_names, class_names=['female','male'],filled=True, rounded=True,special_characters=True)\n",
    "\n",
    "    command = [\"dot\", \"-Tpng\", \"dt.dot\", \"-o\", \"dt.png\"]\n",
    "    try:\n",
    "        subprocess.check_call(command)\n",
    "    except:\n",
    "        exit(\"Could not run dot, ie graphviz, to \"\n",
    "             \"produce visualization\")"
   ]
  },
  {
   "cell_type": "code",
   "execution_count": 119,
   "metadata": {
    "collapsed": false
   },
   "outputs": [],
   "source": [
    "visualize_tree(dt, feat_names)"
   ]
  },
  {
   "cell_type": "code",
   "execution_count": 120,
   "metadata": {
    "collapsed": false
   },
   "outputs": [
    {
     "name": "stdout",
     "output_type": "stream",
     "text": [
      "Feb 14 19:19:00  dot[84012] <Error>: The function ‘CGFontGetGlyphPath’ is obsolete and will be removed in an upcoming update. Unfortunately, this application, or a library it uses, is using this obsolete function, and is thereby contributing to an overall degradation of system performance.\n",
      "Feb 14 19:19:00  dot[84012] <Error>: The function ‘CGFontGetGlyphPaths’ is obsolete and will be removed in an upcoming update. Unfortunately, this application, or a library it uses, is using this obsolete function, and is thereby contributing to an overall degradation of system performance.\n",
      "\n"
     ]
    },
    {
     "data": {
      "image/png": "[encoded data removed]",
      "text/plain": [
       "<IPython.core.display.Image object>"
      ]
     },
     "execution_count": 120,
     "metadata": {},
     "output_type": "execute_result"
    }
   ],
   "source": [
    "graph = pydotplus.graphviz.graph_from_dot_file(\"dt.dot\")\n",
    "graph.write_pdf('name.pdf')\n",
    "Image(graph.create_png())"
   ]
  },
  {
   "cell_type": "markdown",
   "metadata": {},
   "source": [
    "**Question 15: For each of your leaf nodes, specify the percentage of 'female' rows in that node (out of the total number of rows at that node).**"
   ]
  },
  {
   "cell_type": "code",
   "execution_count": 121,
   "metadata": {
    "collapsed": false
   },
   "outputs": [
    {
     "data": {
      "text/plain": [
       "array([ 1,  2,  3, -1, -1,  6, -1, -1,  9, 10, -1, -1, 13, -1, -1])"
      ]
     },
     "execution_count": 121,
     "metadata": {},
     "output_type": "execute_result"
    }
   ],
   "source": [
    "dt.tree_.children_left #just doing this to reference my returned indices are right as i parse the tree"
   ]
  },
  {
   "cell_type": "code",
   "execution_count": 122,
   "metadata": {
    "collapsed": false
   },
   "outputs": [
    {
     "data": {
      "text/plain": [
       "array([ 8,  5,  4, -1, -1,  7, -1, -1, 12, 11, -1, -1, 14, -1, -1])"
      ]
     },
     "execution_count": 122,
     "metadata": {},
     "output_type": "execute_result"
    }
   ],
   "source": [
    "dt.tree_.children_right"
   ]
  },
  {
   "cell_type": "code",
   "execution_count": 123,
   "metadata": {
    "collapsed": true
   },
   "outputs": [],
   "source": [
    "def get_leaf_indices(tree, index):\n",
    "    leaf_indices = []\n",
    "    if (dt.tree_.children_left[index] == -1) & (dt.tree_.children_right[index] == -1):\n",
    "        return [index]\n",
    "    else:\n",
    "        left = dt.tree_.children_left[index]\n",
    "        right = dt.tree_.children_right[index]\n",
    "        return get_leaf_indices(tree, left), get_leaf_indices(tree, right)\n",
    "        index += 1"
   ]
  },
  {
   "cell_type": "code",
   "execution_count": 124,
   "metadata": {
    "collapsed": false
   },
   "outputs": [
    {
     "data": {
      "text/plain": [
       "((([3], [4]), ([6], [7])), (([10], [11]), ([13], [14])))"
      ]
     },
     "execution_count": 124,
     "metadata": {},
     "output_type": "execute_result"
    }
   ],
   "source": [
    "leaf_indices = get_leaf_indices(dt, 0)\n",
    "leaf_indices"
   ]
  },
  {
   "cell_type": "code",
   "execution_count": 125,
   "metadata": {
    "collapsed": true
   },
   "outputs": [],
   "source": [
    "leaf_indices = [3,4,6,7,10,11,13,14]"
   ]
  },
  {
   "cell_type": "code",
   "execution_count": 126,
   "metadata": {
    "collapsed": false
   },
   "outputs": [
    {
     "data": {
      "text/plain": [
       "[array([[ 774.,   56.]]),\n",
       " array([[ 97.,  45.]]),\n",
       " array([[ 22.,   5.]]),\n",
       " array([[ 12.,  36.]]),\n",
       " array([[ 107.,   85.]]),\n",
       " array([[  16.,  121.]]),\n",
       " array([[  37.,  196.]]),\n",
       " array([[  13.,  366.]])]"
      ]
     },
     "execution_count": 126,
     "metadata": {},
     "output_type": "execute_result"
    }
   ],
   "source": [
    "# tree_values = dt.tree_.value(flattened_leaf_2)\n",
    "tree_values = []\n",
    "for item in leaf_indices:\n",
    "    tree_values.append(dt.tree_.value[item])\n",
    "\n",
    "tree_values"
   ]
  },
  {
   "cell_type": "code",
   "execution_count": 127,
   "metadata": {
    "collapsed": false
   },
   "outputs": [
    {
     "name": "stdout",
     "output_type": "stream",
     "text": [
      "93.3% female in node 3\n",
      "68.3% female in node 4\n",
      "81.5% female in node 6\n",
      "25.0% female in node 7\n",
      "55.7% female in node 10\n",
      "11.7% female in node 11\n",
      "15.9% female in node 13\n",
      "3.4% female in node 14\n"
     ]
    },
    {
     "data": {
      "text/plain": [
       "[93.253012048192772,\n",
       " 68.309859154929569,\n",
       " 81.481481481481481,\n",
       " 25.0,\n",
       " 55.729166666666664,\n",
       " 11.678832116788321,\n",
       " 15.879828326180256,\n",
       " 3.4300791556728232]"
      ]
     },
     "execution_count": 127,
     "metadata": {},
     "output_type": "execute_result"
    }
   ],
   "source": [
    "percentage_list = []\n",
    "for i in range(0,8):\n",
    "    female_quant = tree_values[i][0][0]\n",
    "    total_quant = tree_values[i][0][0] + tree_values[i][0][1]\n",
    "    perc_female = (female_quant/total_quant)*100\n",
    "    percentage_list.append(perc_female)\n",
    "    leaf_ind = leaf_indices[i]\n",
    "    print(\"{0:.1f}% female in node {1:g}\".format(perc_female, leaf_ind))\n",
    "    \n",
    "percentage_list"
   ]
  },
  {
   "cell_type": "markdown",
   "metadata": {},
   "source": [
    "See this notebook for the basics of training a decision tree in scikit-learn and exporting the outputs to view in graphviz: http://nbviewer.ipython.org/gist/tebarkley/b68c04d9b31e64ce6023\n",
    "\n",
    "Scikit-learn classifiers require class labels and features to be in numeric arrays. As such, you will need to turn your categorical features into numeric arrays using DictVectorizer. This is a helpful notebook for understanding how to do this: http://nbviewer.ipython.org/gist/sarguido/7423289. You can turn a pandas dataframe of features into a dictionary of the form needed by DictVectorizer by using df.to_dict('records'). Make sure you remove the class label first (in this case, gender). If you use the class label as a feature, your classifier will have a training accuracy of 100%! The example notebook link also shows how to turn your class labels into a numeric array using sklearn.preprocessing.LabelEncoder()."
   ]
  }
 ],
 "metadata": {
  "anaconda-cloud": {},
  "gist_id": "0945553f802dad1bfa88",
  "kernelspec": {
   "display_name": "Python [Root]",
   "language": "python",
   "name": "Python [Root]"
  },
  "language_info": {
   "codemirror_mode": {
    "name": "ipython",
    "version": 3
   },
   "file_extension": ".py",
   "mimetype": "text/x-python",
   "name": "python",
   "nbconvert_exporter": "python",
   "pygments_lexer": "ipython3",
   "version": "3.5.2"
  }
 },
 "nbformat": 4,
 "nbformat_minor": 0
}
