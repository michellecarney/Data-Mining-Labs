{
 "cells": [
  {
   "cell_type": "markdown",
   "metadata": {},
   "source": [
    "# Info 290T: Data Mining Lab 2 - Clustering\n",
    "### michelle.carney@berkeley.edu"
   ]
  },
  {
   "cell_type": "code",
   "execution_count": 2,
   "metadata": {
    "collapsed": false
   },
   "outputs": [],
   "source": [
    "import pandas as pd\n",
    "import numpy as np\n",
    "import random\n",
    "import sklearn\n",
    "from sklearn.datasets import make_blobs\n",
    "from sklearn.cluster import KMeans\n",
    "from sklearn.metrics import silhouette_samples, silhouette_score\n",
    "import matplotlib.pyplot as plt\n",
    "import matplotlib.cm as cm\n",
    "import numpy as np\n",
    "import matplotlib\n",
    "%matplotlib inline\n",
    "matplotlib.style.use('ggplot')\n",
    "reviewers = pd.read_csv('yelp_reviewers.csv')"
   ]
  },
  {
   "cell_type": "code",
   "execution_count": 3,
   "metadata": {
    "collapsed": false
   },
   "outputs": [
    {
     "data": {
      "text/html": [
       "<div>\n",
       "<table border=\"1\" class=\"dataframe\">\n",
       "  <thead>\n",
       "    <tr style=\"text-align: right;\">\n",
       "      <th></th>\n",
       "      <th>user_id</th>\n",
       "      <th>q3</th>\n",
       "      <th>q4</th>\n",
       "      <th>q5</th>\n",
       "      <th>q6</th>\n",
       "      <th>q7</th>\n",
       "      <th>q8</th>\n",
       "      <th>q9</th>\n",
       "      <th>q10</th>\n",
       "      <th>q11</th>\n",
       "      <th>...</th>\n",
       "      <th>q16t</th>\n",
       "      <th>q16u</th>\n",
       "      <th>q16v</th>\n",
       "      <th>q16w</th>\n",
       "      <th>q16x</th>\n",
       "      <th>q16y</th>\n",
       "      <th>q16z</th>\n",
       "      <th>q16aa</th>\n",
       "      <th>q16ab</th>\n",
       "      <th>q16ac</th>\n",
       "    </tr>\n",
       "  </thead>\n",
       "  <tbody>\n",
       "    <tr>\n",
       "      <th>0</th>\n",
       "      <td>--1Y03CEKR3WDbBjYnsW7A</td>\n",
       "      <td>1</td>\n",
       "      <td>0</td>\n",
       "      <td>0</td>\n",
       "      <td>0</td>\n",
       "      <td>0.00</td>\n",
       "      <td>NaN</td>\n",
       "      <td>NaN</td>\n",
       "      <td>NaN</td>\n",
       "      <td>NaN</td>\n",
       "      <td>...</td>\n",
       "      <td>no</td>\n",
       "      <td>4.00</td>\n",
       "      <td>14</td>\n",
       "      <td>5</td>\n",
       "      <td>0.000000</td>\n",
       "      <td>213.000000</td>\n",
       "      <td>0</td>\n",
       "      <td>0</td>\n",
       "      <td>0.000000</td>\n",
       "      <td>5.000000</td>\n",
       "    </tr>\n",
       "    <tr>\n",
       "      <th>1</th>\n",
       "      <td>--2QZsyXGz1OhiD4-0FQLQ</td>\n",
       "      <td>3</td>\n",
       "      <td>0</td>\n",
       "      <td>0</td>\n",
       "      <td>1</td>\n",
       "      <td>1.10</td>\n",
       "      <td>NaN</td>\n",
       "      <td>NaN</td>\n",
       "      <td>0.0</td>\n",
       "      <td>0.0</td>\n",
       "      <td>...</td>\n",
       "      <td>no</td>\n",
       "      <td>1.00</td>\n",
       "      <td>19</td>\n",
       "      <td>14</td>\n",
       "      <td>0.000000</td>\n",
       "      <td>21.833333</td>\n",
       "      <td>1</td>\n",
       "      <td>0</td>\n",
       "      <td>0.333333</td>\n",
       "      <td>4.666667</td>\n",
       "    </tr>\n",
       "    <tr>\n",
       "      <th>2</th>\n",
       "      <td>--82_AVgRBsLw6Dhy8sEnA</td>\n",
       "      <td>1</td>\n",
       "      <td>0</td>\n",
       "      <td>0</td>\n",
       "      <td>0</td>\n",
       "      <td>0.00</td>\n",
       "      <td>NaN</td>\n",
       "      <td>NaN</td>\n",
       "      <td>NaN</td>\n",
       "      <td>NaN</td>\n",
       "      <td>...</td>\n",
       "      <td>no</td>\n",
       "      <td>3.00</td>\n",
       "      <td>31</td>\n",
       "      <td>4</td>\n",
       "      <td>0.002275</td>\n",
       "      <td>165.000000</td>\n",
       "      <td>0</td>\n",
       "      <td>0</td>\n",
       "      <td>0.000000</td>\n",
       "      <td>4.000000</td>\n",
       "    </tr>\n",
       "    <tr>\n",
       "      <th>3</th>\n",
       "      <td>--8A9o_NeGyt_3kzlXtSdg</td>\n",
       "      <td>3</td>\n",
       "      <td>0</td>\n",
       "      <td>0</td>\n",
       "      <td>1</td>\n",
       "      <td>1.10</td>\n",
       "      <td>NaN</td>\n",
       "      <td>NaN</td>\n",
       "      <td>0.0</td>\n",
       "      <td>0.0</td>\n",
       "      <td>...</td>\n",
       "      <td>no</td>\n",
       "      <td>0.00</td>\n",
       "      <td>8</td>\n",
       "      <td>11</td>\n",
       "      <td>0.002242</td>\n",
       "      <td>61.500000</td>\n",
       "      <td>0</td>\n",
       "      <td>0</td>\n",
       "      <td>0.333333</td>\n",
       "      <td>3.666667</td>\n",
       "    </tr>\n",
       "    <tr>\n",
       "      <th>4</th>\n",
       "      <td>--8WbseBk1NjfPiZWjQ-XQ</td>\n",
       "      <td>4</td>\n",
       "      <td>0</td>\n",
       "      <td>0</td>\n",
       "      <td>0</td>\n",
       "      <td>1.39</td>\n",
       "      <td>NaN</td>\n",
       "      <td>NaN</td>\n",
       "      <td>NaN</td>\n",
       "      <td>NaN</td>\n",
       "      <td>...</td>\n",
       "      <td>no</td>\n",
       "      <td>0.25</td>\n",
       "      <td>28</td>\n",
       "      <td>11</td>\n",
       "      <td>0.000444</td>\n",
       "      <td>287.500000</td>\n",
       "      <td>0</td>\n",
       "      <td>0</td>\n",
       "      <td>0.000000</td>\n",
       "      <td>2.750000</td>\n",
       "    </tr>\n",
       "  </tbody>\n",
       "</table>\n",
       "<p>5 rows × 43 columns</p>\n",
       "</div>"
      ],
      "text/plain": [
       "                  user_id  q3  q4  q5  q6    q7  q8  q9  q10  q11    ...     \\\n",
       "0  --1Y03CEKR3WDbBjYnsW7A   1   0   0   0  0.00 NaN NaN  NaN  NaN    ...      \n",
       "1  --2QZsyXGz1OhiD4-0FQLQ   3   0   0   1  1.10 NaN NaN  0.0  0.0    ...      \n",
       "2  --82_AVgRBsLw6Dhy8sEnA   1   0   0   0  0.00 NaN NaN  NaN  NaN    ...      \n",
       "3  --8A9o_NeGyt_3kzlXtSdg   3   0   0   1  1.10 NaN NaN  0.0  0.0    ...      \n",
       "4  --8WbseBk1NjfPiZWjQ-XQ   4   0   0   0  1.39 NaN NaN  NaN  NaN    ...      \n",
       "\n",
       "   q16t  q16u  q16v  q16w      q16x        q16y  q16z  q16aa     q16ab  \\\n",
       "0    no  4.00    14     5  0.000000  213.000000     0      0  0.000000   \n",
       "1    no  1.00    19    14  0.000000   21.833333     1      0  0.333333   \n",
       "2    no  3.00    31     4  0.002275  165.000000     0      0  0.000000   \n",
       "3    no  0.00     8    11  0.002242   61.500000     0      0  0.333333   \n",
       "4    no  0.25    28    11  0.000444  287.500000     0      0  0.000000   \n",
       "\n",
       "      q16ac  \n",
       "0  5.000000  \n",
       "1  4.666667  \n",
       "2  4.000000  \n",
       "3  3.666667  \n",
       "4  2.750000  \n",
       "\n",
       "[5 rows x 43 columns]"
      ]
     },
     "execution_count": 3,
     "metadata": {},
     "output_type": "execute_result"
    }
   ],
   "source": [
    "reviewers.head()"
   ]
  },
  {
   "cell_type": "markdown",
   "metadata": {},
   "source": [
    "# 1. Choose an implementation of k-means and specify it in the google sheet - sklearn.cluster.kmeans\n"
   ]
  },
  {
   "cell_type": "markdown",
   "metadata": {},
   "source": [
    "# 2. What is the best choice of k according to the silhouette metric for clustering q4-q6 (# of cool, funny, useful votes) combined. Only consider 2 <= k <= 8. \n",
    "# Answer = 2 - see plot below - it has the highest silhouette metric (0.99)\n",
    "- NOTE: For features with high variance, empty clusters can occur. There are several ways of dealing with empty clusters. A common approach is to drop empty clusters, the prefered approach for this Lab is to treat the empty cluster as a “singleton” leaving it empty with a single point placeholder. \n"
   ]
  },
  {
   "cell_type": "code",
   "execution_count": 3,
   "metadata": {
    "collapsed": false
   },
   "outputs": [
    {
     "data": {
      "text/html": [
       "<div>\n",
       "<table border=\"1\" class=\"dataframe\">\n",
       "  <thead>\n",
       "    <tr style=\"text-align: right;\">\n",
       "      <th></th>\n",
       "      <th>q4</th>\n",
       "      <th>q5</th>\n",
       "      <th>q6</th>\n",
       "    </tr>\n",
       "  </thead>\n",
       "  <tbody>\n",
       "    <tr>\n",
       "      <th>0</th>\n",
       "      <td>0</td>\n",
       "      <td>0</td>\n",
       "      <td>0</td>\n",
       "    </tr>\n",
       "    <tr>\n",
       "      <th>1</th>\n",
       "      <td>0</td>\n",
       "      <td>0</td>\n",
       "      <td>1</td>\n",
       "    </tr>\n",
       "    <tr>\n",
       "      <th>2</th>\n",
       "      <td>0</td>\n",
       "      <td>0</td>\n",
       "      <td>0</td>\n",
       "    </tr>\n",
       "    <tr>\n",
       "      <th>3</th>\n",
       "      <td>0</td>\n",
       "      <td>0</td>\n",
       "      <td>1</td>\n",
       "    </tr>\n",
       "    <tr>\n",
       "      <th>4</th>\n",
       "      <td>0</td>\n",
       "      <td>0</td>\n",
       "      <td>0</td>\n",
       "    </tr>\n",
       "  </tbody>\n",
       "</table>\n",
       "</div>"
      ],
      "text/plain": [
       "   q4  q5  q6\n",
       "0   0   0   0\n",
       "1   0   0   1\n",
       "2   0   0   0\n",
       "3   0   0   1\n",
       "4   0   0   0"
      ]
     },
     "execution_count": 3,
     "metadata": {},
     "output_type": "execute_result"
    }
   ],
   "source": [
    "reviewers_q4_q6 = reviewers.loc[:, 'q4':'q6']\n",
    "reviewers_q4_q6.head()"
   ]
  },
  {
   "cell_type": "code",
   "execution_count": 10,
   "metadata": {
    "collapsed": false
   },
   "outputs": [
    {
     "name": "stdout",
     "output_type": "stream",
     "text": [
      "CPU times: user 7.12 s, sys: 1.58 s, total: 8.7 s\n",
      "Wall time: 5.3 s\n"
     ]
    }
   ],
   "source": [
    "km = KMeans(n_clusters=8)\n",
    "%time km.fit(reviewers_q4_q6)\n",
    "clusters = km.labels_.tolist()\n"
   ]
  },
  {
   "cell_type": "code",
   "execution_count": 36,
   "metadata": {
    "collapsed": false
   },
   "outputs": [],
   "source": [
    "# clusters"
   ]
  },
  {
   "cell_type": "code",
   "execution_count": 12,
   "metadata": {
    "collapsed": false
   },
   "outputs": [],
   "source": [
    "silhouette_k8 = silhouette_score(reviewers_q4_q6[0:10000], clusters[0:10000])"
   ]
  },
  {
   "cell_type": "code",
   "execution_count": 13,
   "metadata": {
    "collapsed": false
   },
   "outputs": [
    {
     "name": "stdout",
     "output_type": "stream",
     "text": [
      "CPU times: user 5.66 s, sys: 1.17 s, total: 6.83 s\n",
      "Wall time: 4.19 s\n"
     ]
    }
   ],
   "source": [
    "km = KMeans(n_clusters=7)\n",
    "%time km.fit(reviewers_q4_q6)\n",
    "clusters = km.labels_.tolist()\n",
    "silhouette_k7 = silhouette_score(reviewers_q4_q6[0:10000], clusters[0:10000])"
   ]
  },
  {
   "cell_type": "code",
   "execution_count": 14,
   "metadata": {
    "collapsed": false
   },
   "outputs": [
    {
     "name": "stdout",
     "output_type": "stream",
     "text": [
      "CPU times: user 5.57 s, sys: 1.06 s, total: 6.64 s\n",
      "Wall time: 3.87 s\n"
     ]
    }
   ],
   "source": [
    "km = KMeans(n_clusters=6)\n",
    "%time km.fit(reviewers_q4_q6)\n",
    "clusters = km.labels_.tolist()\n",
    "silhouette_k6 = silhouette_score(reviewers_q4_q6[0:10000], clusters[0:10000])"
   ]
  },
  {
   "cell_type": "code",
   "execution_count": 15,
   "metadata": {
    "collapsed": false
   },
   "outputs": [
    {
     "name": "stdout",
     "output_type": "stream",
     "text": [
      "CPU times: user 4.58 s, sys: 826 ms, total: 5.41 s\n",
      "Wall time: 3.14 s\n"
     ]
    }
   ],
   "source": [
    "km = KMeans(n_clusters=5)\n",
    "%time km.fit(reviewers_q4_q6)\n",
    "clusters = km.labels_.tolist()\n",
    "silhouette_k5 = silhouette_score(reviewers_q4_q6[0:10000], clusters[0:10000])"
   ]
  },
  {
   "cell_type": "code",
   "execution_count": 16,
   "metadata": {
    "collapsed": false
   },
   "outputs": [
    {
     "name": "stdout",
     "output_type": "stream",
     "text": [
      "CPU times: user 3.52 s, sys: 383 ms, total: 3.9 s\n",
      "Wall time: 2.09 s\n"
     ]
    }
   ],
   "source": [
    "km = KMeans(n_clusters=4)\n",
    "%time km.fit(reviewers_q4_q6)\n",
    "clusters = km.labels_.tolist()\n",
    "silhouette_k4 = silhouette_score(reviewers_q4_q6[0:10000], clusters[0:10000])"
   ]
  },
  {
   "cell_type": "code",
   "execution_count": 17,
   "metadata": {
    "collapsed": false
   },
   "outputs": [
    {
     "name": "stdout",
     "output_type": "stream",
     "text": [
      "CPU times: user 2.16 s, sys: 62.8 ms, total: 2.22 s\n",
      "Wall time: 1.2 s\n"
     ]
    }
   ],
   "source": [
    "km = KMeans(n_clusters=3)\n",
    "%time km.fit(reviewers_q4_q6)\n",
    "clusters = km.labels_.tolist()\n",
    "silhouette_k3 = silhouette_score(reviewers_q4_q6[0:10000], clusters[0:10000])"
   ]
  },
  {
   "cell_type": "code",
   "execution_count": 18,
   "metadata": {
    "collapsed": false
   },
   "outputs": [
    {
     "name": "stdout",
     "output_type": "stream",
     "text": [
      "CPU times: user 1.7 s, sys: 52.4 ms, total: 1.75 s\n",
      "Wall time: 944 ms\n"
     ]
    }
   ],
   "source": [
    "km = KMeans(n_clusters=2)\n",
    "%time km.fit(reviewers_q4_q6)\n",
    "clusters = km.labels_.tolist()\n",
    "silhouette_k2 = silhouette_score(reviewers_q4_q6[0:10000], clusters[0:10000])"
   ]
  },
  {
   "cell_type": "code",
   "execution_count": null,
   "metadata": {
    "collapsed": false
   },
   "outputs": [],
   "source": [
    "#df.plot\n",
    "#silouhette score  = higher the better\n",
    "#within cluser var = initertia (look at elbow method)"
   ]
  },
  {
   "cell_type": "code",
   "execution_count": 24,
   "metadata": {
    "collapsed": false
   },
   "outputs": [],
   "source": [
    "silhouette = [silhouette_k2, silhouette_k3, silhouette_k4, silhouette_k5, silhouette_k6, silhouette_k7, silhouette_k8]"
   ]
  },
  {
   "cell_type": "code",
   "execution_count": 26,
   "metadata": {
    "collapsed": false
   },
   "outputs": [],
   "source": [
    "count_k = [2, 3, 4, 5, 6, 7, 8]"
   ]
  },
  {
   "cell_type": "code",
   "execution_count": 31,
   "metadata": {
    "collapsed": false
   },
   "outputs": [
    {
     "name": "stdout",
     "output_type": "stream",
     "text": [
      "[(2, 0.99509138416149867), (3, 0.98460829146058293), (4, 0.9636733044136836), (5, 0.91080778703018872), (6, 0.88827669865599745), (7, 0.83271279406293053), (8, 0.7946395569979976)]\n"
     ]
    }
   ],
   "source": [
    "count_silhouette = list(zip(count_k, silhouette))\n",
    "print(count_silhouette)"
   ]
  },
  {
   "cell_type": "code",
   "execution_count": 30,
   "metadata": {
    "collapsed": false
   },
   "outputs": [
    {
     "name": "stdout",
     "output_type": "stream",
     "text": [
      "(2, 0.99509138416149867)\n",
      "(3, 0.98460829146058293)\n",
      "(4, 0.9636733044136836)\n",
      "(5, 0.91080778703018872)\n",
      "(6, 0.88827669865599745)\n",
      "(7, 0.83271279406293053)\n",
      "(8, 0.7946395569979976)\n"
     ]
    }
   ],
   "source": [
    "for a in count_silhouette:\n",
    "    print(a)"
   ]
  },
  {
   "cell_type": "code",
   "execution_count": 37,
   "metadata": {
    "collapsed": false
   },
   "outputs": [
    {
     "data": {
      "text/plain": [
       "<matplotlib.collections.PathCollection at 0x11869ccf8>"
      ]
     },
     "execution_count": 37,
     "metadata": {},
     "output_type": "execute_result"
    },
    {
     "data": {
      "image/png": "[encoded data removed]",
      "text/plain": [
       "<matplotlib.figure.Figure at 0x118577240>"
      ]
     },
     "metadata": {},
     "output_type": "display_data"
    }
   ],
   "source": [
    "plt.scatter(*zip(*count_silhouette))"
   ]
  },
  {
   "cell_type": "code",
   "execution_count": 57,
   "metadata": {
    "collapsed": false
   },
   "outputs": [],
   "source": [
    "# plt.plot(*zip(*count_silhouette))"
   ]
  },
  {
   "cell_type": "markdown",
   "metadata": {},
   "source": [
    "# 3. Answer question 2 but using the log of the features (q8-q10) \n",
    "\n",
    "# Answer - k=2 has the highest silhouette score"
   ]
  },
  {
   "cell_type": "code",
   "execution_count": 44,
   "metadata": {
    "collapsed": false
   },
   "outputs": [
    {
     "data": {
      "text/plain": [
       "33426"
      ]
     },
     "execution_count": 44,
     "metadata": {},
     "output_type": "execute_result"
    }
   ],
   "source": [
    "# reviewers.head()\n",
    "reviewers_q810 = reviewers.loc[:, 'q8':'q10']\n",
    "reviewers_q8_q10 = reviewers_q8_q10.dropna() #remove na to calc clusters\n",
    "len(reviewers_q8_q10)"
   ]
  },
  {
   "cell_type": "code",
   "execution_count": 51,
   "metadata": {
    "collapsed": false
   },
   "outputs": [
    {
     "name": "stdout",
     "output_type": "stream",
     "text": [
      "CPU times: user 476 ms, sys: 39.9 ms, total: 516 ms\n",
      "Wall time: 313 ms\n",
      "CPU times: user 738 ms, sys: 7.34 ms, total: 745 ms\n",
      "Wall time: 381 ms\n",
      "CPU times: user 1.14 s, sys: 15.6 ms, total: 1.15 s\n",
      "Wall time: 694 ms\n",
      "CPU times: user 1.8 s, sys: 68.2 ms, total: 1.86 s\n",
      "Wall time: 992 ms\n",
      "CPU times: user 1.39 s, sys: 39.1 ms, total: 1.42 s\n",
      "Wall time: 732 ms\n",
      "CPU times: user 1.64 s, sys: 62.9 ms, total: 1.7 s\n",
      "Wall time: 957 ms\n",
      "CPU times: user 2.01 s, sys: 86.4 ms, total: 2.1 s\n",
      "Wall time: 1.1 s\n"
     ]
    }
   ],
   "source": [
    "silhouette = []\n",
    "for num_clusters in range(2,9):\n",
    "    km = KMeans(n_clusters=num_clusters)\n",
    "    %time km.fit(reviewers_q8_q10)\n",
    "    clusters = km.labels_.tolist()\n",
    "    silhouette.append(silhouette_score(reviewers_q8_q10[0:10000], clusters[0:10000]))"
   ]
  },
  {
   "cell_type": "code",
   "execution_count": 55,
   "metadata": {
    "collapsed": false
   },
   "outputs": [
    {
     "data": {
      "text/plain": [
       "[<matplotlib.lines.Line2D at 0x1199105c0>]"
      ]
     },
     "execution_count": 55,
     "metadata": {},
     "output_type": "execute_result"
    },
    {
     "data": {
      "image/png": "[encoded data removed]",
      "text/plain": [
       "<matplotlib.figure.Figure at 0x118adde80>"
      ]
     },
     "metadata": {},
     "output_type": "display_data"
    }
   ],
   "source": [
    "count_k = [2, 3, 4, 5, 6, 7, 8]\n",
    "count_silhouette = list(zip(count_k, silhouette))\n",
    "plt.plot(*zip(*count_silhouette))"
   ]
  },
  {
   "cell_type": "markdown",
   "metadata": {},
   "source": [
    "# 4. Answer question 2 but using the percentage of the features (q11-q13)\n",
    "\n",
    "# The highest silhouette score is k=8"
   ]
  },
  {
   "cell_type": "code",
   "execution_count": 59,
   "metadata": {
    "collapsed": false
   },
   "outputs": [
    {
     "data": {
      "text/plain": [
       "100357"
      ]
     },
     "execution_count": 59,
     "metadata": {},
     "output_type": "execute_result"
    }
   ],
   "source": [
    "# reviewers.head()\n",
    "reviewers_q1113 = reviewers.loc[:, 'q11':'q13']\n",
    "reviewers_q11_q13 = reviewers_q1113.dropna() #remove na to calc clusters\n",
    "len(reviewers_q11_q13)"
   ]
  },
  {
   "cell_type": "code",
   "execution_count": 62,
   "metadata": {
    "collapsed": false,
    "scrolled": true
   },
   "outputs": [
    {
     "name": "stdout",
     "output_type": "stream",
     "text": [
      "CPU times: user 804 ms, sys: 67.4 ms, total: 872 ms\n",
      "Wall time: 521 ms\n",
      "CPU times: user 1.13 s, sys: 32.8 ms, total: 1.16 s\n",
      "Wall time: 586 ms\n",
      "CPU times: user 1.28 s, sys: 30.3 ms, total: 1.31 s\n",
      "Wall time: 663 ms\n",
      "CPU times: user 1.53 s, sys: 79.6 ms, total: 1.61 s\n",
      "Wall time: 815 ms\n",
      "CPU times: user 1.7 s, sys: 112 ms, total: 1.81 s\n",
      "Wall time: 926 ms\n",
      "CPU times: user 2.03 s, sys: 182 ms, total: 2.22 s\n",
      "Wall time: 1.12 s\n",
      "CPU times: user 2.24 s, sys: 211 ms, total: 2.45 s\n",
      "Wall time: 1.24 s\n"
     ]
    }
   ],
   "source": [
    "silhouette = []\n",
    "for num_clusters in range(2,9):\n",
    "    km = KMeans(n_clusters=num_clusters)\n",
    "    %time km.fit(reviewers_q11_q13)\n",
    "    clusters = km.labels_.tolist()\n",
    "    silhouette.append(silhouette_score(reviewers_q11_q13[0:10000], clusters[0:10000]))"
   ]
  },
  {
   "cell_type": "code",
   "execution_count": 63,
   "metadata": {
    "collapsed": false
   },
   "outputs": [
    {
     "data": {
      "text/plain": [
       "[<matplotlib.lines.Line2D at 0x1097985c0>]"
      ]
     },
     "execution_count": 63,
     "metadata": {},
     "output_type": "execute_result"
    },
    {
     "data": {
      "image/png": "[encoded data removed]",
      "text/plain": [
       "<matplotlib.figure.Figure at 0x1198a3e10>"
      ]
     },
     "metadata": {},
     "output_type": "display_data"
    }
   ],
   "source": [
    "count_k = [2, 3, 4, 5, 6, 7, 8]\n",
    "count_silhouette = list(zip(count_k, silhouette))\n",
    "plt.plot(*zip(*count_silhouette))"
   ]
  },
  {
   "cell_type": "markdown",
   "metadata": {},
   "source": [
    "# 5. Inspect the [best] clustering generated from question 4 \n",
    "- a. List the number of data points in each cluster\n",
    "C0:    32835\n",
    "C1:    19150\n",
    "C7:    11275\n",
    "C3:    10725\n",
    "C6:    10024\n",
    "C5:     6779\n",
    "C2:     5543\n",
    "C4:     4026\n",
    "- b. Were there clusters that represented very funny but useless reviewers? C0:    31473\n",
    "- c. How many reviewers were in the cluster that represented relatively equal strength in all voting categories (assuming such a cluster exists in your clustering)? C1:  4101"
   ]
  },
  {
   "cell_type": "code",
   "execution_count": 67,
   "metadata": {
    "collapsed": false,
    "scrolled": true
   },
   "outputs": [
    {
     "data": {
      "text/plain": [
       "0    32835\n",
       "1    19150\n",
       "7    11275\n",
       "3    10725\n",
       "6    10024\n",
       "5     6779\n",
       "2     5543\n",
       "4     4026\n",
       "dtype: int64"
      ]
     },
     "execution_count": 67,
     "metadata": {},
     "output_type": "execute_result"
    }
   ],
   "source": [
    "# 5a. List the number of data points in each cluster (eg. C1: 2,000 C2: 4,200 etc)\n",
    "pd.Series(clusters).value_counts()"
   ]
  },
  {
   "cell_type": "code",
   "execution_count": 68,
   "metadata": {
    "collapsed": false,
    "scrolled": true
   },
   "outputs": [
    {
     "name": "stderr",
     "output_type": "stream",
     "text": [
      "//anaconda/lib/python3.5/site-packages/pandas/core/indexing.py:288: SettingWithCopyWarning: \n",
      "A value is trying to be set on a copy of a slice from a DataFrame.\n",
      "Try using .loc[row_indexer,col_indexer] = value instead\n",
      "\n",
      "See the caveats in the documentation: http://pandas.pydata.org/pandas-docs/stable/indexing.html#indexing-view-versus-copy\n",
      "  self.obj[key] = _infer_fill_value(value)\n",
      "//anaconda/lib/python3.5/site-packages/pandas/core/indexing.py:549: SettingWithCopyWarning: \n",
      "A value is trying to be set on a copy of a slice from a DataFrame.\n",
      "Try using .loc[row_indexer,col_indexer] = value instead\n",
      "\n",
      "See the caveats in the documentation: http://pandas.pydata.org/pandas-docs/stable/indexing.html#indexing-view-versus-copy\n",
      "  self.obj[item_labels[indexer[info_axis]]] = value\n"
     ]
    },
    {
     "data": {
      "text/html": [
       "<div>\n",
       "<table border=\"1\" class=\"dataframe\">\n",
       "  <thead>\n",
       "    <tr style=\"text-align: right;\">\n",
       "      <th></th>\n",
       "      <th>q11</th>\n",
       "      <th>q12</th>\n",
       "      <th>q13</th>\n",
       "      <th>cluster_number</th>\n",
       "    </tr>\n",
       "  </thead>\n",
       "  <tbody>\n",
       "    <tr>\n",
       "      <th>1</th>\n",
       "      <td>0.0</td>\n",
       "      <td>0.0</td>\n",
       "      <td>100.0</td>\n",
       "      <td>0</td>\n",
       "    </tr>\n",
       "    <tr>\n",
       "      <th>3</th>\n",
       "      <td>0.0</td>\n",
       "      <td>0.0</td>\n",
       "      <td>100.0</td>\n",
       "      <td>0</td>\n",
       "    </tr>\n",
       "    <tr>\n",
       "      <th>5</th>\n",
       "      <td>0.0</td>\n",
       "      <td>0.0</td>\n",
       "      <td>100.0</td>\n",
       "      <td>0</td>\n",
       "    </tr>\n",
       "    <tr>\n",
       "      <th>6</th>\n",
       "      <td>25.0</td>\n",
       "      <td>0.0</td>\n",
       "      <td>75.0</td>\n",
       "      <td>3</td>\n",
       "    </tr>\n",
       "    <tr>\n",
       "      <th>9</th>\n",
       "      <td>0.0</td>\n",
       "      <td>50.0</td>\n",
       "      <td>50.0</td>\n",
       "      <td>5</td>\n",
       "    </tr>\n",
       "  </tbody>\n",
       "</table>\n",
       "</div>"
      ],
      "text/plain": [
       "    q11   q12    q13  cluster_number\n",
       "1   0.0   0.0  100.0               0\n",
       "3   0.0   0.0  100.0               0\n",
       "5   0.0   0.0  100.0               0\n",
       "6  25.0   0.0   75.0               3\n",
       "9   0.0  50.0   50.0               5"
      ]
     },
     "execution_count": 68,
     "metadata": {},
     "output_type": "execute_result"
    }
   ],
   "source": [
    "reviewers_q11_q13.loc[:, \"cluster_number\"] = clusters\n",
    "reviewers_q11_q13.head()"
   ]
  },
  {
   "cell_type": "code",
   "execution_count": 108,
   "metadata": {
    "collapsed": true
   },
   "outputs": [],
   "source": [
    "# 5b. Were there clusters that represented very funny but useless reviewers?\n",
    "\n",
    "#q11 = cool, q12 = funny, q13 = useful\n",
    "reviewers_q11_q13_useless_funny95 = reviewers_q11_q13[(reviewers_q11_q13[\"q13\"] <= 0.1) & (reviewers_q11_q13[\"q12\"] >= 95.0)]"
   ]
  },
  {
   "cell_type": "code",
   "execution_count": 109,
   "metadata": {
    "collapsed": false
   },
   "outputs": [
    {
     "data": {
      "text/plain": [
       "2    5159\n",
       "Name: cluster_number, dtype: int64"
      ]
     },
     "execution_count": 109,
     "metadata": {},
     "output_type": "execute_result"
    }
   ],
   "source": [
    "reviewers_q11_q13_useless_funny95[\"cluster_number\"].value_counts()"
   ]
  },
  {
   "cell_type": "code",
   "execution_count": 110,
   "metadata": {
    "collapsed": false
   },
   "outputs": [
    {
     "data": {
      "text/plain": [
       "2    5225\n",
       "Name: cluster_number, dtype: int64"
      ]
     },
     "execution_count": 110,
     "metadata": {},
     "output_type": "execute_result"
    }
   ],
   "source": [
    "reviewers_q11_q13_useless_funny75 = reviewers_q11_q13[(reviewers_q11_q13[\"q13\"] <= 0.1) & (reviewers_q11_q13[\"q12\"] >= 75.0)]\n",
    "reviewers_q11_q13_useless_funny75[\"cluster_number\"].value_counts()"
   ]
  },
  {
   "cell_type": "markdown",
   "metadata": {},
   "source": [
    "When we set the threshold to be 95% funny votes and 0% useful votes (out of total votes) then we can see that there are 5159 reviewers that fall into one cluster (see reviewers_q11_q13_useless_funny95, cluster 2).\n",
    "\n",
    "When we set the threshold to be 75% funny votes and 0% useful votes (out of total votes, i.e., if they got 1 cool vote and 3 funny votes) then we can see that there are 5225 reviewers that fall into one cluster (cluster 2, same cluster) (see reviewers_q11_q13_useless_funny75).\n",
    "\n",
    "This is interesting because we can see that there are some more funny/useless points that fall into the first cluster (cluster 2 increases from 5159 to 5225) when we change the threshold to 75% funny votes."
   ]
  },
  {
   "cell_type": "code",
   "execution_count": 83,
   "metadata": {
    "collapsed": false
   },
   "outputs": [
    {
     "data": {
      "text/plain": [
       "1    4101\n",
       "Name: cluster_number, dtype: int64"
      ]
     },
     "execution_count": 83,
     "metadata": {},
     "output_type": "execute_result"
    }
   ],
   "source": [
    "# 5c. How many reviewers were in the cluster that represented relatively equal strength in all voting categories (assuming such a cluster exists in your clustering)?\n",
    "reviewers_q11_q13_equal = reviewers_q11_q13[(reviewers_q11_q13[\"q12\"] == 33.33) & (reviewers_q11_q13[\"q12\"] == 33.33) & (reviewers_q11_q13[\"q13\"] == 33.33)]\n",
    "\n",
    "reviewers_q11_q13_equal[\"cluster_number\"].value_counts()\n",
    "\n",
    "# reviewers_q11_q13_equal"
   ]
  },
  {
   "cell_type": "markdown",
   "metadata": {},
   "source": [
    "When we look at only one when q11, q12, q13 are all 33.33 (or 1/3 equally of each vote), there is one cluster (C1: 4101)"
   ]
  },
  {
   "cell_type": "markdown",
   "metadata": {},
   "source": [
    "# 6. Cluster the dataset using k = 5 and using features q7-q13 (log and % type votes) and q14 (most active year feature) and the natural log of q15 (avg review chars.)\n",
    "- a. What is the silhouette metric for this clustering? You may use the max, as you did in question 2. For a more in-depth understanding of cluster analysis with silhouette; Answer = 0.36718922621787364\n",
    "- b. What was the average “number of reviews per reviewer (q3)” among the points in each of the clusters\n",
    "    - C0:    4.959675\n",
    "    - C1:    8.995139\n",
    "    - C2:    7.828889 \n",
    "    - C3:    4.873224\n",
    "    - C4:    6.789233\n"
   ]
  },
  {
   "cell_type": "code",
   "execution_count": 127,
   "metadata": {
    "collapsed": false
   },
   "outputs": [
    {
     "data": {
      "text/plain": [
       "33426"
      ]
     },
     "execution_count": 127,
     "metadata": {},
     "output_type": "execute_result"
    }
   ],
   "source": [
    "# 6a.  a. What is the silhouette metric for this clustering? You may use the max, as you did in question 2. For a more in-depth understanding of cluster analysis with silhouette, look [ here ]\n",
    "\n",
    "# reviewers.head()\n",
    "reviewers_q715_q3 = reviewers.loc[:, ['q3', 'q7', 'q8', 'q9', 'q10', 'q11', 'q12', 'q13', 'q14', 'q15']].dropna()\n",
    "reviewers_q715_q3[\"q15\"] = np.log(reviewers_q715_q3[\"q15\"])\n",
    "reviewers_q715_q3['q15'].replace(-np.inf,np.nan,inplace=True)\n",
    "reviewers_q7_q15 = reviewers_q715_q3.loc[:, 'q7':'q15']\n",
    "len(reviewers_q7_q15)"
   ]
  },
  {
   "cell_type": "code",
   "execution_count": 128,
   "metadata": {
    "collapsed": false,
    "scrolled": true
   },
   "outputs": [
    {
     "name": "stdout",
     "output_type": "stream",
     "text": [
      "CPU times: user 440 ms, sys: 20.6 ms, total: 460 ms\n",
      "Wall time: 294 ms\n",
      "CPU times: user 639 ms, sys: 8.01 ms, total: 647 ms\n",
      "Wall time: 327 ms\n",
      "CPU times: user 807 ms, sys: 37.9 ms, total: 844 ms\n",
      "Wall time: 425 ms\n",
      "CPU times: user 899 ms, sys: 37.8 ms, total: 937 ms\n",
      "Wall time: 473 ms\n",
      "CPU times: user 1.09 s, sys: 27.1 ms, total: 1.12 s\n",
      "Wall time: 567 ms\n",
      "CPU times: user 1.2 s, sys: 50.2 ms, total: 1.25 s\n",
      "Wall time: 632 ms\n",
      "CPU times: user 1.42 s, sys: 72.4 ms, total: 1.5 s\n",
      "Wall time: 758 ms\n"
     ]
    }
   ],
   "source": [
    "# silhouette = []\n",
    "# for num_clusters in range(2,9):\n",
    "#     km = KMeans(n_clusters=num_clusters)\n",
    "#     %time km.fit(reviewers_q7_q15)\n",
    "#     clusters = km.labels_.tolist()\n",
    "#     silhouette.append(silhouette_score(reviewers_q7_q15[0:10000], clusters[0:10000]))"
   ]
  },
  {
   "cell_type": "code",
   "execution_count": 129,
   "metadata": {
    "collapsed": false
   },
   "outputs": [
    {
     "data": {
      "text/plain": [
       "[<matplotlib.lines.Line2D at 0x11c8cec18>]"
      ]
     },
     "execution_count": 129,
     "metadata": {},
     "output_type": "execute_result"
    },
    {
     "data": {
      "image/png": "[encoded data removed]",
      "text/plain": [
       "<matplotlib.figure.Figure at 0x11b538390>"
      ]
     },
     "metadata": {},
     "output_type": "display_data"
    }
   ],
   "source": [
    "# count_k = [2, 3, 4, 5, 6, 7, 8]\n",
    "# count_silhouette = list(zip(count_k, silhouette))\n",
    "# plt.plot(*zip(*count_silhouette))"
   ]
  },
  {
   "cell_type": "code",
   "execution_count": 130,
   "metadata": {
    "collapsed": false
   },
   "outputs": [
    {
     "name": "stdout",
     "output_type": "stream",
     "text": [
      "CPU times: user 1.11 s, sys: 81.9 ms, total: 1.19 s\n",
      "Wall time: 640 ms\n"
     ]
    },
    {
     "data": {
      "text/plain": [
       "0.36718922621787364"
      ]
     },
     "execution_count": 130,
     "metadata": {},
     "output_type": "execute_result"
    }
   ],
   "source": [
    "km = KMeans(n_clusters=5)\n",
    "%time km.fit(reviewers_q7_q15)\n",
    "clusters = km.labels_.tolist()\n",
    "silhouette_k5 = silhouette_score(reviewers_q7_q15[0:10000], clusters[0:10000])\n",
    "silhouette_k5"
   ]
  },
  {
   "cell_type": "code",
   "execution_count": 133,
   "metadata": {
    "collapsed": false
   },
   "outputs": [
    {
     "data": {
      "text/plain": [
       "0.36718922621787364"
      ]
     },
     "execution_count": 133,
     "metadata": {},
     "output_type": "execute_result"
    }
   ],
   "source": [
    "silhouette_k5"
   ]
  },
  {
   "cell_type": "code",
   "execution_count": 131,
   "metadata": {
    "collapsed": false,
    "scrolled": true
   },
   "outputs": [
    {
     "data": {
      "text/html": [
       "<div>\n",
       "<table border=\"1\" class=\"dataframe\">\n",
       "  <thead>\n",
       "    <tr style=\"text-align: right;\">\n",
       "      <th></th>\n",
       "      <th>q3</th>\n",
       "      <th>q7</th>\n",
       "      <th>q8</th>\n",
       "      <th>q9</th>\n",
       "      <th>q10</th>\n",
       "      <th>q11</th>\n",
       "      <th>q12</th>\n",
       "      <th>q13</th>\n",
       "      <th>q14</th>\n",
       "      <th>q15</th>\n",
       "      <th>cluster_number</th>\n",
       "    </tr>\n",
       "  </thead>\n",
       "  <tbody>\n",
       "    <tr>\n",
       "      <th>13</th>\n",
       "      <td>2</td>\n",
       "      <td>0.69</td>\n",
       "      <td>0.00</td>\n",
       "      <td>1.39</td>\n",
       "      <td>0.00</td>\n",
       "      <td>16.67</td>\n",
       "      <td>66.67</td>\n",
       "      <td>16.67</td>\n",
       "      <td>7</td>\n",
       "      <td>5.830415</td>\n",
       "      <td>3</td>\n",
       "    </tr>\n",
       "    <tr>\n",
       "      <th>15</th>\n",
       "      <td>1</td>\n",
       "      <td>0.00</td>\n",
       "      <td>0.00</td>\n",
       "      <td>0.00</td>\n",
       "      <td>0.00</td>\n",
       "      <td>33.33</td>\n",
       "      <td>33.33</td>\n",
       "      <td>33.33</td>\n",
       "      <td>6</td>\n",
       "      <td>4.812184</td>\n",
       "      <td>0</td>\n",
       "    </tr>\n",
       "    <tr>\n",
       "      <th>16</th>\n",
       "      <td>12</td>\n",
       "      <td>2.48</td>\n",
       "      <td>1.95</td>\n",
       "      <td>1.61</td>\n",
       "      <td>2.08</td>\n",
       "      <td>35.00</td>\n",
       "      <td>25.00</td>\n",
       "      <td>40.00</td>\n",
       "      <td>4</td>\n",
       "      <td>6.433342</td>\n",
       "      <td>0</td>\n",
       "    </tr>\n",
       "    <tr>\n",
       "      <th>24</th>\n",
       "      <td>4</td>\n",
       "      <td>1.39</td>\n",
       "      <td>1.39</td>\n",
       "      <td>0.00</td>\n",
       "      <td>1.39</td>\n",
       "      <td>44.44</td>\n",
       "      <td>11.11</td>\n",
       "      <td>44.44</td>\n",
       "      <td>11</td>\n",
       "      <td>7.161234</td>\n",
       "      <td>1</td>\n",
       "    </tr>\n",
       "    <tr>\n",
       "      <th>26</th>\n",
       "      <td>1</td>\n",
       "      <td>0.00</td>\n",
       "      <td>0.00</td>\n",
       "      <td>0.00</td>\n",
       "      <td>0.00</td>\n",
       "      <td>33.33</td>\n",
       "      <td>33.33</td>\n",
       "      <td>33.33</td>\n",
       "      <td>8</td>\n",
       "      <td>5.521461</td>\n",
       "      <td>0</td>\n",
       "    </tr>\n",
       "  </tbody>\n",
       "</table>\n",
       "</div>"
      ],
      "text/plain": [
       "    q3    q7    q8    q9   q10    q11    q12    q13  q14       q15  \\\n",
       "13   2  0.69  0.00  1.39  0.00  16.67  66.67  16.67    7  5.830415   \n",
       "15   1  0.00  0.00  0.00  0.00  33.33  33.33  33.33    6  4.812184   \n",
       "16  12  2.48  1.95  1.61  2.08  35.00  25.00  40.00    4  6.433342   \n",
       "24   4  1.39  1.39  0.00  1.39  44.44  11.11  44.44   11  7.161234   \n",
       "26   1  0.00  0.00  0.00  0.00  33.33  33.33  33.33    8  5.521461   \n",
       "\n",
       "    cluster_number  \n",
       "13               3  \n",
       "15               0  \n",
       "16               0  \n",
       "24               1  \n",
       "26               0  "
      ]
     },
     "execution_count": 131,
     "metadata": {},
     "output_type": "execute_result"
    }
   ],
   "source": [
    "#  b. What was the average “number of reviews per reviewer (q3)” among the points in each of the clusters (eg. C1: 1.4 C2: 4.2 C3: 3.4 etc)\n",
    "# reviewers_q7q15.loc[:,'cluster_numbers'] = clusters\n",
    "# reviewers_q7q15.join(reviewers.loc[:,'q3'])\n",
    "\n",
    "reviewers_q715_q3.loc[:, \"cluster_number\"] = clusters\n",
    "reviewers_q715_q3.head()"
   ]
  },
  {
   "cell_type": "code",
   "execution_count": 134,
   "metadata": {
    "collapsed": false,
    "scrolled": true
   },
   "outputs": [
    {
     "data": {
      "text/plain": [
       "cluster_number\n",
       "0    4.959675\n",
       "1    8.995139\n",
       "2    7.828889\n",
       "3    4.873224\n",
       "4    6.789233\n",
       "Name: q3, dtype: float64"
      ]
     },
     "execution_count": 134,
     "metadata": {},
     "output_type": "execute_result"
    }
   ],
   "source": [
    "# b. What was the average “number of reviews per reviewer (q3)” among the points in each of the clusters (eg. C1: 1.4 C2: 4.2 C3: 3.4 etc)\n",
    "reviewers_q715_q3_cluster = reviewers_q715_q3.groupby(\"cluster_number\")[\"q3\"].mean()\n",
    "reviewers_q715_q3_cluster"
   ]
  },
  {
   "cell_type": "markdown",
   "metadata": {},
   "source": [
    "# 7. Cluster the dataset using the features described in question 6 + every group’s question 16 features (you may drop features with high incidents of -Inf / blank / or NaN values). It is suggested that you perform some form of normalization on these question 16 features so as not to over bias the clustering towards the larger magnitude features.\n",
    "- a. Using the silhouette metric, what was the best k?\n",
    "- b. Using the the sum of within cluster variance metric with the elbow method what was the best k?\n"
   ]
  },
  {
   "cell_type": "code",
   "execution_count": 158,
   "metadata": {
    "collapsed": false,
    "scrolled": true
   },
   "outputs": [
    {
     "name": "stderr",
     "output_type": "stream",
     "text": [
      "//anaconda/lib/python3.5/site-packages/ipykernel/__main__.py:5: SettingWithCopyWarning: \n",
      "A value is trying to be set on a copy of a slice from a DataFrame\n",
      "\n",
      "See the caveats in the documentation: http://pandas.pydata.org/pandas-docs/stable/indexing.html#indexing-view-versus-copy\n"
     ]
    }
   ],
   "source": [
    "# reviewers.head()\n",
    "reviewers_q716 = reviewers.loc[:, 'q7':'q16ac']\n",
    "# del reviewers_q716['q16ab']\n",
    "reviewers_q7_q16 = reviewers_q716.dropna() #remove na to calc clusters\n",
    "reviewers_q7_q16.replace(-np.inf,np.nan,inplace=True)\n",
    "len(reviewers_q7_q16)\n",
    "# q6_df = reviewers_q7_q16"
   ]
  },
  {
   "cell_type": "code",
   "execution_count": 159,
   "metadata": {
    "collapsed": false
   },
   "outputs": [
    {
     "data": {
      "text/html": [
       "<div>\n",
       "<table border=\"1\" class=\"dataframe\">\n",
       "  <thead>\n",
       "    <tr style=\"text-align: right;\">\n",
       "      <th></th>\n",
       "      <th>q16a</th>\n",
       "      <th>q16b</th>\n",
       "      <th>q16c</th>\n",
       "      <th>q16d</th>\n",
       "      <th>q16e</th>\n",
       "      <th>q16f</th>\n",
       "      <th>q16g</th>\n",
       "      <th>q16h</th>\n",
       "      <th>q16i</th>\n",
       "      <th>q16j</th>\n",
       "      <th>...</th>\n",
       "      <th>q16t</th>\n",
       "      <th>q16u</th>\n",
       "      <th>q16v</th>\n",
       "      <th>q16w</th>\n",
       "      <th>q16x</th>\n",
       "      <th>q16y</th>\n",
       "      <th>q16z</th>\n",
       "      <th>q16aa</th>\n",
       "      <th>q16ab</th>\n",
       "      <th>q16ac</th>\n",
       "    </tr>\n",
       "  </thead>\n",
       "  <tbody>\n",
       "    <tr>\n",
       "      <th>13</th>\n",
       "      <td>0</td>\n",
       "      <td>1.414214</td>\n",
       "      <td>0.008811</td>\n",
       "      <td>4.000000</td>\n",
       "      <td>0.030837</td>\n",
       "      <td>1.000000</td>\n",
       "      <td>0</td>\n",
       "      <td>0</td>\n",
       "      <td>0</td>\n",
       "      <td>3.000000</td>\n",
       "      <td>...</td>\n",
       "      <td>no</td>\n",
       "      <td>0.000000</td>\n",
       "      <td>48</td>\n",
       "      <td>8</td>\n",
       "      <td>0.000000</td>\n",
       "      <td>53.750000</td>\n",
       "      <td>0</td>\n",
       "      <td>0</td>\n",
       "      <td>3.000000</td>\n",
       "      <td>4.000000</td>\n",
       "    </tr>\n",
       "    <tr>\n",
       "      <th>15</th>\n",
       "      <td>0</td>\n",
       "      <td>0.000000</td>\n",
       "      <td>0.024390</td>\n",
       "      <td>4.000000</td>\n",
       "      <td>0.024390</td>\n",
       "      <td>0.000000</td>\n",
       "      <td>0</td>\n",
       "      <td>0</td>\n",
       "      <td>0</td>\n",
       "      <td>3.000000</td>\n",
       "      <td>...</td>\n",
       "      <td>no</td>\n",
       "      <td>0.000000</td>\n",
       "      <td>21</td>\n",
       "      <td>4</td>\n",
       "      <td>0.000000</td>\n",
       "      <td>11.500000</td>\n",
       "      <td>0</td>\n",
       "      <td>0</td>\n",
       "      <td>3.000000</td>\n",
       "      <td>4.000000</td>\n",
       "    </tr>\n",
       "    <tr>\n",
       "      <th>16</th>\n",
       "      <td>1</td>\n",
       "      <td>0.996205</td>\n",
       "      <td>0.002678</td>\n",
       "      <td>4.083333</td>\n",
       "      <td>0.030802</td>\n",
       "      <td>0.953794</td>\n",
       "      <td>5</td>\n",
       "      <td>10</td>\n",
       "      <td>0</td>\n",
       "      <td>1.666667</td>\n",
       "      <td>...</td>\n",
       "      <td>no</td>\n",
       "      <td>0.333333</td>\n",
       "      <td>16</td>\n",
       "      <td>49</td>\n",
       "      <td>0.003858</td>\n",
       "      <td>81.020833</td>\n",
       "      <td>6</td>\n",
       "      <td>2</td>\n",
       "      <td>1.666667</td>\n",
       "      <td>4.083333</td>\n",
       "    </tr>\n",
       "    <tr>\n",
       "      <th>24</th>\n",
       "      <td>0</td>\n",
       "      <td>1.154701</td>\n",
       "      <td>0.001746</td>\n",
       "      <td>4.000000</td>\n",
       "      <td>0.021343</td>\n",
       "      <td>1.000000</td>\n",
       "      <td>3</td>\n",
       "      <td>2</td>\n",
       "      <td>0</td>\n",
       "      <td>2.250000</td>\n",
       "      <td>...</td>\n",
       "      <td>no</td>\n",
       "      <td>1.000000</td>\n",
       "      <td>15</td>\n",
       "      <td>16</td>\n",
       "      <td>0.000905</td>\n",
       "      <td>139.875000</td>\n",
       "      <td>0</td>\n",
       "      <td>4</td>\n",
       "      <td>0.000000</td>\n",
       "      <td>4.000000</td>\n",
       "    </tr>\n",
       "    <tr>\n",
       "      <th>26</th>\n",
       "      <td>0</td>\n",
       "      <td>0.000000</td>\n",
       "      <td>0.012000</td>\n",
       "      <td>5.000000</td>\n",
       "      <td>0.016000</td>\n",
       "      <td>0.000000</td>\n",
       "      <td>0</td>\n",
       "      <td>1</td>\n",
       "      <td>0</td>\n",
       "      <td>3.000000</td>\n",
       "      <td>...</td>\n",
       "      <td>no</td>\n",
       "      <td>1.000000</td>\n",
       "      <td>3</td>\n",
       "      <td>5</td>\n",
       "      <td>0.012000</td>\n",
       "      <td>22.500000</td>\n",
       "      <td>0</td>\n",
       "      <td>0</td>\n",
       "      <td>0.000000</td>\n",
       "      <td>5.000000</td>\n",
       "    </tr>\n",
       "    <tr>\n",
       "      <th>30</th>\n",
       "      <td>2</td>\n",
       "      <td>1.488048</td>\n",
       "      <td>0.007597</td>\n",
       "      <td>4.250000</td>\n",
       "      <td>0.024862</td>\n",
       "      <td>1.391941</td>\n",
       "      <td>2</td>\n",
       "      <td>5</td>\n",
       "      <td>0</td>\n",
       "      <td>1.375000</td>\n",
       "      <td>...</td>\n",
       "      <td>yes</td>\n",
       "      <td>0.750000</td>\n",
       "      <td>1</td>\n",
       "      <td>34</td>\n",
       "      <td>0.006841</td>\n",
       "      <td>24.843750</td>\n",
       "      <td>0</td>\n",
       "      <td>0</td>\n",
       "      <td>0.000000</td>\n",
       "      <td>4.250000</td>\n",
       "    </tr>\n",
       "    <tr>\n",
       "      <th>42</th>\n",
       "      <td>1</td>\n",
       "      <td>2.000000</td>\n",
       "      <td>0.005750</td>\n",
       "      <td>3.000000</td>\n",
       "      <td>0.087207</td>\n",
       "      <td>1.788854</td>\n",
       "      <td>1</td>\n",
       "      <td>4</td>\n",
       "      <td>1</td>\n",
       "      <td>2.400000</td>\n",
       "      <td>...</td>\n",
       "      <td>no</td>\n",
       "      <td>0.400000</td>\n",
       "      <td>6</td>\n",
       "      <td>15</td>\n",
       "      <td>0.006773</td>\n",
       "      <td>69.000000</td>\n",
       "      <td>0</td>\n",
       "      <td>0</td>\n",
       "      <td>6.000000</td>\n",
       "      <td>3.000000</td>\n",
       "    </tr>\n",
       "    <tr>\n",
       "      <th>48</th>\n",
       "      <td>0</td>\n",
       "      <td>0.000000</td>\n",
       "      <td>0.008183</td>\n",
       "      <td>1.000000</td>\n",
       "      <td>0.058101</td>\n",
       "      <td>0.000000</td>\n",
       "      <td>1</td>\n",
       "      <td>1</td>\n",
       "      <td>1</td>\n",
       "      <td>10.000000</td>\n",
       "      <td>...</td>\n",
       "      <td>no</td>\n",
       "      <td>0.000000</td>\n",
       "      <td>17</td>\n",
       "      <td>1</td>\n",
       "      <td>0.015612</td>\n",
       "      <td>47.200000</td>\n",
       "      <td>0</td>\n",
       "      <td>0</td>\n",
       "      <td>1.000000</td>\n",
       "      <td>1.000000</td>\n",
       "    </tr>\n",
       "    <tr>\n",
       "      <th>55</th>\n",
       "      <td>1</td>\n",
       "      <td>1.133893</td>\n",
       "      <td>0.008679</td>\n",
       "      <td>4.428571</td>\n",
       "      <td>0.030769</td>\n",
       "      <td>1.049781</td>\n",
       "      <td>1</td>\n",
       "      <td>5</td>\n",
       "      <td>0</td>\n",
       "      <td>3.142857</td>\n",
       "      <td>...</td>\n",
       "      <td>no</td>\n",
       "      <td>1.000000</td>\n",
       "      <td>43</td>\n",
       "      <td>31</td>\n",
       "      <td>0.006819</td>\n",
       "      <td>51.000000</td>\n",
       "      <td>3</td>\n",
       "      <td>1</td>\n",
       "      <td>2.000000</td>\n",
       "      <td>4.428571</td>\n",
       "    </tr>\n",
       "    <tr>\n",
       "      <th>64</th>\n",
       "      <td>0</td>\n",
       "      <td>2.828427</td>\n",
       "      <td>0.029586</td>\n",
       "      <td>3.000000</td>\n",
       "      <td>0.029586</td>\n",
       "      <td>2.000000</td>\n",
       "      <td>0</td>\n",
       "      <td>1</td>\n",
       "      <td>0</td>\n",
       "      <td>7.500000</td>\n",
       "      <td>...</td>\n",
       "      <td>no</td>\n",
       "      <td>0.000000</td>\n",
       "      <td>45</td>\n",
       "      <td>6</td>\n",
       "      <td>0.001577</td>\n",
       "      <td>33.041667</td>\n",
       "      <td>0</td>\n",
       "      <td>0</td>\n",
       "      <td>1.500000</td>\n",
       "      <td>3.000000</td>\n",
       "    </tr>\n",
       "    <tr>\n",
       "      <th>69</th>\n",
       "      <td>2</td>\n",
       "      <td>1.193416</td>\n",
       "      <td>0.000432</td>\n",
       "      <td>4.166667</td>\n",
       "      <td>0.020110</td>\n",
       "      <td>1.142609</td>\n",
       "      <td>11</td>\n",
       "      <td>7</td>\n",
       "      <td>0</td>\n",
       "      <td>0.333333</td>\n",
       "      <td>...</td>\n",
       "      <td>no</td>\n",
       "      <td>0.416667</td>\n",
       "      <td>36</td>\n",
       "      <td>50</td>\n",
       "      <td>0.003194</td>\n",
       "      <td>118.833333</td>\n",
       "      <td>0</td>\n",
       "      <td>0</td>\n",
       "      <td>0.000000</td>\n",
       "      <td>4.166667</td>\n",
       "    </tr>\n",
       "    <tr>\n",
       "      <th>80</th>\n",
       "      <td>0</td>\n",
       "      <td>0.707107</td>\n",
       "      <td>0.006605</td>\n",
       "      <td>4.500000</td>\n",
       "      <td>0.067371</td>\n",
       "      <td>0.500000</td>\n",
       "      <td>0</td>\n",
       "      <td>2</td>\n",
       "      <td>0</td>\n",
       "      <td>5.000000</td>\n",
       "      <td>...</td>\n",
       "      <td>no</td>\n",
       "      <td>1.000000</td>\n",
       "      <td>43</td>\n",
       "      <td>9</td>\n",
       "      <td>0.002991</td>\n",
       "      <td>36.125000</td>\n",
       "      <td>0</td>\n",
       "      <td>2</td>\n",
       "      <td>0.000000</td>\n",
       "      <td>4.500000</td>\n",
       "    </tr>\n",
       "    <tr>\n",
       "      <th>84</th>\n",
       "      <td>2</td>\n",
       "      <td>1.728840</td>\n",
       "      <td>0.001925</td>\n",
       "      <td>2.900000</td>\n",
       "      <td>0.022202</td>\n",
       "      <td>1.640122</td>\n",
       "      <td>4</td>\n",
       "      <td>5</td>\n",
       "      <td>0</td>\n",
       "      <td>1.500000</td>\n",
       "      <td>...</td>\n",
       "      <td>no</td>\n",
       "      <td>0.100000</td>\n",
       "      <td>2</td>\n",
       "      <td>29</td>\n",
       "      <td>0.001346</td>\n",
       "      <td>83.533333</td>\n",
       "      <td>0</td>\n",
       "      <td>0</td>\n",
       "      <td>0.000000</td>\n",
       "      <td>2.900000</td>\n",
       "    </tr>\n",
       "    <tr>\n",
       "      <th>87</th>\n",
       "      <td>0</td>\n",
       "      <td>2.000000</td>\n",
       "      <td>0.004302</td>\n",
       "      <td>4.000000</td>\n",
       "      <td>0.054702</td>\n",
       "      <td>1.732051</td>\n",
       "      <td>0</td>\n",
       "      <td>0</td>\n",
       "      <td>0</td>\n",
       "      <td>1.750000</td>\n",
       "      <td>...</td>\n",
       "      <td>no</td>\n",
       "      <td>0.000000</td>\n",
       "      <td>32</td>\n",
       "      <td>16</td>\n",
       "      <td>0.000000</td>\n",
       "      <td>58.666667</td>\n",
       "      <td>0</td>\n",
       "      <td>0</td>\n",
       "      <td>0.500000</td>\n",
       "      <td>4.000000</td>\n",
       "    </tr>\n",
       "    <tr>\n",
       "      <th>91</th>\n",
       "      <td>0</td>\n",
       "      <td>0.000000</td>\n",
       "      <td>0.007916</td>\n",
       "      <td>5.000000</td>\n",
       "      <td>0.029024</td>\n",
       "      <td>0.000000</td>\n",
       "      <td>0</td>\n",
       "      <td>0</td>\n",
       "      <td>0</td>\n",
       "      <td>1.500000</td>\n",
       "      <td>...</td>\n",
       "      <td>no</td>\n",
       "      <td>0.000000</td>\n",
       "      <td>28</td>\n",
       "      <td>10</td>\n",
       "      <td>0.000000</td>\n",
       "      <td>25.250000</td>\n",
       "      <td>0</td>\n",
       "      <td>0</td>\n",
       "      <td>1.000000</td>\n",
       "      <td>5.000000</td>\n",
       "    </tr>\n",
       "    <tr>\n",
       "      <th>94</th>\n",
       "      <td>0</td>\n",
       "      <td>0.755929</td>\n",
       "      <td>0.001747</td>\n",
       "      <td>4.285714</td>\n",
       "      <td>0.027001</td>\n",
       "      <td>0.699854</td>\n",
       "      <td>4</td>\n",
       "      <td>6</td>\n",
       "      <td>0</td>\n",
       "      <td>1.571429</td>\n",
       "      <td>...</td>\n",
       "      <td>no</td>\n",
       "      <td>0.714286</td>\n",
       "      <td>22</td>\n",
       "      <td>30</td>\n",
       "      <td>0.002196</td>\n",
       "      <td>90.880952</td>\n",
       "      <td>1</td>\n",
       "      <td>0</td>\n",
       "      <td>0.000000</td>\n",
       "      <td>4.285714</td>\n",
       "    </tr>\n",
       "    <tr>\n",
       "      <th>95</th>\n",
       "      <td>0</td>\n",
       "      <td>0.516398</td>\n",
       "      <td>0.001749</td>\n",
       "      <td>4.400000</td>\n",
       "      <td>0.030171</td>\n",
       "      <td>0.489898</td>\n",
       "      <td>2</td>\n",
       "      <td>8</td>\n",
       "      <td>0</td>\n",
       "      <td>0.400000</td>\n",
       "      <td>...</td>\n",
       "      <td>yes</td>\n",
       "      <td>0.200000</td>\n",
       "      <td>41</td>\n",
       "      <td>44</td>\n",
       "      <td>0.005842</td>\n",
       "      <td>38.450000</td>\n",
       "      <td>3</td>\n",
       "      <td>1</td>\n",
       "      <td>0.000000</td>\n",
       "      <td>4.400000</td>\n",
       "    </tr>\n",
       "    <tr>\n",
       "      <th>98</th>\n",
       "      <td>0</td>\n",
       "      <td>0.000000</td>\n",
       "      <td>0.012195</td>\n",
       "      <td>4.000000</td>\n",
       "      <td>0.017422</td>\n",
       "      <td>0.000000</td>\n",
       "      <td>0</td>\n",
       "      <td>0</td>\n",
       "      <td>0</td>\n",
       "      <td>7.000000</td>\n",
       "      <td>...</td>\n",
       "      <td>no</td>\n",
       "      <td>0.000000</td>\n",
       "      <td>42</td>\n",
       "      <td>4</td>\n",
       "      <td>0.000000</td>\n",
       "      <td>27.000000</td>\n",
       "      <td>0</td>\n",
       "      <td>0</td>\n",
       "      <td>3.250000</td>\n",
       "      <td>4.000000</td>\n",
       "    </tr>\n",
       "    <tr>\n",
       "      <th>102</th>\n",
       "      <td>0</td>\n",
       "      <td>0.000000</td>\n",
       "      <td>0.012146</td>\n",
       "      <td>5.000000</td>\n",
       "      <td>0.028340</td>\n",
       "      <td>0.000000</td>\n",
       "      <td>1</td>\n",
       "      <td>1</td>\n",
       "      <td>0</td>\n",
       "      <td>3.000000</td>\n",
       "      <td>...</td>\n",
       "      <td>no</td>\n",
       "      <td>0.000000</td>\n",
       "      <td>24</td>\n",
       "      <td>5</td>\n",
       "      <td>0.008097</td>\n",
       "      <td>24.500000</td>\n",
       "      <td>0</td>\n",
       "      <td>0</td>\n",
       "      <td>0.000000</td>\n",
       "      <td>5.000000</td>\n",
       "    </tr>\n",
       "    <tr>\n",
       "      <th>103</th>\n",
       "      <td>0</td>\n",
       "      <td>0.000000</td>\n",
       "      <td>0.001536</td>\n",
       "      <td>1.000000</td>\n",
       "      <td>0.040848</td>\n",
       "      <td>0.000000</td>\n",
       "      <td>0</td>\n",
       "      <td>1</td>\n",
       "      <td>0</td>\n",
       "      <td>5.000000</td>\n",
       "      <td>...</td>\n",
       "      <td>no</td>\n",
       "      <td>0.000000</td>\n",
       "      <td>35</td>\n",
       "      <td>1</td>\n",
       "      <td>0.000620</td>\n",
       "      <td>198.666667</td>\n",
       "      <td>0</td>\n",
       "      <td>0</td>\n",
       "      <td>1.000000</td>\n",
       "      <td>1.000000</td>\n",
       "    </tr>\n",
       "    <tr>\n",
       "      <th>104</th>\n",
       "      <td>0</td>\n",
       "      <td>1.166667</td>\n",
       "      <td>0.001924</td>\n",
       "      <td>3.888889</td>\n",
       "      <td>0.023735</td>\n",
       "      <td>1.099944</td>\n",
       "      <td>3</td>\n",
       "      <td>7</td>\n",
       "      <td>0</td>\n",
       "      <td>2.333333</td>\n",
       "      <td>...</td>\n",
       "      <td>no</td>\n",
       "      <td>0.555556</td>\n",
       "      <td>24</td>\n",
       "      <td>35</td>\n",
       "      <td>0.001570</td>\n",
       "      <td>124.274074</td>\n",
       "      <td>0</td>\n",
       "      <td>0</td>\n",
       "      <td>0.400000</td>\n",
       "      <td>3.888889</td>\n",
       "    </tr>\n",
       "    <tr>\n",
       "      <th>111</th>\n",
       "      <td>2</td>\n",
       "      <td>1.214986</td>\n",
       "      <td>0.002193</td>\n",
       "      <td>4.142857</td>\n",
       "      <td>0.024119</td>\n",
       "      <td>1.124858</td>\n",
       "      <td>2</td>\n",
       "      <td>4</td>\n",
       "      <td>0</td>\n",
       "      <td>1.857143</td>\n",
       "      <td>...</td>\n",
       "      <td>no</td>\n",
       "      <td>0.142857</td>\n",
       "      <td>25</td>\n",
       "      <td>29</td>\n",
       "      <td>0.002476</td>\n",
       "      <td>111.814286</td>\n",
       "      <td>0</td>\n",
       "      <td>0</td>\n",
       "      <td>0.000000</td>\n",
       "      <td>4.142857</td>\n",
       "    </tr>\n",
       "    <tr>\n",
       "      <th>114</th>\n",
       "      <td>0</td>\n",
       "      <td>2.828427</td>\n",
       "      <td>0.007937</td>\n",
       "      <td>3.000000</td>\n",
       "      <td>0.026455</td>\n",
       "      <td>2.000000</td>\n",
       "      <td>1</td>\n",
       "      <td>2</td>\n",
       "      <td>0</td>\n",
       "      <td>1.500000</td>\n",
       "      <td>...</td>\n",
       "      <td>no</td>\n",
       "      <td>0.000000</td>\n",
       "      <td>20</td>\n",
       "      <td>6</td>\n",
       "      <td>0.015169</td>\n",
       "      <td>21.000000</td>\n",
       "      <td>0</td>\n",
       "      <td>0</td>\n",
       "      <td>5.000000</td>\n",
       "      <td>3.000000</td>\n",
       "    </tr>\n",
       "    <tr>\n",
       "      <th>120</th>\n",
       "      <td>1</td>\n",
       "      <td>0.000000</td>\n",
       "      <td>0.008716</td>\n",
       "      <td>1.000000</td>\n",
       "      <td>0.030111</td>\n",
       "      <td>0.000000</td>\n",
       "      <td>0</td>\n",
       "      <td>0</td>\n",
       "      <td>0</td>\n",
       "      <td>5.500000</td>\n",
       "      <td>...</td>\n",
       "      <td>no</td>\n",
       "      <td>0.000000</td>\n",
       "      <td>4</td>\n",
       "      <td>2</td>\n",
       "      <td>0.000000</td>\n",
       "      <td>67.666667</td>\n",
       "      <td>0</td>\n",
       "      <td>0</td>\n",
       "      <td>2.000000</td>\n",
       "      <td>1.000000</td>\n",
       "    </tr>\n",
       "    <tr>\n",
       "      <th>121</th>\n",
       "      <td>1</td>\n",
       "      <td>1.414214</td>\n",
       "      <td>0.023669</td>\n",
       "      <td>2.000000</td>\n",
       "      <td>0.029586</td>\n",
       "      <td>1.000000</td>\n",
       "      <td>0</td>\n",
       "      <td>1</td>\n",
       "      <td>0</td>\n",
       "      <td>8.000000</td>\n",
       "      <td>...</td>\n",
       "      <td>yes</td>\n",
       "      <td>0.000000</td>\n",
       "      <td>17</td>\n",
       "      <td>4</td>\n",
       "      <td>0.007353</td>\n",
       "      <td>19.041667</td>\n",
       "      <td>0</td>\n",
       "      <td>0</td>\n",
       "      <td>0.000000</td>\n",
       "      <td>2.000000</td>\n",
       "    </tr>\n",
       "    <tr>\n",
       "      <th>125</th>\n",
       "      <td>1</td>\n",
       "      <td>0.000000</td>\n",
       "      <td>0.006311</td>\n",
       "      <td>5.000000</td>\n",
       "      <td>0.033661</td>\n",
       "      <td>0.000000</td>\n",
       "      <td>2</td>\n",
       "      <td>2</td>\n",
       "      <td>0</td>\n",
       "      <td>3.000000</td>\n",
       "      <td>...</td>\n",
       "      <td>no</td>\n",
       "      <td>0.000000</td>\n",
       "      <td>26</td>\n",
       "      <td>15</td>\n",
       "      <td>0.003972</td>\n",
       "      <td>29.166667</td>\n",
       "      <td>0</td>\n",
       "      <td>0</td>\n",
       "      <td>1.000000</td>\n",
       "      <td>5.000000</td>\n",
       "    </tr>\n",
       "    <tr>\n",
       "      <th>127</th>\n",
       "      <td>0</td>\n",
       "      <td>1.414214</td>\n",
       "      <td>0.005521</td>\n",
       "      <td>4.000000</td>\n",
       "      <td>0.015773</td>\n",
       "      <td>1.000000</td>\n",
       "      <td>0</td>\n",
       "      <td>0</td>\n",
       "      <td>0</td>\n",
       "      <td>3.500000</td>\n",
       "      <td>...</td>\n",
       "      <td>no</td>\n",
       "      <td>1.000000</td>\n",
       "      <td>5</td>\n",
       "      <td>8</td>\n",
       "      <td>0.000000</td>\n",
       "      <td>35.250000</td>\n",
       "      <td>0</td>\n",
       "      <td>0</td>\n",
       "      <td>0.000000</td>\n",
       "      <td>4.000000</td>\n",
       "    </tr>\n",
       "    <tr>\n",
       "      <th>136</th>\n",
       "      <td>2</td>\n",
       "      <td>2.309401</td>\n",
       "      <td>0.005230</td>\n",
       "      <td>3.666667</td>\n",
       "      <td>0.027981</td>\n",
       "      <td>1.885618</td>\n",
       "      <td>4</td>\n",
       "      <td>3</td>\n",
       "      <td>0</td>\n",
       "      <td>6.666667</td>\n",
       "      <td>...</td>\n",
       "      <td>no</td>\n",
       "      <td>0.666667</td>\n",
       "      <td>19</td>\n",
       "      <td>11</td>\n",
       "      <td>0.002655</td>\n",
       "      <td>78.888889</td>\n",
       "      <td>0</td>\n",
       "      <td>0</td>\n",
       "      <td>0.000000</td>\n",
       "      <td>3.666667</td>\n",
       "    </tr>\n",
       "    <tr>\n",
       "      <th>137</th>\n",
       "      <td>5</td>\n",
       "      <td>1.315587</td>\n",
       "      <td>0.001520</td>\n",
       "      <td>3.692308</td>\n",
       "      <td>0.024123</td>\n",
       "      <td>1.263975</td>\n",
       "      <td>3</td>\n",
       "      <td>0</td>\n",
       "      <td>0</td>\n",
       "      <td>1.153846</td>\n",
       "      <td>...</td>\n",
       "      <td>no</td>\n",
       "      <td>0.461538</td>\n",
       "      <td>1</td>\n",
       "      <td>48</td>\n",
       "      <td>0.000000</td>\n",
       "      <td>93.692308</td>\n",
       "      <td>1</td>\n",
       "      <td>1</td>\n",
       "      <td>0.800000</td>\n",
       "      <td>3.692308</td>\n",
       "    </tr>\n",
       "    <tr>\n",
       "      <th>138</th>\n",
       "      <td>0</td>\n",
       "      <td>1.414214</td>\n",
       "      <td>0.015152</td>\n",
       "      <td>4.000000</td>\n",
       "      <td>0.000000</td>\n",
       "      <td>1.000000</td>\n",
       "      <td>0</td>\n",
       "      <td>1</td>\n",
       "      <td>0</td>\n",
       "      <td>3.000000</td>\n",
       "      <td>...</td>\n",
       "      <td>no</td>\n",
       "      <td>0.000000</td>\n",
       "      <td>24</td>\n",
       "      <td>8</td>\n",
       "      <td>0.005495</td>\n",
       "      <td>18.750000</td>\n",
       "      <td>0</td>\n",
       "      <td>0</td>\n",
       "      <td>0.000000</td>\n",
       "      <td>4.000000</td>\n",
       "    </tr>\n",
       "    <tr>\n",
       "      <th>...</th>\n",
       "      <td>...</td>\n",
       "      <td>...</td>\n",
       "      <td>...</td>\n",
       "      <td>...</td>\n",
       "      <td>...</td>\n",
       "      <td>...</td>\n",
       "      <td>...</td>\n",
       "      <td>...</td>\n",
       "      <td>...</td>\n",
       "      <td>...</td>\n",
       "      <td>...</td>\n",
       "      <td>...</td>\n",
       "      <td>...</td>\n",
       "      <td>...</td>\n",
       "      <td>...</td>\n",
       "      <td>...</td>\n",
       "      <td>...</td>\n",
       "      <td>...</td>\n",
       "      <td>...</td>\n",
       "      <td>...</td>\n",
       "      <td>...</td>\n",
       "    </tr>\n",
       "    <tr>\n",
       "      <th>123885</th>\n",
       "      <td>1</td>\n",
       "      <td>2.000000</td>\n",
       "      <td>0.004651</td>\n",
       "      <td>3.000000</td>\n",
       "      <td>0.022093</td>\n",
       "      <td>1.632993</td>\n",
       "      <td>0</td>\n",
       "      <td>2</td>\n",
       "      <td>0</td>\n",
       "      <td>1.333333</td>\n",
       "      <td>...</td>\n",
       "      <td>no</td>\n",
       "      <td>0.000000</td>\n",
       "      <td>41</td>\n",
       "      <td>9</td>\n",
       "      <td>0.007331</td>\n",
       "      <td>47.666667</td>\n",
       "      <td>0</td>\n",
       "      <td>0</td>\n",
       "      <td>0.000000</td>\n",
       "      <td>3.000000</td>\n",
       "    </tr>\n",
       "    <tr>\n",
       "      <th>123890</th>\n",
       "      <td>0</td>\n",
       "      <td>0.788811</td>\n",
       "      <td>0.003484</td>\n",
       "      <td>3.800000</td>\n",
       "      <td>0.027875</td>\n",
       "      <td>0.748331</td>\n",
       "      <td>1</td>\n",
       "      <td>0</td>\n",
       "      <td>0</td>\n",
       "      <td>0.500000</td>\n",
       "      <td>...</td>\n",
       "      <td>no</td>\n",
       "      <td>0.300000</td>\n",
       "      <td>3</td>\n",
       "      <td>38</td>\n",
       "      <td>0.000000</td>\n",
       "      <td>21.850000</td>\n",
       "      <td>0</td>\n",
       "      <td>0</td>\n",
       "      <td>0.500000</td>\n",
       "      <td>3.800000</td>\n",
       "    </tr>\n",
       "    <tr>\n",
       "      <th>123891</th>\n",
       "      <td>5</td>\n",
       "      <td>1.223043</td>\n",
       "      <td>0.001607</td>\n",
       "      <td>3.812500</td>\n",
       "      <td>0.021739</td>\n",
       "      <td>1.184206</td>\n",
       "      <td>1</td>\n",
       "      <td>11</td>\n",
       "      <td>0</td>\n",
       "      <td>1.062500</td>\n",
       "      <td>...</td>\n",
       "      <td>no</td>\n",
       "      <td>0.187500</td>\n",
       "      <td>41</td>\n",
       "      <td>61</td>\n",
       "      <td>0.003113</td>\n",
       "      <td>92.265625</td>\n",
       "      <td>0</td>\n",
       "      <td>1</td>\n",
       "      <td>0.500000</td>\n",
       "      <td>3.812500</td>\n",
       "    </tr>\n",
       "    <tr>\n",
       "      <th>123892</th>\n",
       "      <td>1</td>\n",
       "      <td>0.957427</td>\n",
       "      <td>0.013613</td>\n",
       "      <td>4.250000</td>\n",
       "      <td>0.038874</td>\n",
       "      <td>0.829156</td>\n",
       "      <td>1</td>\n",
       "      <td>4</td>\n",
       "      <td>0</td>\n",
       "      <td>26.000000</td>\n",
       "      <td>...</td>\n",
       "      <td>no</td>\n",
       "      <td>1.750000</td>\n",
       "      <td>17</td>\n",
       "      <td>17</td>\n",
       "      <td>0.004551</td>\n",
       "      <td>37.361699</td>\n",
       "      <td>0</td>\n",
       "      <td>0</td>\n",
       "      <td>0.000000</td>\n",
       "      <td>4.250000</td>\n",
       "    </tr>\n",
       "    <tr>\n",
       "      <th>123893</th>\n",
       "      <td>1</td>\n",
       "      <td>1.154701</td>\n",
       "      <td>0.002441</td>\n",
       "      <td>3.666667</td>\n",
       "      <td>0.026851</td>\n",
       "      <td>0.942809</td>\n",
       "      <td>1</td>\n",
       "      <td>0</td>\n",
       "      <td>0</td>\n",
       "      <td>1.000000</td>\n",
       "      <td>...</td>\n",
       "      <td>no</td>\n",
       "      <td>0.333333</td>\n",
       "      <td>7</td>\n",
       "      <td>11</td>\n",
       "      <td>0.000000</td>\n",
       "      <td>74.000000</td>\n",
       "      <td>2</td>\n",
       "      <td>0</td>\n",
       "      <td>0.000000</td>\n",
       "      <td>3.666667</td>\n",
       "    </tr>\n",
       "    <tr>\n",
       "      <th>123894</th>\n",
       "      <td>0</td>\n",
       "      <td>0.000000</td>\n",
       "      <td>0.004170</td>\n",
       "      <td>4.000000</td>\n",
       "      <td>0.029191</td>\n",
       "      <td>0.000000</td>\n",
       "      <td>0</td>\n",
       "      <td>0</td>\n",
       "      <td>0</td>\n",
       "      <td>5.000000</td>\n",
       "      <td>...</td>\n",
       "      <td>no</td>\n",
       "      <td>0.000000</td>\n",
       "      <td>46</td>\n",
       "      <td>4</td>\n",
       "      <td>0.000000</td>\n",
       "      <td>106.500000</td>\n",
       "      <td>0</td>\n",
       "      <td>0</td>\n",
       "      <td>1.000000</td>\n",
       "      <td>4.000000</td>\n",
       "    </tr>\n",
       "    <tr>\n",
       "      <th>123895</th>\n",
       "      <td>1</td>\n",
       "      <td>1.422226</td>\n",
       "      <td>0.004614</td>\n",
       "      <td>3.250000</td>\n",
       "      <td>0.024390</td>\n",
       "      <td>1.361678</td>\n",
       "      <td>2</td>\n",
       "      <td>1</td>\n",
       "      <td>0</td>\n",
       "      <td>1.166667</td>\n",
       "      <td>...</td>\n",
       "      <td>no</td>\n",
       "      <td>0.083333</td>\n",
       "      <td>21</td>\n",
       "      <td>39</td>\n",
       "      <td>0.000434</td>\n",
       "      <td>29.833333</td>\n",
       "      <td>0</td>\n",
       "      <td>3</td>\n",
       "      <td>0.000000</td>\n",
       "      <td>3.250000</td>\n",
       "    </tr>\n",
       "    <tr>\n",
       "      <th>123906</th>\n",
       "      <td>2</td>\n",
       "      <td>1.807722</td>\n",
       "      <td>0.004288</td>\n",
       "      <td>2.125000</td>\n",
       "      <td>0.023417</td>\n",
       "      <td>1.690969</td>\n",
       "      <td>10</td>\n",
       "      <td>7</td>\n",
       "      <td>0</td>\n",
       "      <td>1.625000</td>\n",
       "      <td>...</td>\n",
       "      <td>yes</td>\n",
       "      <td>0.125000</td>\n",
       "      <td>13</td>\n",
       "      <td>17</td>\n",
       "      <td>0.007293</td>\n",
       "      <td>49.291667</td>\n",
       "      <td>1</td>\n",
       "      <td>0</td>\n",
       "      <td>0.000000</td>\n",
       "      <td>2.125000</td>\n",
       "    </tr>\n",
       "    <tr>\n",
       "      <th>123907</th>\n",
       "      <td>0</td>\n",
       "      <td>2.309401</td>\n",
       "      <td>0.002867</td>\n",
       "      <td>3.666667</td>\n",
       "      <td>0.022939</td>\n",
       "      <td>1.885618</td>\n",
       "      <td>0</td>\n",
       "      <td>2</td>\n",
       "      <td>0</td>\n",
       "      <td>2.666667</td>\n",
       "      <td>...</td>\n",
       "      <td>no</td>\n",
       "      <td>0.333333</td>\n",
       "      <td>44</td>\n",
       "      <td>11</td>\n",
       "      <td>0.002908</td>\n",
       "      <td>73.277778</td>\n",
       "      <td>0</td>\n",
       "      <td>1</td>\n",
       "      <td>0.000000</td>\n",
       "      <td>3.666667</td>\n",
       "    </tr>\n",
       "    <tr>\n",
       "      <th>123933</th>\n",
       "      <td>0</td>\n",
       "      <td>1.258306</td>\n",
       "      <td>0.002127</td>\n",
       "      <td>2.750000</td>\n",
       "      <td>0.019353</td>\n",
       "      <td>1.089725</td>\n",
       "      <td>1</td>\n",
       "      <td>1</td>\n",
       "      <td>0</td>\n",
       "      <td>2.500000</td>\n",
       "      <td>...</td>\n",
       "      <td>no</td>\n",
       "      <td>0.500000</td>\n",
       "      <td>43</td>\n",
       "      <td>11</td>\n",
       "      <td>0.000260</td>\n",
       "      <td>102.958333</td>\n",
       "      <td>1</td>\n",
       "      <td>1</td>\n",
       "      <td>0.000000</td>\n",
       "      <td>2.750000</td>\n",
       "    </tr>\n",
       "    <tr>\n",
       "      <th>123935</th>\n",
       "      <td>4</td>\n",
       "      <td>0.887625</td>\n",
       "      <td>0.001294</td>\n",
       "      <td>4.333333</td>\n",
       "      <td>0.030048</td>\n",
       "      <td>0.849837</td>\n",
       "      <td>6</td>\n",
       "      <td>6</td>\n",
       "      <td>0</td>\n",
       "      <td>1.166667</td>\n",
       "      <td>...</td>\n",
       "      <td>yes</td>\n",
       "      <td>0.416667</td>\n",
       "      <td>50</td>\n",
       "      <td>52</td>\n",
       "      <td>0.001612</td>\n",
       "      <td>149.979167</td>\n",
       "      <td>2</td>\n",
       "      <td>0</td>\n",
       "      <td>0.000000</td>\n",
       "      <td>4.333333</td>\n",
       "    </tr>\n",
       "    <tr>\n",
       "      <th>123938</th>\n",
       "      <td>3</td>\n",
       "      <td>1.000000</td>\n",
       "      <td>0.013171</td>\n",
       "      <td>3.500000</td>\n",
       "      <td>0.024793</td>\n",
       "      <td>0.866025</td>\n",
       "      <td>0</td>\n",
       "      <td>3</td>\n",
       "      <td>0</td>\n",
       "      <td>12.750000</td>\n",
       "      <td>...</td>\n",
       "      <td>no</td>\n",
       "      <td>0.250000</td>\n",
       "      <td>38</td>\n",
       "      <td>14</td>\n",
       "      <td>0.004011</td>\n",
       "      <td>37.172917</td>\n",
       "      <td>0</td>\n",
       "      <td>0</td>\n",
       "      <td>3.000000</td>\n",
       "      <td>3.500000</td>\n",
       "    </tr>\n",
       "    <tr>\n",
       "      <th>123943</th>\n",
       "      <td>3</td>\n",
       "      <td>1.414214</td>\n",
       "      <td>0.001898</td>\n",
       "      <td>4.000000</td>\n",
       "      <td>0.022342</td>\n",
       "      <td>1.333333</td>\n",
       "      <td>5</td>\n",
       "      <td>7</td>\n",
       "      <td>0</td>\n",
       "      <td>1.444444</td>\n",
       "      <td>...</td>\n",
       "      <td>no</td>\n",
       "      <td>0.444444</td>\n",
       "      <td>15</td>\n",
       "      <td>36</td>\n",
       "      <td>0.003436</td>\n",
       "      <td>77.722222</td>\n",
       "      <td>0</td>\n",
       "      <td>0</td>\n",
       "      <td>1.166667</td>\n",
       "      <td>4.000000</td>\n",
       "    </tr>\n",
       "    <tr>\n",
       "      <th>123946</th>\n",
       "      <td>1</td>\n",
       "      <td>0.629153</td>\n",
       "      <td>0.000895</td>\n",
       "      <td>4.562500</td>\n",
       "      <td>0.041745</td>\n",
       "      <td>0.609175</td>\n",
       "      <td>2</td>\n",
       "      <td>12</td>\n",
       "      <td>0</td>\n",
       "      <td>0.687500</td>\n",
       "      <td>...</td>\n",
       "      <td>yes</td>\n",
       "      <td>0.437500</td>\n",
       "      <td>49</td>\n",
       "      <td>73</td>\n",
       "      <td>0.003167</td>\n",
       "      <td>116.395833</td>\n",
       "      <td>0</td>\n",
       "      <td>3</td>\n",
       "      <td>0.000000</td>\n",
       "      <td>4.562500</td>\n",
       "    </tr>\n",
       "    <tr>\n",
       "      <th>123947</th>\n",
       "      <td>0</td>\n",
       "      <td>0.000000</td>\n",
       "      <td>0.004598</td>\n",
       "      <td>1.000000</td>\n",
       "      <td>0.024521</td>\n",
       "      <td>0.000000</td>\n",
       "      <td>0</td>\n",
       "      <td>0</td>\n",
       "      <td>0</td>\n",
       "      <td>6.000000</td>\n",
       "      <td>...</td>\n",
       "      <td>no</td>\n",
       "      <td>0.000000</td>\n",
       "      <td>24</td>\n",
       "      <td>1</td>\n",
       "      <td>0.000000</td>\n",
       "      <td>86.000000</td>\n",
       "      <td>0</td>\n",
       "      <td>0</td>\n",
       "      <td>0.500000</td>\n",
       "      <td>1.000000</td>\n",
       "    </tr>\n",
       "    <tr>\n",
       "      <th>123952</th>\n",
       "      <td>0</td>\n",
       "      <td>0.000000</td>\n",
       "      <td>0.002791</td>\n",
       "      <td>3.000000</td>\n",
       "      <td>0.016050</td>\n",
       "      <td>0.000000</td>\n",
       "      <td>1</td>\n",
       "      <td>1</td>\n",
       "      <td>0</td>\n",
       "      <td>2.000000</td>\n",
       "      <td>...</td>\n",
       "      <td>no</td>\n",
       "      <td>1.000000</td>\n",
       "      <td>31</td>\n",
       "      <td>6</td>\n",
       "      <td>0.001692</td>\n",
       "      <td>83.666667</td>\n",
       "      <td>0</td>\n",
       "      <td>1</td>\n",
       "      <td>0.000000</td>\n",
       "      <td>3.000000</td>\n",
       "    </tr>\n",
       "    <tr>\n",
       "      <th>123956</th>\n",
       "      <td>1</td>\n",
       "      <td>1.527525</td>\n",
       "      <td>0.004049</td>\n",
       "      <td>3.750000</td>\n",
       "      <td>0.032915</td>\n",
       "      <td>1.479020</td>\n",
       "      <td>1</td>\n",
       "      <td>12</td>\n",
       "      <td>0</td>\n",
       "      <td>2.437500</td>\n",
       "      <td>...</td>\n",
       "      <td>yes</td>\n",
       "      <td>0.500000</td>\n",
       "      <td>14</td>\n",
       "      <td>60</td>\n",
       "      <td>0.009081</td>\n",
       "      <td>49.359375</td>\n",
       "      <td>0</td>\n",
       "      <td>0</td>\n",
       "      <td>0.333333</td>\n",
       "      <td>3.750000</td>\n",
       "    </tr>\n",
       "    <tr>\n",
       "      <th>123966</th>\n",
       "      <td>6</td>\n",
       "      <td>1.613246</td>\n",
       "      <td>0.001113</td>\n",
       "      <td>3.461538</td>\n",
       "      <td>0.034210</td>\n",
       "      <td>1.549957</td>\n",
       "      <td>26</td>\n",
       "      <td>6</td>\n",
       "      <td>0</td>\n",
       "      <td>3.076923</td>\n",
       "      <td>...</td>\n",
       "      <td>yes</td>\n",
       "      <td>0.307692</td>\n",
       "      <td>29</td>\n",
       "      <td>45</td>\n",
       "      <td>0.000279</td>\n",
       "      <td>275.208425</td>\n",
       "      <td>1</td>\n",
       "      <td>0</td>\n",
       "      <td>2.000000</td>\n",
       "      <td>3.461538</td>\n",
       "    </tr>\n",
       "    <tr>\n",
       "      <th>123970</th>\n",
       "      <td>7</td>\n",
       "      <td>0.646335</td>\n",
       "      <td>0.016644</td>\n",
       "      <td>3.681818</td>\n",
       "      <td>0.032235</td>\n",
       "      <td>0.631475</td>\n",
       "      <td>6</td>\n",
       "      <td>14</td>\n",
       "      <td>0</td>\n",
       "      <td>15.090909</td>\n",
       "      <td>...</td>\n",
       "      <td>yes</td>\n",
       "      <td>0.318182</td>\n",
       "      <td>24</td>\n",
       "      <td>81</td>\n",
       "      <td>0.001650</td>\n",
       "      <td>32.051828</td>\n",
       "      <td>8</td>\n",
       "      <td>0</td>\n",
       "      <td>2.333333</td>\n",
       "      <td>3.681818</td>\n",
       "    </tr>\n",
       "    <tr>\n",
       "      <th>123981</th>\n",
       "      <td>3</td>\n",
       "      <td>1.368476</td>\n",
       "      <td>0.001241</td>\n",
       "      <td>3.454545</td>\n",
       "      <td>0.021562</td>\n",
       "      <td>1.304791</td>\n",
       "      <td>4</td>\n",
       "      <td>7</td>\n",
       "      <td>0</td>\n",
       "      <td>1.727273</td>\n",
       "      <td>...</td>\n",
       "      <td>no</td>\n",
       "      <td>0.090909</td>\n",
       "      <td>33</td>\n",
       "      <td>38</td>\n",
       "      <td>0.001008</td>\n",
       "      <td>193.090909</td>\n",
       "      <td>1</td>\n",
       "      <td>4</td>\n",
       "      <td>1.666667</td>\n",
       "      <td>3.454545</td>\n",
       "    </tr>\n",
       "    <tr>\n",
       "      <th>123994</th>\n",
       "      <td>0</td>\n",
       "      <td>0.000000</td>\n",
       "      <td>0.025581</td>\n",
       "      <td>4.000000</td>\n",
       "      <td>0.020930</td>\n",
       "      <td>0.000000</td>\n",
       "      <td>0</td>\n",
       "      <td>1</td>\n",
       "      <td>0</td>\n",
       "      <td>22.000000</td>\n",
       "      <td>...</td>\n",
       "      <td>no</td>\n",
       "      <td>0.000000</td>\n",
       "      <td>18</td>\n",
       "      <td>4</td>\n",
       "      <td>0.001168</td>\n",
       "      <td>20.750000</td>\n",
       "      <td>1</td>\n",
       "      <td>0</td>\n",
       "      <td>1.000000</td>\n",
       "      <td>4.000000</td>\n",
       "    </tr>\n",
       "    <tr>\n",
       "      <th>123995</th>\n",
       "      <td>0</td>\n",
       "      <td>0.000000</td>\n",
       "      <td>0.006881</td>\n",
       "      <td>4.000000</td>\n",
       "      <td>0.019495</td>\n",
       "      <td>0.000000</td>\n",
       "      <td>3</td>\n",
       "      <td>0</td>\n",
       "      <td>0</td>\n",
       "      <td>6.000000</td>\n",
       "      <td>...</td>\n",
       "      <td>no</td>\n",
       "      <td>1.000000</td>\n",
       "      <td>1</td>\n",
       "      <td>4</td>\n",
       "      <td>0.000000</td>\n",
       "      <td>50.333333</td>\n",
       "      <td>0</td>\n",
       "      <td>0</td>\n",
       "      <td>0.000000</td>\n",
       "      <td>4.000000</td>\n",
       "    </tr>\n",
       "    <tr>\n",
       "      <th>123997</th>\n",
       "      <td>3</td>\n",
       "      <td>1.303840</td>\n",
       "      <td>0.001957</td>\n",
       "      <td>2.800000</td>\n",
       "      <td>0.035068</td>\n",
       "      <td>1.166190</td>\n",
       "      <td>2</td>\n",
       "      <td>1</td>\n",
       "      <td>0</td>\n",
       "      <td>2.400000</td>\n",
       "      <td>...</td>\n",
       "      <td>no</td>\n",
       "      <td>1.000000</td>\n",
       "      <td>2</td>\n",
       "      <td>14</td>\n",
       "      <td>0.000199</td>\n",
       "      <td>137.466667</td>\n",
       "      <td>0</td>\n",
       "      <td>3</td>\n",
       "      <td>0.250000</td>\n",
       "      <td>2.800000</td>\n",
       "    </tr>\n",
       "    <tr>\n",
       "      <th>124007</th>\n",
       "      <td>0</td>\n",
       "      <td>0.000000</td>\n",
       "      <td>0.001084</td>\n",
       "      <td>4.000000</td>\n",
       "      <td>0.036850</td>\n",
       "      <td>0.000000</td>\n",
       "      <td>0</td>\n",
       "      <td>2</td>\n",
       "      <td>0</td>\n",
       "      <td>0.750000</td>\n",
       "      <td>...</td>\n",
       "      <td>no</td>\n",
       "      <td>0.500000</td>\n",
       "      <td>22</td>\n",
       "      <td>16</td>\n",
       "      <td>0.001703</td>\n",
       "      <td>130.500000</td>\n",
       "      <td>0</td>\n",
       "      <td>0</td>\n",
       "      <td>3.000000</td>\n",
       "      <td>4.000000</td>\n",
       "    </tr>\n",
       "    <tr>\n",
       "      <th>124008</th>\n",
       "      <td>2</td>\n",
       "      <td>1.808101</td>\n",
       "      <td>0.001557</td>\n",
       "      <td>3.538462</td>\n",
       "      <td>0.041950</td>\n",
       "      <td>1.737168</td>\n",
       "      <td>5</td>\n",
       "      <td>5</td>\n",
       "      <td>0</td>\n",
       "      <td>1.461538</td>\n",
       "      <td>...</td>\n",
       "      <td>no</td>\n",
       "      <td>0.307692</td>\n",
       "      <td>24</td>\n",
       "      <td>46</td>\n",
       "      <td>0.001929</td>\n",
       "      <td>104.533333</td>\n",
       "      <td>0</td>\n",
       "      <td>0</td>\n",
       "      <td>0.000000</td>\n",
       "      <td>3.538462</td>\n",
       "    </tr>\n",
       "    <tr>\n",
       "      <th>124013</th>\n",
       "      <td>1</td>\n",
       "      <td>1.443376</td>\n",
       "      <td>0.002613</td>\n",
       "      <td>3.916667</td>\n",
       "      <td>0.019410</td>\n",
       "      <td>1.381927</td>\n",
       "      <td>6</td>\n",
       "      <td>0</td>\n",
       "      <td>0</td>\n",
       "      <td>0.583333</td>\n",
       "      <td>...</td>\n",
       "      <td>no</td>\n",
       "      <td>0.916667</td>\n",
       "      <td>41</td>\n",
       "      <td>47</td>\n",
       "      <td>0.000000</td>\n",
       "      <td>39.527778</td>\n",
       "      <td>1</td>\n",
       "      <td>0</td>\n",
       "      <td>1.000000</td>\n",
       "      <td>3.916667</td>\n",
       "    </tr>\n",
       "    <tr>\n",
       "      <th>124016</th>\n",
       "      <td>0</td>\n",
       "      <td>0.000000</td>\n",
       "      <td>0.002433</td>\n",
       "      <td>4.000000</td>\n",
       "      <td>0.020276</td>\n",
       "      <td>0.000000</td>\n",
       "      <td>0</td>\n",
       "      <td>1</td>\n",
       "      <td>0</td>\n",
       "      <td>3.000000</td>\n",
       "      <td>...</td>\n",
       "      <td>no</td>\n",
       "      <td>1.000000</td>\n",
       "      <td>10</td>\n",
       "      <td>4</td>\n",
       "      <td>0.002445</td>\n",
       "      <td>114.500000</td>\n",
       "      <td>0</td>\n",
       "      <td>0</td>\n",
       "      <td>0.285714</td>\n",
       "      <td>4.000000</td>\n",
       "    </tr>\n",
       "    <tr>\n",
       "      <th>124019</th>\n",
       "      <td>1</td>\n",
       "      <td>1.500000</td>\n",
       "      <td>0.001634</td>\n",
       "      <td>3.000000</td>\n",
       "      <td>0.025754</td>\n",
       "      <td>1.414214</td>\n",
       "      <td>6</td>\n",
       "      <td>5</td>\n",
       "      <td>0</td>\n",
       "      <td>1.888889</td>\n",
       "      <td>...</td>\n",
       "      <td>yes</td>\n",
       "      <td>0.444444</td>\n",
       "      <td>19</td>\n",
       "      <td>27</td>\n",
       "      <td>0.001209</td>\n",
       "      <td>104.351852</td>\n",
       "      <td>1</td>\n",
       "      <td>0</td>\n",
       "      <td>1.000000</td>\n",
       "      <td>3.000000</td>\n",
       "    </tr>\n",
       "    <tr>\n",
       "      <th>124035</th>\n",
       "      <td>2</td>\n",
       "      <td>0.500000</td>\n",
       "      <td>0.003647</td>\n",
       "      <td>4.750000</td>\n",
       "      <td>0.064987</td>\n",
       "      <td>0.433013</td>\n",
       "      <td>2</td>\n",
       "      <td>2</td>\n",
       "      <td>0</td>\n",
       "      <td>2.750000</td>\n",
       "      <td>...</td>\n",
       "      <td>no</td>\n",
       "      <td>0.750000</td>\n",
       "      <td>2</td>\n",
       "      <td>19</td>\n",
       "      <td>0.004244</td>\n",
       "      <td>75.166667</td>\n",
       "      <td>0</td>\n",
       "      <td>0</td>\n",
       "      <td>0.500000</td>\n",
       "      <td>4.750000</td>\n",
       "    </tr>\n",
       "    <tr>\n",
       "      <th>124040</th>\n",
       "      <td>2</td>\n",
       "      <td>2.309401</td>\n",
       "      <td>0.002884</td>\n",
       "      <td>2.333333</td>\n",
       "      <td>0.021838</td>\n",
       "      <td>1.885618</td>\n",
       "      <td>0</td>\n",
       "      <td>1</td>\n",
       "      <td>0</td>\n",
       "      <td>2.333333</td>\n",
       "      <td>...</td>\n",
       "      <td>no</td>\n",
       "      <td>0.000000</td>\n",
       "      <td>2</td>\n",
       "      <td>7</td>\n",
       "      <td>0.000696</td>\n",
       "      <td>104.222222</td>\n",
       "      <td>0</td>\n",
       "      <td>0</td>\n",
       "      <td>0.000000</td>\n",
       "      <td>2.333333</td>\n",
       "    </tr>\n",
       "  </tbody>\n",
       "</table>\n",
       "<p>24205 rows × 29 columns</p>\n",
       "</div>"
      ],
      "text/plain": [
       "        q16a      q16b      q16c      q16d      q16e      q16f  q16g  q16h  \\\n",
       "13         0  1.414214  0.008811  4.000000  0.030837  1.000000     0     0   \n",
       "15         0  0.000000  0.024390  4.000000  0.024390  0.000000     0     0   \n",
       "16         1  0.996205  0.002678  4.083333  0.030802  0.953794     5    10   \n",
       "24         0  1.154701  0.001746  4.000000  0.021343  1.000000     3     2   \n",
       "26         0  0.000000  0.012000  5.000000  0.016000  0.000000     0     1   \n",
       "30         2  1.488048  0.007597  4.250000  0.024862  1.391941     2     5   \n",
       "42         1  2.000000  0.005750  3.000000  0.087207  1.788854     1     4   \n",
       "48         0  0.000000  0.008183  1.000000  0.058101  0.000000     1     1   \n",
       "55         1  1.133893  0.008679  4.428571  0.030769  1.049781     1     5   \n",
       "64         0  2.828427  0.029586  3.000000  0.029586  2.000000     0     1   \n",
       "69         2  1.193416  0.000432  4.166667  0.020110  1.142609    11     7   \n",
       "80         0  0.707107  0.006605  4.500000  0.067371  0.500000     0     2   \n",
       "84         2  1.728840  0.001925  2.900000  0.022202  1.640122     4     5   \n",
       "87         0  2.000000  0.004302  4.000000  0.054702  1.732051     0     0   \n",
       "91         0  0.000000  0.007916  5.000000  0.029024  0.000000     0     0   \n",
       "94         0  0.755929  0.001747  4.285714  0.027001  0.699854     4     6   \n",
       "95         0  0.516398  0.001749  4.400000  0.030171  0.489898     2     8   \n",
       "98         0  0.000000  0.012195  4.000000  0.017422  0.000000     0     0   \n",
       "102        0  0.000000  0.012146  5.000000  0.028340  0.000000     1     1   \n",
       "103        0  0.000000  0.001536  1.000000  0.040848  0.000000     0     1   \n",
       "104        0  1.166667  0.001924  3.888889  0.023735  1.099944     3     7   \n",
       "111        2  1.214986  0.002193  4.142857  0.024119  1.124858     2     4   \n",
       "114        0  2.828427  0.007937  3.000000  0.026455  2.000000     1     2   \n",
       "120        1  0.000000  0.008716  1.000000  0.030111  0.000000     0     0   \n",
       "121        1  1.414214  0.023669  2.000000  0.029586  1.000000     0     1   \n",
       "125        1  0.000000  0.006311  5.000000  0.033661  0.000000     2     2   \n",
       "127        0  1.414214  0.005521  4.000000  0.015773  1.000000     0     0   \n",
       "136        2  2.309401  0.005230  3.666667  0.027981  1.885618     4     3   \n",
       "137        5  1.315587  0.001520  3.692308  0.024123  1.263975     3     0   \n",
       "138        0  1.414214  0.015152  4.000000  0.000000  1.000000     0     1   \n",
       "...      ...       ...       ...       ...       ...       ...   ...   ...   \n",
       "123885     1  2.000000  0.004651  3.000000  0.022093  1.632993     0     2   \n",
       "123890     0  0.788811  0.003484  3.800000  0.027875  0.748331     1     0   \n",
       "123891     5  1.223043  0.001607  3.812500  0.021739  1.184206     1    11   \n",
       "123892     1  0.957427  0.013613  4.250000  0.038874  0.829156     1     4   \n",
       "123893     1  1.154701  0.002441  3.666667  0.026851  0.942809     1     0   \n",
       "123894     0  0.000000  0.004170  4.000000  0.029191  0.000000     0     0   \n",
       "123895     1  1.422226  0.004614  3.250000  0.024390  1.361678     2     1   \n",
       "123906     2  1.807722  0.004288  2.125000  0.023417  1.690969    10     7   \n",
       "123907     0  2.309401  0.002867  3.666667  0.022939  1.885618     0     2   \n",
       "123933     0  1.258306  0.002127  2.750000  0.019353  1.089725     1     1   \n",
       "123935     4  0.887625  0.001294  4.333333  0.030048  0.849837     6     6   \n",
       "123938     3  1.000000  0.013171  3.500000  0.024793  0.866025     0     3   \n",
       "123943     3  1.414214  0.001898  4.000000  0.022342  1.333333     5     7   \n",
       "123946     1  0.629153  0.000895  4.562500  0.041745  0.609175     2    12   \n",
       "123947     0  0.000000  0.004598  1.000000  0.024521  0.000000     0     0   \n",
       "123952     0  0.000000  0.002791  3.000000  0.016050  0.000000     1     1   \n",
       "123956     1  1.527525  0.004049  3.750000  0.032915  1.479020     1    12   \n",
       "123966     6  1.613246  0.001113  3.461538  0.034210  1.549957    26     6   \n",
       "123970     7  0.646335  0.016644  3.681818  0.032235  0.631475     6    14   \n",
       "123981     3  1.368476  0.001241  3.454545  0.021562  1.304791     4     7   \n",
       "123994     0  0.000000  0.025581  4.000000  0.020930  0.000000     0     1   \n",
       "123995     0  0.000000  0.006881  4.000000  0.019495  0.000000     3     0   \n",
       "123997     3  1.303840  0.001957  2.800000  0.035068  1.166190     2     1   \n",
       "124007     0  0.000000  0.001084  4.000000  0.036850  0.000000     0     2   \n",
       "124008     2  1.808101  0.001557  3.538462  0.041950  1.737168     5     5   \n",
       "124013     1  1.443376  0.002613  3.916667  0.019410  1.381927     6     0   \n",
       "124016     0  0.000000  0.002433  4.000000  0.020276  0.000000     0     1   \n",
       "124019     1  1.500000  0.001634  3.000000  0.025754  1.414214     6     5   \n",
       "124035     2  0.500000  0.003647  4.750000  0.064987  0.433013     2     2   \n",
       "124040     2  2.309401  0.002884  2.333333  0.021838  1.885618     0     1   \n",
       "\n",
       "        q16i       q16j    ...     q16t      q16u  q16v  q16w      q16x  \\\n",
       "13         0   3.000000    ...       no  0.000000    48     8  0.000000   \n",
       "15         0   3.000000    ...       no  0.000000    21     4  0.000000   \n",
       "16         0   1.666667    ...       no  0.333333    16    49  0.003858   \n",
       "24         0   2.250000    ...       no  1.000000    15    16  0.000905   \n",
       "26         0   3.000000    ...       no  1.000000     3     5  0.012000   \n",
       "30         0   1.375000    ...      yes  0.750000     1    34  0.006841   \n",
       "42         1   2.400000    ...       no  0.400000     6    15  0.006773   \n",
       "48         1  10.000000    ...       no  0.000000    17     1  0.015612   \n",
       "55         0   3.142857    ...       no  1.000000    43    31  0.006819   \n",
       "64         0   7.500000    ...       no  0.000000    45     6  0.001577   \n",
       "69         0   0.333333    ...       no  0.416667    36    50  0.003194   \n",
       "80         0   5.000000    ...       no  1.000000    43     9  0.002991   \n",
       "84         0   1.500000    ...       no  0.100000     2    29  0.001346   \n",
       "87         0   1.750000    ...       no  0.000000    32    16  0.000000   \n",
       "91         0   1.500000    ...       no  0.000000    28    10  0.000000   \n",
       "94         0   1.571429    ...       no  0.714286    22    30  0.002196   \n",
       "95         0   0.400000    ...      yes  0.200000    41    44  0.005842   \n",
       "98         0   7.000000    ...       no  0.000000    42     4  0.000000   \n",
       "102        0   3.000000    ...       no  0.000000    24     5  0.008097   \n",
       "103        0   5.000000    ...       no  0.000000    35     1  0.000620   \n",
       "104        0   2.333333    ...       no  0.555556    24    35  0.001570   \n",
       "111        0   1.857143    ...       no  0.142857    25    29  0.002476   \n",
       "114        0   1.500000    ...       no  0.000000    20     6  0.015169   \n",
       "120        0   5.500000    ...       no  0.000000     4     2  0.000000   \n",
       "121        0   8.000000    ...      yes  0.000000    17     4  0.007353   \n",
       "125        0   3.000000    ...       no  0.000000    26    15  0.003972   \n",
       "127        0   3.500000    ...       no  1.000000     5     8  0.000000   \n",
       "136        0   6.666667    ...       no  0.666667    19    11  0.002655   \n",
       "137        0   1.153846    ...       no  0.461538     1    48  0.000000   \n",
       "138        0   3.000000    ...       no  0.000000    24     8  0.005495   \n",
       "...      ...        ...    ...      ...       ...   ...   ...       ...   \n",
       "123885     0   1.333333    ...       no  0.000000    41     9  0.007331   \n",
       "123890     0   0.500000    ...       no  0.300000     3    38  0.000000   \n",
       "123891     0   1.062500    ...       no  0.187500    41    61  0.003113   \n",
       "123892     0  26.000000    ...       no  1.750000    17    17  0.004551   \n",
       "123893     0   1.000000    ...       no  0.333333     7    11  0.000000   \n",
       "123894     0   5.000000    ...       no  0.000000    46     4  0.000000   \n",
       "123895     0   1.166667    ...       no  0.083333    21    39  0.000434   \n",
       "123906     0   1.625000    ...      yes  0.125000    13    17  0.007293   \n",
       "123907     0   2.666667    ...       no  0.333333    44    11  0.002908   \n",
       "123933     0   2.500000    ...       no  0.500000    43    11  0.000260   \n",
       "123935     0   1.166667    ...      yes  0.416667    50    52  0.001612   \n",
       "123938     0  12.750000    ...       no  0.250000    38    14  0.004011   \n",
       "123943     0   1.444444    ...       no  0.444444    15    36  0.003436   \n",
       "123946     0   0.687500    ...      yes  0.437500    49    73  0.003167   \n",
       "123947     0   6.000000    ...       no  0.000000    24     1  0.000000   \n",
       "123952     0   2.000000    ...       no  1.000000    31     6  0.001692   \n",
       "123956     0   2.437500    ...      yes  0.500000    14    60  0.009081   \n",
       "123966     0   3.076923    ...      yes  0.307692    29    45  0.000279   \n",
       "123970     0  15.090909    ...      yes  0.318182    24    81  0.001650   \n",
       "123981     0   1.727273    ...       no  0.090909    33    38  0.001008   \n",
       "123994     0  22.000000    ...       no  0.000000    18     4  0.001168   \n",
       "123995     0   6.000000    ...       no  1.000000     1     4  0.000000   \n",
       "123997     0   2.400000    ...       no  1.000000     2    14  0.000199   \n",
       "124007     0   0.750000    ...       no  0.500000    22    16  0.001703   \n",
       "124008     0   1.461538    ...       no  0.307692    24    46  0.001929   \n",
       "124013     0   0.583333    ...       no  0.916667    41    47  0.000000   \n",
       "124016     0   3.000000    ...       no  1.000000    10     4  0.002445   \n",
       "124019     0   1.888889    ...      yes  0.444444    19    27  0.001209   \n",
       "124035     0   2.750000    ...       no  0.750000     2    19  0.004244   \n",
       "124040     0   2.333333    ...       no  0.000000     2     7  0.000696   \n",
       "\n",
       "              q16y  q16z  q16aa     q16ab     q16ac  \n",
       "13       53.750000     0      0  3.000000  4.000000  \n",
       "15       11.500000     0      0  3.000000  4.000000  \n",
       "16       81.020833     6      2  1.666667  4.083333  \n",
       "24      139.875000     0      4  0.000000  4.000000  \n",
       "26       22.500000     0      0  0.000000  5.000000  \n",
       "30       24.843750     0      0  0.000000  4.250000  \n",
       "42       69.000000     0      0  6.000000  3.000000  \n",
       "48       47.200000     0      0  1.000000  1.000000  \n",
       "55       51.000000     3      1  2.000000  4.428571  \n",
       "64       33.041667     0      0  1.500000  3.000000  \n",
       "69      118.833333     0      0  0.000000  4.166667  \n",
       "80       36.125000     0      2  0.000000  4.500000  \n",
       "84       83.533333     0      0  0.000000  2.900000  \n",
       "87       58.666667     0      0  0.500000  4.000000  \n",
       "91       25.250000     0      0  1.000000  5.000000  \n",
       "94       90.880952     1      0  0.000000  4.285714  \n",
       "95       38.450000     3      1  0.000000  4.400000  \n",
       "98       27.000000     0      0  3.250000  4.000000  \n",
       "102      24.500000     0      0  0.000000  5.000000  \n",
       "103     198.666667     0      0  1.000000  1.000000  \n",
       "104     124.274074     0      0  0.400000  3.888889  \n",
       "111     111.814286     0      0  0.000000  4.142857  \n",
       "114      21.000000     0      0  5.000000  3.000000  \n",
       "120      67.666667     0      0  2.000000  1.000000  \n",
       "121      19.041667     0      0  0.000000  2.000000  \n",
       "125      29.166667     0      0  1.000000  5.000000  \n",
       "127      35.250000     0      0  0.000000  4.000000  \n",
       "136      78.888889     0      0  0.000000  3.666667  \n",
       "137      93.692308     1      1  0.800000  3.692308  \n",
       "138      18.750000     0      0  0.000000  4.000000  \n",
       "...            ...   ...    ...       ...       ...  \n",
       "123885   47.666667     0      0  0.000000  3.000000  \n",
       "123890   21.850000     0      0  0.500000  3.800000  \n",
       "123891   92.265625     0      1  0.500000  3.812500  \n",
       "123892   37.361699     0      0  0.000000  4.250000  \n",
       "123893   74.000000     2      0  0.000000  3.666667  \n",
       "123894  106.500000     0      0  1.000000  4.000000  \n",
       "123895   29.833333     0      3  0.000000  3.250000  \n",
       "123906   49.291667     1      0  0.000000  2.125000  \n",
       "123907   73.277778     0      1  0.000000  3.666667  \n",
       "123933  102.958333     1      1  0.000000  2.750000  \n",
       "123935  149.979167     2      0  0.000000  4.333333  \n",
       "123938   37.172917     0      0  3.000000  3.500000  \n",
       "123943   77.722222     0      0  1.166667  4.000000  \n",
       "123946  116.395833     0      3  0.000000  4.562500  \n",
       "123947   86.000000     0      0  0.500000  1.000000  \n",
       "123952   83.666667     0      1  0.000000  3.000000  \n",
       "123956   49.359375     0      0  0.333333  3.750000  \n",
       "123966  275.208425     1      0  2.000000  3.461538  \n",
       "123970   32.051828     8      0  2.333333  3.681818  \n",
       "123981  193.090909     1      4  1.666667  3.454545  \n",
       "123994   20.750000     1      0  1.000000  4.000000  \n",
       "123995   50.333333     0      0  0.000000  4.000000  \n",
       "123997  137.466667     0      3  0.250000  2.800000  \n",
       "124007  130.500000     0      0  3.000000  4.000000  \n",
       "124008  104.533333     0      0  0.000000  3.538462  \n",
       "124013   39.527778     1      0  1.000000  3.916667  \n",
       "124016  114.500000     0      0  0.285714  4.000000  \n",
       "124019  104.351852     1      0  1.000000  3.000000  \n",
       "124035   75.166667     0      0  0.500000  4.750000  \n",
       "124040  104.222222     0      0  0.000000  2.333333  \n",
       "\n",
       "[24205 rows x 29 columns]"
      ]
     },
     "execution_count": 159,
     "metadata": {},
     "output_type": "execute_result"
    }
   ],
   "source": [
    "reviewers_q7_q16.loc[:,\"q16a\":]"
   ]
  },
  {
   "cell_type": "code",
   "execution_count": null,
   "metadata": {
    "collapsed": true
   },
   "outputs": [],
   "source": [
    "# reviewers_q7q15.loc[:,'cluster_numbers'] = clusters\n",
    "# reviewers_q7q15.join(reviewers.loc[:,'q3'])"
   ]
  },
  {
   "cell_type": "code",
   "execution_count": 160,
   "metadata": {
    "collapsed": false
   },
   "outputs": [
    {
     "name": "stderr",
     "output_type": "stream",
     "text": [
      "//anaconda/lib/python3.5/site-packages/ipykernel/__main__.py:2: SettingWithCopyWarning: \n",
      "A value is trying to be set on a copy of a slice from a DataFrame.\n",
      "Try using .loc[row_indexer,col_indexer] = value instead\n",
      "\n",
      "See the caveats in the documentation: http://pandas.pydata.org/pandas-docs/stable/indexing.html#indexing-view-versus-copy\n",
      "  from ipykernel import kernelapp as app\n",
      "//anaconda/lib/python3.5/site-packages/ipykernel/__main__.py:3: SettingWithCopyWarning: \n",
      "A value is trying to be set on a copy of a slice from a DataFrame.\n",
      "Try using .loc[row_indexer,col_indexer] = value instead\n",
      "\n",
      "See the caveats in the documentation: http://pandas.pydata.org/pandas-docs/stable/indexing.html#indexing-view-versus-copy\n",
      "  app.launch_new_instance()\n"
     ]
    }
   ],
   "source": [
    "reviewers_q7_q16[\"q16s\"].unique()\n",
    "reviewers_q7_q16[\"q16s\"] = pd.get_dummies(reviewers_q7_q16[\"q16s\"])\n",
    "reviewers_q7_q16[\"q16t\"] = pd.get_dummies(reviewers_q7_q16[\"q16t\"])"
   ]
  },
  {
   "cell_type": "code",
   "execution_count": 178,
   "metadata": {
    "collapsed": false
   },
   "outputs": [
    {
     "data": {
      "text/html": [
       "<div>\n",
       "<table border=\"1\" class=\"dataframe\">\n",
       "  <thead>\n",
       "    <tr style=\"text-align: right;\">\n",
       "      <th></th>\n",
       "      <th>q7</th>\n",
       "      <th>q8</th>\n",
       "      <th>q9</th>\n",
       "      <th>q10</th>\n",
       "      <th>q11</th>\n",
       "      <th>q12</th>\n",
       "      <th>q13</th>\n",
       "      <th>q14</th>\n",
       "      <th>q15</th>\n",
       "      <th>q16a</th>\n",
       "      <th>...</th>\n",
       "      <th>q16t</th>\n",
       "      <th>q16u</th>\n",
       "      <th>q16v</th>\n",
       "      <th>q16w</th>\n",
       "      <th>q16x</th>\n",
       "      <th>q16y</th>\n",
       "      <th>q16z</th>\n",
       "      <th>q16aa</th>\n",
       "      <th>q16ab</th>\n",
       "      <th>q16ac</th>\n",
       "    </tr>\n",
       "  </thead>\n",
       "  <tbody>\n",
       "    <tr>\n",
       "      <th>13</th>\n",
       "      <td>0.69</td>\n",
       "      <td>0.00</td>\n",
       "      <td>1.39</td>\n",
       "      <td>0.00</td>\n",
       "      <td>16.67</td>\n",
       "      <td>66.67</td>\n",
       "      <td>16.67</td>\n",
       "      <td>7</td>\n",
       "      <td>340.50</td>\n",
       "      <td>0</td>\n",
       "      <td>...</td>\n",
       "      <td>1.0</td>\n",
       "      <td>0.000000</td>\n",
       "      <td>48</td>\n",
       "      <td>8</td>\n",
       "      <td>0.000000</td>\n",
       "      <td>53.750000</td>\n",
       "      <td>0</td>\n",
       "      <td>0</td>\n",
       "      <td>3.000000</td>\n",
       "      <td>4.000000</td>\n",
       "    </tr>\n",
       "    <tr>\n",
       "      <th>15</th>\n",
       "      <td>0.00</td>\n",
       "      <td>0.00</td>\n",
       "      <td>0.00</td>\n",
       "      <td>0.00</td>\n",
       "      <td>33.33</td>\n",
       "      <td>33.33</td>\n",
       "      <td>33.33</td>\n",
       "      <td>6</td>\n",
       "      <td>123.00</td>\n",
       "      <td>0</td>\n",
       "      <td>...</td>\n",
       "      <td>1.0</td>\n",
       "      <td>0.000000</td>\n",
       "      <td>21</td>\n",
       "      <td>4</td>\n",
       "      <td>0.000000</td>\n",
       "      <td>11.500000</td>\n",
       "      <td>0</td>\n",
       "      <td>0</td>\n",
       "      <td>3.000000</td>\n",
       "      <td>4.000000</td>\n",
       "    </tr>\n",
       "    <tr>\n",
       "      <th>16</th>\n",
       "      <td>2.48</td>\n",
       "      <td>1.95</td>\n",
       "      <td>1.61</td>\n",
       "      <td>2.08</td>\n",
       "      <td>35.00</td>\n",
       "      <td>25.00</td>\n",
       "      <td>40.00</td>\n",
       "      <td>4</td>\n",
       "      <td>622.25</td>\n",
       "      <td>1</td>\n",
       "      <td>...</td>\n",
       "      <td>1.0</td>\n",
       "      <td>0.333333</td>\n",
       "      <td>16</td>\n",
       "      <td>49</td>\n",
       "      <td>0.003858</td>\n",
       "      <td>81.020833</td>\n",
       "      <td>6</td>\n",
       "      <td>2</td>\n",
       "      <td>1.666667</td>\n",
       "      <td>4.083333</td>\n",
       "    </tr>\n",
       "    <tr>\n",
       "      <th>24</th>\n",
       "      <td>1.39</td>\n",
       "      <td>1.39</td>\n",
       "      <td>0.00</td>\n",
       "      <td>1.39</td>\n",
       "      <td>44.44</td>\n",
       "      <td>11.11</td>\n",
       "      <td>44.44</td>\n",
       "      <td>11</td>\n",
       "      <td>1288.50</td>\n",
       "      <td>0</td>\n",
       "      <td>...</td>\n",
       "      <td>1.0</td>\n",
       "      <td>1.000000</td>\n",
       "      <td>15</td>\n",
       "      <td>16</td>\n",
       "      <td>0.000905</td>\n",
       "      <td>139.875000</td>\n",
       "      <td>0</td>\n",
       "      <td>4</td>\n",
       "      <td>0.000000</td>\n",
       "      <td>4.000000</td>\n",
       "    </tr>\n",
       "    <tr>\n",
       "      <th>26</th>\n",
       "      <td>0.00</td>\n",
       "      <td>0.00</td>\n",
       "      <td>0.00</td>\n",
       "      <td>0.00</td>\n",
       "      <td>33.33</td>\n",
       "      <td>33.33</td>\n",
       "      <td>33.33</td>\n",
       "      <td>8</td>\n",
       "      <td>250.00</td>\n",
       "      <td>0</td>\n",
       "      <td>...</td>\n",
       "      <td>1.0</td>\n",
       "      <td>1.000000</td>\n",
       "      <td>3</td>\n",
       "      <td>5</td>\n",
       "      <td>0.012000</td>\n",
       "      <td>22.500000</td>\n",
       "      <td>0</td>\n",
       "      <td>0</td>\n",
       "      <td>0.000000</td>\n",
       "      <td>5.000000</td>\n",
       "    </tr>\n",
       "  </tbody>\n",
       "</table>\n",
       "<p>5 rows × 38 columns</p>\n",
       "</div>"
      ],
      "text/plain": [
       "      q7    q8    q9   q10    q11    q12    q13  q14      q15  q16a    ...     \\\n",
       "13  0.69  0.00  1.39  0.00  16.67  66.67  16.67    7   340.50     0    ...      \n",
       "15  0.00  0.00  0.00  0.00  33.33  33.33  33.33    6   123.00     0    ...      \n",
       "16  2.48  1.95  1.61  2.08  35.00  25.00  40.00    4   622.25     1    ...      \n",
       "24  1.39  1.39  0.00  1.39  44.44  11.11  44.44   11  1288.50     0    ...      \n",
       "26  0.00  0.00  0.00  0.00  33.33  33.33  33.33    8   250.00     0    ...      \n",
       "\n",
       "    q16t      q16u  q16v  q16w      q16x        q16y  q16z  q16aa     q16ab  \\\n",
       "13   1.0  0.000000    48     8  0.000000   53.750000     0      0  3.000000   \n",
       "15   1.0  0.000000    21     4  0.000000   11.500000     0      0  3.000000   \n",
       "16   1.0  0.333333    16    49  0.003858   81.020833     6      2  1.666667   \n",
       "24   1.0  1.000000    15    16  0.000905  139.875000     0      4  0.000000   \n",
       "26   1.0  1.000000     3     5  0.012000   22.500000     0      0  0.000000   \n",
       "\n",
       "       q16ac  \n",
       "13  4.000000  \n",
       "15  4.000000  \n",
       "16  4.083333  \n",
       "24  4.000000  \n",
       "26  5.000000  \n",
       "\n",
       "[5 rows x 38 columns]"
      ]
     },
     "execution_count": 178,
     "metadata": {},
     "output_type": "execute_result"
    }
   ],
   "source": [
    "# reviewers_q7_q16[\"q16s\"] = reviewers_q7_q16[\"q16s\"][]\n",
    "reviewers_q7_q16.head()"
   ]
  },
  {
   "cell_type": "code",
   "execution_count": 179,
   "metadata": {
    "collapsed": false
   },
   "outputs": [
    {
     "name": "stderr",
     "output_type": "stream",
     "text": [
      "//anaconda/lib/python3.5/site-packages/ipykernel/__main__.py:1: SettingWithCopyWarning: \n",
      "A value is trying to be set on a copy of a slice from a DataFrame\n",
      "\n",
      "See the caveats in the documentation: http://pandas.pydata.org/pandas-docs/stable/indexing.html#indexing-view-versus-copy\n",
      "  if __name__ == '__main__':\n"
     ]
    },
    {
     "data": {
      "text/html": [
       "<div>\n",
       "<table border=\"1\" class=\"dataframe\">\n",
       "  <thead>\n",
       "    <tr style=\"text-align: right;\">\n",
       "      <th></th>\n",
       "      <th>q7</th>\n",
       "      <th>q8</th>\n",
       "      <th>q9</th>\n",
       "      <th>q10</th>\n",
       "      <th>q11</th>\n",
       "      <th>q12</th>\n",
       "      <th>q13</th>\n",
       "      <th>q14</th>\n",
       "      <th>q15</th>\n",
       "      <th>q16a</th>\n",
       "      <th>...</th>\n",
       "      <th>q16t</th>\n",
       "      <th>q16u</th>\n",
       "      <th>q16v</th>\n",
       "      <th>q16w</th>\n",
       "      <th>q16x</th>\n",
       "      <th>q16y</th>\n",
       "      <th>q16z</th>\n",
       "      <th>q16aa</th>\n",
       "      <th>q16ab</th>\n",
       "      <th>q16ac</th>\n",
       "    </tr>\n",
       "  </thead>\n",
       "  <tbody>\n",
       "    <tr>\n",
       "      <th>13</th>\n",
       "      <td>0.69</td>\n",
       "      <td>0.00</td>\n",
       "      <td>1.39</td>\n",
       "      <td>0.00</td>\n",
       "      <td>16.67</td>\n",
       "      <td>66.67</td>\n",
       "      <td>16.67</td>\n",
       "      <td>7</td>\n",
       "      <td>340.50</td>\n",
       "      <td>0</td>\n",
       "      <td>...</td>\n",
       "      <td>1.0</td>\n",
       "      <td>0.000000</td>\n",
       "      <td>48</td>\n",
       "      <td>8</td>\n",
       "      <td>0.000000</td>\n",
       "      <td>53.750000</td>\n",
       "      <td>0</td>\n",
       "      <td>0</td>\n",
       "      <td>3.000000</td>\n",
       "      <td>4.000000</td>\n",
       "    </tr>\n",
       "    <tr>\n",
       "      <th>15</th>\n",
       "      <td>0.00</td>\n",
       "      <td>0.00</td>\n",
       "      <td>0.00</td>\n",
       "      <td>0.00</td>\n",
       "      <td>33.33</td>\n",
       "      <td>33.33</td>\n",
       "      <td>33.33</td>\n",
       "      <td>6</td>\n",
       "      <td>123.00</td>\n",
       "      <td>0</td>\n",
       "      <td>...</td>\n",
       "      <td>1.0</td>\n",
       "      <td>0.000000</td>\n",
       "      <td>21</td>\n",
       "      <td>4</td>\n",
       "      <td>0.000000</td>\n",
       "      <td>11.500000</td>\n",
       "      <td>0</td>\n",
       "      <td>0</td>\n",
       "      <td>3.000000</td>\n",
       "      <td>4.000000</td>\n",
       "    </tr>\n",
       "    <tr>\n",
       "      <th>16</th>\n",
       "      <td>2.48</td>\n",
       "      <td>1.95</td>\n",
       "      <td>1.61</td>\n",
       "      <td>2.08</td>\n",
       "      <td>35.00</td>\n",
       "      <td>25.00</td>\n",
       "      <td>40.00</td>\n",
       "      <td>4</td>\n",
       "      <td>622.25</td>\n",
       "      <td>1</td>\n",
       "      <td>...</td>\n",
       "      <td>1.0</td>\n",
       "      <td>0.333333</td>\n",
       "      <td>16</td>\n",
       "      <td>49</td>\n",
       "      <td>0.003858</td>\n",
       "      <td>81.020833</td>\n",
       "      <td>6</td>\n",
       "      <td>2</td>\n",
       "      <td>1.666667</td>\n",
       "      <td>4.083333</td>\n",
       "    </tr>\n",
       "    <tr>\n",
       "      <th>24</th>\n",
       "      <td>1.39</td>\n",
       "      <td>1.39</td>\n",
       "      <td>0.00</td>\n",
       "      <td>1.39</td>\n",
       "      <td>44.44</td>\n",
       "      <td>11.11</td>\n",
       "      <td>44.44</td>\n",
       "      <td>11</td>\n",
       "      <td>1288.50</td>\n",
       "      <td>0</td>\n",
       "      <td>...</td>\n",
       "      <td>1.0</td>\n",
       "      <td>1.000000</td>\n",
       "      <td>15</td>\n",
       "      <td>16</td>\n",
       "      <td>0.000905</td>\n",
       "      <td>139.875000</td>\n",
       "      <td>0</td>\n",
       "      <td>4</td>\n",
       "      <td>0.000000</td>\n",
       "      <td>4.000000</td>\n",
       "    </tr>\n",
       "    <tr>\n",
       "      <th>26</th>\n",
       "      <td>0.00</td>\n",
       "      <td>0.00</td>\n",
       "      <td>0.00</td>\n",
       "      <td>0.00</td>\n",
       "      <td>33.33</td>\n",
       "      <td>33.33</td>\n",
       "      <td>33.33</td>\n",
       "      <td>8</td>\n",
       "      <td>250.00</td>\n",
       "      <td>0</td>\n",
       "      <td>...</td>\n",
       "      <td>1.0</td>\n",
       "      <td>1.000000</td>\n",
       "      <td>3</td>\n",
       "      <td>5</td>\n",
       "      <td>0.012000</td>\n",
       "      <td>22.500000</td>\n",
       "      <td>0</td>\n",
       "      <td>0</td>\n",
       "      <td>0.000000</td>\n",
       "      <td>5.000000</td>\n",
       "    </tr>\n",
       "  </tbody>\n",
       "</table>\n",
       "<p>5 rows × 38 columns</p>\n",
       "</div>"
      ],
      "text/plain": [
       "      q7    q8    q9   q10    q11    q12    q13  q14      q15  q16a    ...     \\\n",
       "13  0.69  0.00  1.39  0.00  16.67  66.67  16.67    7   340.50     0    ...      \n",
       "15  0.00  0.00  0.00  0.00  33.33  33.33  33.33    6   123.00     0    ...      \n",
       "16  2.48  1.95  1.61  2.08  35.00  25.00  40.00    4   622.25     1    ...      \n",
       "24  1.39  1.39  0.00  1.39  44.44  11.11  44.44   11  1288.50     0    ...      \n",
       "26  0.00  0.00  0.00  0.00  33.33  33.33  33.33    8   250.00     0    ...      \n",
       "\n",
       "    q16t      q16u  q16v  q16w      q16x        q16y  q16z  q16aa     q16ab  \\\n",
       "13   1.0  0.000000    48     8  0.000000   53.750000     0      0  3.000000   \n",
       "15   1.0  0.000000    21     4  0.000000   11.500000     0      0  3.000000   \n",
       "16   1.0  0.333333    16    49  0.003858   81.020833     6      2  1.666667   \n",
       "24   1.0  1.000000    15    16  0.000905  139.875000     0      4  0.000000   \n",
       "26   1.0  1.000000     3     5  0.012000   22.500000     0      0  0.000000   \n",
       "\n",
       "       q16ac  \n",
       "13  4.000000  \n",
       "15  4.000000  \n",
       "16  4.083333  \n",
       "24  4.000000  \n",
       "26  5.000000  \n",
       "\n",
       "[5 rows x 38 columns]"
      ]
     },
     "execution_count": 179,
     "metadata": {},
     "output_type": "execute_result"
    }
   ],
   "source": [
    "reviewers_q7_q16.replace(-np.inf,np.nan,inplace=True)\n",
    "reviewers_q7_q16.head()\n",
    "#columns q16z and q16aa have a lot of NaN's - these columns are sparse, so let's drop them\n",
    "\n",
    "# reviewers_q7_q16_clean = reviewers_q7_q16\n",
    "# del reviewers_q7_q16_clean['q16ab']"
   ]
  },
  {
   "cell_type": "code",
   "execution_count": 163,
   "metadata": {
    "collapsed": true
   },
   "outputs": [],
   "source": [
    "# from scipy import stats\n",
    "# reviewers_q7_q16_zscores = stats.zscore(reviewers_q7_q16)"
   ]
  },
  {
   "cell_type": "code",
   "execution_count": 182,
   "metadata": {
    "collapsed": false,
    "scrolled": true
   },
   "outputs": [
    {
     "data": {
      "text/html": [
       "<div>\n",
       "<table border=\"1\" class=\"dataframe\">\n",
       "  <thead>\n",
       "    <tr style=\"text-align: right;\">\n",
       "      <th></th>\n",
       "      <th>q7</th>\n",
       "      <th>q8</th>\n",
       "      <th>q9</th>\n",
       "      <th>q10</th>\n",
       "      <th>q11</th>\n",
       "      <th>q12</th>\n",
       "      <th>q13</th>\n",
       "      <th>q14</th>\n",
       "      <th>q15</th>\n",
       "      <th>q16a</th>\n",
       "      <th>...</th>\n",
       "      <th>q16t</th>\n",
       "      <th>q16u</th>\n",
       "      <th>q16v</th>\n",
       "      <th>q16w</th>\n",
       "      <th>q16x</th>\n",
       "      <th>q16y</th>\n",
       "      <th>q16z</th>\n",
       "      <th>q16aa</th>\n",
       "      <th>q16ab</th>\n",
       "      <th>q16ac</th>\n",
       "    </tr>\n",
       "  </thead>\n",
       "  <tbody>\n",
       "    <tr>\n",
       "      <th>13</th>\n",
       "      <td>0.69</td>\n",
       "      <td>0.00</td>\n",
       "      <td>1.39</td>\n",
       "      <td>0.00</td>\n",
       "      <td>16.67</td>\n",
       "      <td>66.67</td>\n",
       "      <td>16.67</td>\n",
       "      <td>7</td>\n",
       "      <td>340.50</td>\n",
       "      <td>0</td>\n",
       "      <td>...</td>\n",
       "      <td>1.0</td>\n",
       "      <td>0.000000</td>\n",
       "      <td>48</td>\n",
       "      <td>8</td>\n",
       "      <td>0.000000</td>\n",
       "      <td>53.750000</td>\n",
       "      <td>0</td>\n",
       "      <td>0</td>\n",
       "      <td>3.000000</td>\n",
       "      <td>4.000000</td>\n",
       "    </tr>\n",
       "    <tr>\n",
       "      <th>15</th>\n",
       "      <td>0.00</td>\n",
       "      <td>0.00</td>\n",
       "      <td>0.00</td>\n",
       "      <td>0.00</td>\n",
       "      <td>33.33</td>\n",
       "      <td>33.33</td>\n",
       "      <td>33.33</td>\n",
       "      <td>6</td>\n",
       "      <td>123.00</td>\n",
       "      <td>0</td>\n",
       "      <td>...</td>\n",
       "      <td>1.0</td>\n",
       "      <td>0.000000</td>\n",
       "      <td>21</td>\n",
       "      <td>4</td>\n",
       "      <td>0.000000</td>\n",
       "      <td>11.500000</td>\n",
       "      <td>0</td>\n",
       "      <td>0</td>\n",
       "      <td>3.000000</td>\n",
       "      <td>4.000000</td>\n",
       "    </tr>\n",
       "    <tr>\n",
       "      <th>16</th>\n",
       "      <td>2.48</td>\n",
       "      <td>1.95</td>\n",
       "      <td>1.61</td>\n",
       "      <td>2.08</td>\n",
       "      <td>35.00</td>\n",
       "      <td>25.00</td>\n",
       "      <td>40.00</td>\n",
       "      <td>4</td>\n",
       "      <td>622.25</td>\n",
       "      <td>1</td>\n",
       "      <td>...</td>\n",
       "      <td>1.0</td>\n",
       "      <td>0.333333</td>\n",
       "      <td>16</td>\n",
       "      <td>49</td>\n",
       "      <td>0.003858</td>\n",
       "      <td>81.020833</td>\n",
       "      <td>6</td>\n",
       "      <td>2</td>\n",
       "      <td>1.666667</td>\n",
       "      <td>4.083333</td>\n",
       "    </tr>\n",
       "    <tr>\n",
       "      <th>24</th>\n",
       "      <td>1.39</td>\n",
       "      <td>1.39</td>\n",
       "      <td>0.00</td>\n",
       "      <td>1.39</td>\n",
       "      <td>44.44</td>\n",
       "      <td>11.11</td>\n",
       "      <td>44.44</td>\n",
       "      <td>11</td>\n",
       "      <td>1288.50</td>\n",
       "      <td>0</td>\n",
       "      <td>...</td>\n",
       "      <td>1.0</td>\n",
       "      <td>1.000000</td>\n",
       "      <td>15</td>\n",
       "      <td>16</td>\n",
       "      <td>0.000905</td>\n",
       "      <td>139.875000</td>\n",
       "      <td>0</td>\n",
       "      <td>4</td>\n",
       "      <td>0.000000</td>\n",
       "      <td>4.000000</td>\n",
       "    </tr>\n",
       "    <tr>\n",
       "      <th>26</th>\n",
       "      <td>0.00</td>\n",
       "      <td>0.00</td>\n",
       "      <td>0.00</td>\n",
       "      <td>0.00</td>\n",
       "      <td>33.33</td>\n",
       "      <td>33.33</td>\n",
       "      <td>33.33</td>\n",
       "      <td>8</td>\n",
       "      <td>250.00</td>\n",
       "      <td>0</td>\n",
       "      <td>...</td>\n",
       "      <td>1.0</td>\n",
       "      <td>1.000000</td>\n",
       "      <td>3</td>\n",
       "      <td>5</td>\n",
       "      <td>0.012000</td>\n",
       "      <td>22.500000</td>\n",
       "      <td>0</td>\n",
       "      <td>0</td>\n",
       "      <td>0.000000</td>\n",
       "      <td>5.000000</td>\n",
       "    </tr>\n",
       "  </tbody>\n",
       "</table>\n",
       "<p>5 rows × 38 columns</p>\n",
       "</div>"
      ],
      "text/plain": [
       "      q7    q8    q9   q10    q11    q12    q13  q14      q15  q16a    ...     \\\n",
       "13  0.69  0.00  1.39  0.00  16.67  66.67  16.67    7   340.50     0    ...      \n",
       "15  0.00  0.00  0.00  0.00  33.33  33.33  33.33    6   123.00     0    ...      \n",
       "16  2.48  1.95  1.61  2.08  35.00  25.00  40.00    4   622.25     1    ...      \n",
       "24  1.39  1.39  0.00  1.39  44.44  11.11  44.44   11  1288.50     0    ...      \n",
       "26  0.00  0.00  0.00  0.00  33.33  33.33  33.33    8   250.00     0    ...      \n",
       "\n",
       "    q16t      q16u  q16v  q16w      q16x        q16y  q16z  q16aa     q16ab  \\\n",
       "13   1.0  0.000000    48     8  0.000000   53.750000     0      0  3.000000   \n",
       "15   1.0  0.000000    21     4  0.000000   11.500000     0      0  3.000000   \n",
       "16   1.0  0.333333    16    49  0.003858   81.020833     6      2  1.666667   \n",
       "24   1.0  1.000000    15    16  0.000905  139.875000     0      4  0.000000   \n",
       "26   1.0  1.000000     3     5  0.012000   22.500000     0      0  0.000000   \n",
       "\n",
       "       q16ac  \n",
       "13  4.000000  \n",
       "15  4.000000  \n",
       "16  4.083333  \n",
       "24  4.000000  \n",
       "26  5.000000  \n",
       "\n",
       "[5 rows x 38 columns]"
      ]
     },
     "execution_count": 182,
     "metadata": {},
     "output_type": "execute_result"
    }
   ],
   "source": [
    "reviewers_q7_q16.head()"
   ]
  },
  {
   "cell_type": "code",
   "execution_count": 183,
   "metadata": {
    "collapsed": false,
    "scrolled": false
   },
   "outputs": [
    {
     "data": {
      "text/plain": [
       "24205"
      ]
     },
     "execution_count": 183,
     "metadata": {},
     "output_type": "execute_result"
    }
   ],
   "source": [
    "cols = list(reviewers_q7_q16.columns)\n",
    "# cols.remove('ID')\n",
    "# reviewers_q7_q16[cols]\n",
    "\n",
    "reviewers_q7_q16_zscore = pd.DataFrame()\n",
    "\n",
    "for col in cols:\n",
    "    col_zscore = col + '_zscore'\n",
    "    reviewers_q7_q16_zscore[col_zscore] = (reviewers_q7_q16[col] - reviewers_q7_q16[col].mean())/reviewers_q7_q16[col].std(ddof=0)\n",
    "len(reviewers_q7_q16_zscore)\n",
    "# reviewers_q7_q16"
   ]
  },
  {
   "cell_type": "code",
   "execution_count": 180,
   "metadata": {
    "collapsed": false
   },
   "outputs": [
    {
     "name": "stdout",
     "output_type": "stream",
     "text": [
      "CPU times: user 800 ms, sys: 82.3 ms, total: 882 ms\n",
      "Wall time: 890 ms\n",
      "CPU times: user 1.11 s, sys: 63.1 ms, total: 1.18 s\n",
      "Wall time: 1.16 s\n",
      "CPU times: user 1.14 s, sys: 65.8 ms, total: 1.21 s\n",
      "Wall time: 1.19 s\n",
      "CPU times: user 1.61 s, sys: 83.4 ms, total: 1.69 s\n",
      "Wall time: 1.67 s\n",
      "CPU times: user 2.01 s, sys: 104 ms, total: 2.12 s\n",
      "Wall time: 2.09 s\n",
      "CPU times: user 2.43 s, sys: 124 ms, total: 2.56 s\n",
      "Wall time: 2.52 s\n",
      "CPU times: user 2.39 s, sys: 348 ms, total: 2.74 s\n",
      "Wall time: 2.7 s\n"
     ]
    },
    {
     "data": {
      "text/plain": [
       "[<matplotlib.lines.Line2D at 0x11cb4a630>]"
      ]
     },
     "execution_count": 180,
     "metadata": {},
     "output_type": "execute_result"
    },
    {
     "data": {
      "image/png": "[encoded data removed]",
      "text/plain": [
       "<matplotlib.figure.Figure at 0x11c8e02b0>"
      ]
     },
     "metadata": {},
     "output_type": "display_data"
    }
   ],
   "source": [
    "# 7a. Using the silhouette metric, what was the best k? K=2\n",
    "silhouette = []\n",
    "for num_clusters in range(2,9):\n",
    "    km = KMeans(n_clusters=num_clusters)\n",
    "    %time km.fit(reviewers_q7_q16_zscore)\n",
    "    clusters = km.labels_.tolist()\n",
    "    silhouette.append(silhouette_score(reviewers_q7_q16_zscore[0:10000], clusters[0:10000]))\n",
    "count_k = [2, 3, 4, 5, 6, 7, 8]\n",
    "count_silhouette = list(zip(count_k, silhouette))\n",
    "plt.plot(*zip(*count_silhouette))"
   ]
  },
  {
   "cell_type": "code",
   "execution_count": 186,
   "metadata": {
    "collapsed": false
   },
   "outputs": [
    {
     "name": "stdout",
     "output_type": "stream",
     "text": [
      "CPU times: user 919 ms, sys: 60.6 ms, total: 979 ms\n",
      "Wall time: 986 ms\n",
      "CPU times: user 1.22 s, sys: 62.8 ms, total: 1.29 s\n",
      "Wall time: 1.28 s\n",
      "CPU times: user 1.32 s, sys: 65.3 ms, total: 1.39 s\n",
      "Wall time: 1.38 s\n",
      "CPU times: user 1.35 s, sys: 63.1 ms, total: 1.41 s\n",
      "Wall time: 1.39 s\n",
      "CPU times: user 1.82 s, sys: 73.7 ms, total: 1.89 s\n",
      "Wall time: 1.86 s\n",
      "CPU times: user 1.92 s, sys: 88.5 ms, total: 2 s\n",
      "Wall time: 1.97 s\n",
      "CPU times: user 2.64 s, sys: 123 ms, total: 2.76 s\n",
      "Wall time: 2.72 s\n"
     ]
    },
    {
     "data": {
      "text/plain": [
       "[<matplotlib.lines.Line2D at 0x12d426748>]"
      ]
     },
     "execution_count": 186,
     "metadata": {},
     "output_type": "execute_result"
    },
    {
     "data": {
      "image/png": "[encoded data removed]",
      "text/plain": [
       "<matplotlib.figure.Figure at 0x11c8876a0>"
      ]
     },
     "metadata": {},
     "output_type": "display_data"
    }
   ],
   "source": [
    "# 7b. Using the the sum of within cluster variance metric with the elbow method what was the\n",
    "# best k? k=3\n",
    "inertia = []\n",
    "for num_clusters in range(2,9):\n",
    "    km = KMeans(n_clusters=num_clusters)\n",
    "    %time km.fit(reviewers_q7_q16_zscore)\n",
    "    clusters = km.inertia_.tolist()\n",
    "    inertia.append(clusters)\n",
    "count_k = [2, 3, 4, 5, 6, 7, 8]\n",
    "count_inertia = list(zip(count_k, inertia))\n",
    "plt.plot(*zip(*count_inertia))"
   ]
  },
  {
   "cell_type": "markdown",
   "metadata": {},
   "source": [
    "# 8. For this question please come up with your own question about this dataset and using a clustering technique as part of your method of answering it. This question answer should be submitted to a bCourses assignment in the form a pdf. This report is expected to be between 2 and 3 pages. It is meant to give you practice writing up your results. The report should have the following sections:\n",
    "- RESEARCH QUESTION: Describe what it is you want to ask of this dataset (the question can not be the same as question 9)\n",
    "- DATASET: describe the yelp_reviews to yelp_reviewers transformation.\n",
    "    - subsection called FEATURES SELECTED: briefly describe the features from the dataset you choose (at least 1 features should be from a q16)\n",
    "- METHODS: Briefly describe the methods you used (such as k-means) and why you used them\n",
    "- RESULTS: Here you can tell the story of how you investigated the question (plots are always nice) and the conclusions you drew.\n",
    "- NOTE: If you are hypothesizing that clusters might be formed with respect to a particular attribute, consider withholding that attribute from clustering and then looking to see what the mean value or distribution of that attribute is among the formed clusters.\n"
   ]
  },
  {
   "cell_type": "code",
   "execution_count": 4,
   "metadata": {
    "collapsed": false
   },
   "outputs": [],
   "source": [
    "#REsearch question: Do people who have an \"all star\" review (i.e., they review all categories of star) are they useful reviewers?\n",
    "reviewers_useful_allstar = reviewers.loc[:, ['q6', 'q16l']]"
   ]
  },
  {
   "cell_type": "code",
   "execution_count": 61,
   "metadata": {
    "collapsed": false,
    "scrolled": true
   },
   "outputs": [
    {
     "data": {
      "text/html": [
       "<div>\n",
       "<table border=\"1\" class=\"dataframe\">\n",
       "  <thead>\n",
       "    <tr style=\"text-align: right;\">\n",
       "      <th></th>\n",
       "      <th>q6</th>\n",
       "      <th>q16l</th>\n",
       "    </tr>\n",
       "  </thead>\n",
       "  <tbody>\n",
       "    <tr>\n",
       "      <th>0</th>\n",
       "      <td>0</td>\n",
       "      <td>0</td>\n",
       "    </tr>\n",
       "    <tr>\n",
       "      <th>1</th>\n",
       "      <td>1</td>\n",
       "      <td>0</td>\n",
       "    </tr>\n",
       "    <tr>\n",
       "      <th>2</th>\n",
       "      <td>0</td>\n",
       "      <td>0</td>\n",
       "    </tr>\n",
       "    <tr>\n",
       "      <th>3</th>\n",
       "      <td>1</td>\n",
       "      <td>0</td>\n",
       "    </tr>\n",
       "    <tr>\n",
       "      <th>4</th>\n",
       "      <td>0</td>\n",
       "      <td>0</td>\n",
       "    </tr>\n",
       "  </tbody>\n",
       "</table>\n",
       "</div>"
      ],
      "text/plain": [
       "   q6  q16l\n",
       "0   0     0\n",
       "1   1     0\n",
       "2   0     0\n",
       "3   1     0\n",
       "4   0     0"
      ]
     },
     "execution_count": 61,
     "metadata": {},
     "output_type": "execute_result"
    }
   ],
   "source": [
    "df = reviewers_useful_allstar[0:15000]\n",
    "new_df = df[df[\"q16l\"]==1]\n",
    "len(new_df)\n",
    "df.head()\n"
   ]
  },
  {
   "cell_type": "code",
   "execution_count": 5,
   "metadata": {
    "collapsed": false,
    "scrolled": false
   },
   "outputs": [
    {
     "name": "stdout",
     "output_type": "stream",
     "text": [
      "CPU times: user 1.44 s, sys: 50 ms, total: 1.49 s\n",
      "Wall time: 808 ms\n",
      "CPU times: user 1.91 s, sys: 124 ms, total: 2.03 s\n",
      "Wall time: 1.05 s\n",
      "CPU times: user 2.71 s, sys: 395 ms, total: 3.11 s\n",
      "Wall time: 1.65 s\n",
      "CPU times: user 3.05 s, sys: 494 ms, total: 3.55 s\n",
      "Wall time: 1.87 s\n",
      "CPU times: user 3.19 s, sys: 525 ms, total: 3.72 s\n",
      "Wall time: 1.95 s\n",
      "CPU times: user 3.49 s, sys: 627 ms, total: 4.12 s\n",
      "Wall time: 2.18 s\n",
      "CPU times: user 3.48 s, sys: 703 ms, total: 4.19 s\n",
      "Wall time: 2.88 s\n"
     ]
    },
    {
     "data": {
      "text/plain": [
       "[<matplotlib.lines.Line2D at 0x11879b390>]"
      ]
     },
     "execution_count": 5,
     "metadata": {},
     "output_type": "execute_result"
    },
    {
     "data": {
      "image/png": "[encoded data removed]",
      "text/plain": [
       "<matplotlib.figure.Figure at 0x103fb1d30>"
      ]
     },
     "metadata": {},
     "output_type": "display_data"
    }
   ],
   "source": [
    "silhouette = []\n",
    "for num_clusters in range(2,9):\n",
    "    km = KMeans(n_clusters=num_clusters)\n",
    "    %time km.fit(reviewers_useful_allstar)\n",
    "    clusters = km.labels_.tolist()\n",
    "    silhouette.append(silhouette_score(reviewers_useful_allstar[0:15000], clusters[0:15000]))\n",
    "count_k = [2, 3, 4, 5, 6, 7, 8]\n",
    "count_silhouette = list(zip(count_k, silhouette))\n",
    "plt.plot(*zip(*count_silhouette))"
   ]
  },
  {
   "cell_type": "code",
   "execution_count": 11,
   "metadata": {
    "collapsed": false
   },
   "outputs": [
    {
     "data": {
      "text/plain": [
       "[(2, 0.9946721252322801),\n",
       " (3, 0.98054615871903517),\n",
       " (4, 0.94001648505113389),\n",
       " (5, 0.87812697099222081),\n",
       " (6, 0.84360483296519817),\n",
       " (7, 0.81529140390343646),\n",
       " (8, 0.79522202648738505)]"
      ]
     },
     "execution_count": 11,
     "metadata": {},
     "output_type": "execute_result"
    }
   ],
   "source": [
    "#we get the highest silhouette count for k=2\n",
    "count_silhouette"
   ]
  },
  {
   "cell_type": "code",
   "execution_count": 85,
   "metadata": {
    "collapsed": false
   },
   "outputs": [
    {
     "name": "stdout",
     "output_type": "stream",
     "text": [
      "CPU times: user 1.61 s, sys: 469 ms, total: 2.08 s\n",
      "Wall time: 2.09 s\n"
     ]
    },
    {
     "data": {
      "text/plain": [
       "0.79486343266002513"
      ]
     },
     "execution_count": 85,
     "metadata": {},
     "output_type": "execute_result"
    }
   ],
   "source": [
    "km = KMeans(n_clusters=8)\n",
    "%time km.fit(reviewers_useful_allstar)\n",
    "clusters = km.labels_.tolist()\n",
    "silhouette_k8 = silhouette_score(reviewers_useful_allstar[0:10000], clusters[0:10000])\n",
    "silhouette_k8"
   ]
  },
  {
   "cell_type": "code",
   "execution_count": 86,
   "metadata": {
    "collapsed": false
   },
   "outputs": [],
   "source": [
    "reviewers_useful_allstar.loc[:, \"cluster_number\"] = clusters"
   ]
  },
  {
   "cell_type": "code",
   "execution_count": 51,
   "metadata": {
    "collapsed": false
   },
   "outputs": [
    {
     "data": {
      "text/plain": [
       "5    149511\n",
       "0     19944\n",
       "4      1838\n",
       "3       275\n",
       "7        51\n",
       "2        15\n",
       "1         4\n",
       "6         1\n",
       "Name: cluster_number, dtype: int64"
      ]
     },
     "execution_count": 51,
     "metadata": {},
     "output_type": "execute_result"
    }
   ],
   "source": [
    "# len(reviewers_useful_allstar)\n",
    "reviewers_useful_allstar[\"cluster_number\"].value_counts()"
   ]
  },
  {
   "cell_type": "code",
   "execution_count": 49,
   "metadata": {
    "collapsed": false,
    "scrolled": true
   },
   "outputs": [
    {
     "data": {
      "text/plain": [
       "0    1779\n",
       "5     930\n",
       "4     575\n",
       "3     101\n",
       "7      24\n",
       "2       9\n",
       "1       1\n",
       "Name: cluster_number, dtype: int64"
      ]
     },
     "execution_count": 49,
     "metadata": {},
     "output_type": "execute_result"
    }
   ],
   "source": [
    "reviewers_allstar_clusters = reviewers_useful_allstar[(reviewers_useful_allstar[\"q16l\"] == 1.0)]\n",
    "reviewers_allstar_clusters[\"cluster_number\"].value_counts()"
   ]
  },
  {
   "cell_type": "code",
   "execution_count": 52,
   "metadata": {
    "collapsed": false
   },
   "outputs": [
    {
     "data": {
      "text/plain": [
       "5    68358\n",
       "0    19944\n",
       "4     1838\n",
       "3      275\n",
       "7       51\n",
       "2       15\n",
       "1        4\n",
       "6        1\n",
       "Name: cluster_number, dtype: int64"
      ]
     },
     "execution_count": 52,
     "metadata": {},
     "output_type": "execute_result"
    }
   ],
   "source": [
    "reviewers_useful_clusters = reviewers_useful_allstar[(reviewers_useful_allstar[\"q6\"] >= 1.0)]\n",
    "reviewers_useful_clusters[\"cluster_number\"].value_counts()"
   ]
  },
  {
   "cell_type": "code",
   "execution_count": 54,
   "metadata": {
    "collapsed": false,
    "scrolled": true
   },
   "outputs": [
    {
     "data": {
      "text/plain": [
       "4    194\n",
       "3    101\n",
       "7     24\n",
       "2      9\n",
       "1      1\n",
       "Name: cluster_number, dtype: int64"
      ]
     },
     "execution_count": 54,
     "metadata": {},
     "output_type": "execute_result"
    }
   ],
   "source": [
    "reviewers_useful_allstar_clusters = reviewers_useful_allstar[(reviewers_useful_allstar[\"q16l\"] == 1.0) & (reviewers_useful_allstar[\"q6\"] >= 40.0)]\n",
    "reviewers_useful_allstar_clusters[\"cluster_number\"].value_counts()"
   ]
  },
  {
   "cell_type": "code",
   "execution_count": 50,
   "metadata": {
    "collapsed": false,
    "scrolled": true
   },
   "outputs": [
    {
     "data": {
      "text/plain": [
       "15"
      ]
     },
     "execution_count": 50,
     "metadata": {},
     "output_type": "execute_result"
    }
   ],
   "source": [
    "len(reviewers_useful_allstar[reviewers_useful_allstar[\"cluster_number\"]==2])"
   ]
  },
  {
   "cell_type": "code",
   "execution_count": 78,
   "metadata": {
    "collapsed": false
   },
   "outputs": [
    {
     "data": {
      "text/plain": [
       "<matplotlib.text.Text at 0x11aa04c18>"
      ]
     },
     "execution_count": 78,
     "metadata": {},
     "output_type": "execute_result"
    },
    {
     "data": {
      "image/png": "[encoded data removed]",
      "text/plain": [
       "<matplotlib.figure.Figure at 0x119cc7f28>"
      ]
     },
     "metadata": {},
     "output_type": "display_data"
    }
   ],
   "source": [
    "plt.scatter(reviewers_useful_allstar_clusters.q16l, reviewers_useful_allstar_clusters.q6, c=reviewers_useful_allstar_clusters.cluster_number, s=40)\n",
    "plt.title('Petal')"
   ]
  },
  {
   "cell_type": "code",
   "execution_count": null,
   "metadata": {
    "collapsed": false
   },
   "outputs": [],
   "source": [
    "# reviewers_useful_allstar[\"cluster_number\"] = reviewers_useful_allstar[\"cluster_number\"].astype(\"category\")\n",
    "reviewers_useful_allstar.head()"
   ]
  },
  {
   "cell_type": "code",
   "execution_count": 93,
   "metadata": {
    "collapsed": false
   },
   "outputs": [
    {
     "data": {
      "image/png": "[encoded data removed]",
      "text/plain": [
       "<matplotlib.figure.Figure at 0x127a145c0>"
      ]
     },
     "metadata": {},
     "output_type": "display_data"
    }
   ],
   "source": [
    "import seaborn as sns\n",
    "import matplotlib.pyplot as plt\n",
    "%matplotlib inline\n",
    "import warnings\n",
    "import matplotlib.cm as cm\n",
    "sns.stripplot(x=\"q6\", y='q16l', data=reviewers_useful_allstar, jitter=True)\n",
    "sns.despine()"
   ]
  },
  {
   "cell_type": "code",
   "execution_count": 95,
   "metadata": {
    "collapsed": false
   },
   "outputs": [
    {
     "data": {
      "image/png": "[encoded data removed]",
      "text/plain": [
       "<matplotlib.figure.Figure at 0x1251ed5f8>"
      ]
     },
     "metadata": {},
     "output_type": "display_data"
    }
   ],
   "source": [
    "sns.stripplot(x=\"q6\", y='q16l', hue=\"cluster_number\", data=reviewers_useful_allstar, jitter=True)\n",
    "sns.despine()"
   ]
  },
  {
   "cell_type": "code",
   "execution_count": 96,
   "metadata": {
    "collapsed": false
   },
   "outputs": [
    {
     "data": {
      "image/png": "[encoded data removed]",
      "text/plain": [
       "<matplotlib.figure.Figure at 0x11bcd46d8>"
      ]
     },
     "metadata": {},
     "output_type": "display_data"
    }
   ],
   "source": [
    "sns.stripplot(x=\"cluster_number\", y='q6', hue=\"q16l\", data=reviewers_useful_allstar, jitter=True)\n",
    "sns.despine()"
   ]
  },
  {
   "cell_type": "markdown",
   "metadata": {},
   "source": [
    "# Now let's explore by zscore -- does that make a difference? (it doesn't.)"
   ]
  },
  {
   "cell_type": "code",
   "execution_count": 59,
   "metadata": {
    "collapsed": false
   },
   "outputs": [
    {
     "data": {
      "text/html": [
       "<div>\n",
       "<table border=\"1\" class=\"dataframe\">\n",
       "  <thead>\n",
       "    <tr style=\"text-align: right;\">\n",
       "      <th></th>\n",
       "      <th>q6_zscore</th>\n",
       "      <th>q16l_zscore</th>\n",
       "    </tr>\n",
       "  </thead>\n",
       "  <tbody>\n",
       "    <tr>\n",
       "      <th>0</th>\n",
       "      <td>-0.197040</td>\n",
       "      <td>-0.142564</td>\n",
       "    </tr>\n",
       "    <tr>\n",
       "      <th>1</th>\n",
       "      <td>-0.117732</td>\n",
       "      <td>-0.142564</td>\n",
       "    </tr>\n",
       "    <tr>\n",
       "      <th>2</th>\n",
       "      <td>-0.197040</td>\n",
       "      <td>-0.142564</td>\n",
       "    </tr>\n",
       "    <tr>\n",
       "      <th>3</th>\n",
       "      <td>-0.117732</td>\n",
       "      <td>-0.142564</td>\n",
       "    </tr>\n",
       "    <tr>\n",
       "      <th>4</th>\n",
       "      <td>-0.197040</td>\n",
       "      <td>-0.142564</td>\n",
       "    </tr>\n",
       "  </tbody>\n",
       "</table>\n",
       "</div>"
      ],
      "text/plain": [
       "   q6_zscore  q16l_zscore\n",
       "0  -0.197040    -0.142564\n",
       "1  -0.117732    -0.142564\n",
       "2  -0.197040    -0.142564\n",
       "3  -0.117732    -0.142564\n",
       "4  -0.197040    -0.142564"
      ]
     },
     "execution_count": 59,
     "metadata": {},
     "output_type": "execute_result"
    }
   ],
   "source": [
    "reviewers_useful_allstar = reviewers.loc[:, ['q6', 'q16l']]\n",
    "cols = list(reviewers_useful_allstar.columns)\n",
    "\n",
    "reviewers_useful_allstar_zscore = pd.DataFrame()\n",
    "\n",
    "for col in cols:\n",
    "    col_zscore = col + '_zscore'\n",
    "    reviewers_useful_allstar_zscore[col_zscore] = (reviewers_useful_allstar[col] - reviewers_useful_allstar[col].mean())/reviewers_useful_allstar[col].std(ddof=0)\n",
    "len(reviewers_useful_allstar_zscore)\n",
    "reviewers_useful_allstar_zscore.head()"
   ]
  },
  {
   "cell_type": "code",
   "execution_count": 60,
   "metadata": {
    "collapsed": false,
    "scrolled": true
   },
   "outputs": [
    {
     "name": "stdout",
     "output_type": "stream",
     "text": [
      "CPU times: user 395 ms, sys: 23.5 ms, total: 419 ms\n",
      "Wall time: 442 ms\n",
      "CPU times: user 653 ms, sys: 91.9 ms, total: 745 ms\n",
      "Wall time: 765 ms\n",
      "CPU times: user 1.48 s, sys: 301 ms, total: 1.78 s\n",
      "Wall time: 1.83 s\n",
      "CPU times: user 1.83 s, sys: 453 ms, total: 2.28 s\n",
      "Wall time: 2.34 s\n",
      "CPU times: user 1.6 s, sys: 522 ms, total: 2.12 s\n",
      "Wall time: 2.29 s\n",
      "CPU times: user 1.58 s, sys: 534 ms, total: 2.12 s\n",
      "Wall time: 2.1 s\n",
      "CPU times: user 1.84 s, sys: 625 ms, total: 2.47 s\n",
      "Wall time: 2.44 s\n"
     ]
    },
    {
     "data": {
      "text/plain": [
       "[<matplotlib.lines.Line2D at 0x11abe3320>]"
      ]
     },
     "execution_count": 60,
     "metadata": {},
     "output_type": "execute_result"
    },
    {
     "data": {
      "image/png": "[encoded data removed]",
      "text/plain": [
       "<matplotlib.figure.Figure at 0x118fdbf28>"
      ]
     },
     "metadata": {},
     "output_type": "display_data"
    }
   ],
   "source": [
    "silhouette = []\n",
    "for num_clusters in range(2,9):\n",
    "    km = KMeans(n_clusters=num_clusters)\n",
    "    %time km.fit(reviewers_useful_allstar_zscore)\n",
    "    clusters = km.labels_.tolist()\n",
    "    silhouette.append(silhouette_score(reviewers_useful_allstar_zscore[0:15000], clusters[0:15000]))\n",
    "count_k = [2, 3, 4, 5, 6, 7, 8]\n",
    "count_silhouette = list(zip(count_k, silhouette))\n",
    "plt.plot(*zip(*count_silhouette))"
   ]
  },
  {
   "cell_type": "code",
   "execution_count": 65,
   "metadata": {
    "collapsed": false
   },
   "outputs": [],
   "source": [
    "reviewers_useful_allstar_zscore.loc[:, \"cluster_number\"] = clusters\n"
   ]
  },
  {
   "cell_type": "code",
   "execution_count": 67,
   "metadata": {
    "collapsed": false
   },
   "outputs": [
    {
     "data": {
      "text/plain": [
       "3    153016\n",
       "0     14270\n",
       "1      3327\n",
       "7       826\n",
       "4       166\n",
       "6        29\n",
       "2         4\n",
       "5         1\n",
       "Name: cluster_number, dtype: int64"
      ]
     },
     "execution_count": 67,
     "metadata": {},
     "output_type": "execute_result"
    }
   ],
   "source": [
    "reviewers_useful_allstar_zscore[\"cluster_number\"].value_counts()"
   ]
  },
  {
   "cell_type": "code",
   "execution_count": 66,
   "metadata": {
    "collapsed": false
   },
   "outputs": [
    {
     "data": {
      "text/plain": [
       "1    2824\n",
       "4      75\n",
       "6      16\n",
       "2       1\n",
       "Name: cluster_number, dtype: int64"
      ]
     },
     "execution_count": 66,
     "metadata": {},
     "output_type": "execute_result"
    }
   ],
   "source": [
    "reviewers_useful_allstar_clusters_zscore = reviewers_useful_allstar_zscore[(reviewers_useful_allstar_zscore[\"q16l_zscore\"] >= 0) & (reviewers_useful_allstar_zscore[\"q6_zscore\"] >= 0.0)]\n",
    "reviewers_useful_allstar_clusters_zscore[\"cluster_number\"].value_counts()"
   ]
  },
  {
   "cell_type": "markdown",
   "metadata": {},
   "source": [
    "# 9. Bonus question (+15%) - Reviewer overlap: Create a dataset with f reviewers as the rows and business_ids as the columns (there are a lot) where the feature value is is ‘1’ if the reviewer has written a review for that business and ‘0’ if not. Use the methods described in this assignment to answer the question of how much overlap of businesses reviewed exists among reviewers in this dataset. Append this answer to your question 8 document.\n"
   ]
  },
  {
   "cell_type": "code",
   "execution_count": null,
   "metadata": {
    "collapsed": true
   },
   "outputs": [],
   "source": []
  }
 ],
 "metadata": {
  "anaconda-cloud": {},
  "kernelspec": {
   "display_name": "Python [Root]",
   "language": "python",
   "name": "Python [Root]"
  },
  "language_info": {
   "codemirror_mode": {
    "name": "ipython",
    "version": 3
   },
   "file_extension": ".py",
   "mimetype": "text/x-python",
   "name": "python",
   "nbconvert_exporter": "python",
   "pygments_lexer": "ipython3",
   "version": "3.5.2"
  }
 },
 "nbformat": 4,
 "nbformat_minor": 0
}
